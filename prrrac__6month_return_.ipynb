{
 "cells": [
  {
   "cell_type": "code",
   "execution_count": 1,
   "id": "62539177",
   "metadata": {},
   "outputs": [],
   "source": [
    "import warnings\n",
    "warnings.filterwarnings(action='ignore')"
   ]
  },
  {
   "cell_type": "code",
   "execution_count": 2,
   "id": "a207bfc1",
   "metadata": {},
   "outputs": [],
   "source": [
    "import pandas as pd\n",
    "import numpy as np\n",
    "import matplotlib.pyplot as plt\n",
    "import seaborn as sns"
   ]
  },
  {
   "cell_type": "code",
   "execution_count": 3,
   "id": "632395a8",
   "metadata": {},
   "outputs": [],
   "source": [
    "from konlpy.tag import Okt\n",
    "okt= Okt()"
   ]
  },
  {
   "cell_type": "code",
   "execution_count": 4,
   "id": "b25b6dfe",
   "metadata": {},
   "outputs": [
    {
     "data": {
      "text/html": [
       "<div>\n",
       "<style scoped>\n",
       "    .dataframe tbody tr th:only-of-type {\n",
       "        vertical-align: middle;\n",
       "    }\n",
       "\n",
       "    .dataframe tbody tr th {\n",
       "        vertical-align: top;\n",
       "    }\n",
       "\n",
       "    .dataframe thead th {\n",
       "        text-align: right;\n",
       "    }\n",
       "</style>\n",
       "<table border=\"1\" class=\"dataframe\">\n",
       "  <thead>\n",
       "    <tr style=\"text-align: right;\">\n",
       "      <th></th>\n",
       "      <th>작성일</th>\n",
       "      <th>개장일</th>\n",
       "      <th>Market</th>\n",
       "      <th>Name</th>\n",
       "      <th>code</th>\n",
       "      <th>Sector</th>\n",
       "      <th>adjusted_Open</th>\n",
       "      <th>adjusted_Close</th>\n",
       "      <th>report_Open</th>\n",
       "      <th>report_Close</th>\n",
       "      <th>괴리율</th>\n",
       "      <th>adjusted_TargetPrice</th>\n",
       "      <th>report_TargetPrice</th>\n",
       "      <th>액면비율</th>\n",
       "      <th>Index_return_6</th>\n",
       "      <th>Index_return_1Y</th>\n",
       "      <th>6month_개장일</th>\n",
       "      <th>6month_return_index</th>\n",
       "      <th>6month_return</th>\n",
       "      <th>6month_log_return</th>\n",
       "      <th>6month_Close</th>\n",
       "      <th>1year_개장일</th>\n",
       "      <th>1Year_return_index</th>\n",
       "      <th>1Year_return</th>\n",
       "      <th>1Year_log_return</th>\n",
       "      <th>1Year_Close</th>\n",
       "      <th>투자의견</th>\n",
       "      <th>idx</th>\n",
       "      <th>작성자</th>\n",
       "      <th>제공출처</th>\n",
       "    </tr>\n",
       "  </thead>\n",
       "  <tbody>\n",
       "    <tr>\n",
       "      <th>0</th>\n",
       "      <td>2018-04-18</td>\n",
       "      <td>2018-04-18</td>\n",
       "      <td>^KS11</td>\n",
       "      <td>한화생명</td>\n",
       "      <td>088350</td>\n",
       "      <td>보험업</td>\n",
       "      <td>6160.0</td>\n",
       "      <td>6160.0</td>\n",
       "      <td>6160</td>\n",
       "      <td>6160</td>\n",
       "      <td>0.785714</td>\n",
       "      <td>11000.00000</td>\n",
       "      <td>11000</td>\n",
       "      <td>1.000000</td>\n",
       "      <td>-0.135025</td>\n",
       "      <td>-0.107344</td>\n",
       "      <td>2018-10-15</td>\n",
       "      <td>-0.104423</td>\n",
       "      <td>-0.239448</td>\n",
       "      <td>-0.273711</td>\n",
       "      <td>4685.0</td>\n",
       "      <td>2019-04-18</td>\n",
       "      <td>-0.248988</td>\n",
       "      <td>-0.356331</td>\n",
       "      <td>-0.440571</td>\n",
       "      <td>3965.0</td>\n",
       "      <td>buy</td>\n",
       "      <td>473108</td>\n",
       "      <td>박혜진</td>\n",
       "      <td>이베스트증권</td>\n",
       "    </tr>\n",
       "    <tr>\n",
       "      <th>1</th>\n",
       "      <td>2018-05-31</td>\n",
       "      <td>2018-05-31</td>\n",
       "      <td>^KS11</td>\n",
       "      <td>한화생명</td>\n",
       "      <td>088350</td>\n",
       "      <td>보험업</td>\n",
       "      <td>5740.0</td>\n",
       "      <td>5570.0</td>\n",
       "      <td>5740</td>\n",
       "      <td>5570</td>\n",
       "      <td>0.620209</td>\n",
       "      <td>9300.00000</td>\n",
       "      <td>9300</td>\n",
       "      <td>1.000000</td>\n",
       "      <td>-0.133549</td>\n",
       "      <td>-0.157354</td>\n",
       "      <td>2018-11-27</td>\n",
       "      <td>-0.080096</td>\n",
       "      <td>-0.213645</td>\n",
       "      <td>-0.240346</td>\n",
       "      <td>4380.0</td>\n",
       "      <td>2019-05-31</td>\n",
       "      <td>-0.266345</td>\n",
       "      <td>-0.423698</td>\n",
       "      <td>-0.551124</td>\n",
       "      <td>3210.0</td>\n",
       "      <td>buy</td>\n",
       "      <td>479661</td>\n",
       "      <td>성용훈</td>\n",
       "      <td>한화투자증권</td>\n",
       "    </tr>\n",
       "    <tr>\n",
       "      <th>2</th>\n",
       "      <td>2018-09-18</td>\n",
       "      <td>2018-09-18</td>\n",
       "      <td>^KS11</td>\n",
       "      <td>한화생명</td>\n",
       "      <td>088350</td>\n",
       "      <td>보험업</td>\n",
       "      <td>4880.0</td>\n",
       "      <td>4860.0</td>\n",
       "      <td>4880</td>\n",
       "      <td>4860</td>\n",
       "      <td>0.229508</td>\n",
       "      <td>6000.00000</td>\n",
       "      <td>6000</td>\n",
       "      <td>1.000000</td>\n",
       "      <td>-0.057545</td>\n",
       "      <td>-0.103184</td>\n",
       "      <td>2019-03-15</td>\n",
       "      <td>-0.077229</td>\n",
       "      <td>-0.134774</td>\n",
       "      <td>-0.144764</td>\n",
       "      <td>4205.0</td>\n",
       "      <td>2019-09-18</td>\n",
       "      <td>-0.362865</td>\n",
       "      <td>-0.466049</td>\n",
       "      <td>-0.627452</td>\n",
       "      <td>2595.0</td>\n",
       "      <td>buy</td>\n",
       "      <td>493832</td>\n",
       "      <td>김지영</td>\n",
       "      <td>교보증권</td>\n",
       "    </tr>\n",
       "    <tr>\n",
       "      <th>3</th>\n",
       "      <td>2021-02-19</td>\n",
       "      <td>2021-02-19</td>\n",
       "      <td>^KS11</td>\n",
       "      <td>한화생명</td>\n",
       "      <td>088350</td>\n",
       "      <td>보험업</td>\n",
       "      <td>3120.0</td>\n",
       "      <td>3230.0</td>\n",
       "      <td>3120</td>\n",
       "      <td>3230</td>\n",
       "      <td>0.121795</td>\n",
       "      <td>3500.00000</td>\n",
       "      <td>3500</td>\n",
       "      <td>1.000000</td>\n",
       "      <td>0.016511</td>\n",
       "      <td>NaN</td>\n",
       "      <td>2021-08-18</td>\n",
       "      <td>0.026833</td>\n",
       "      <td>0.043344</td>\n",
       "      <td>0.042431</td>\n",
       "      <td>3370.0</td>\n",
       "      <td>2022-02-18</td>\n",
       "      <td>NaN</td>\n",
       "      <td>NaN</td>\n",
       "      <td>NaN</td>\n",
       "      <td>NaN</td>\n",
       "      <td>buy</td>\n",
       "      <td>583203</td>\n",
       "      <td>정태준</td>\n",
       "      <td>유안타증권</td>\n",
       "    </tr>\n",
       "    <tr>\n",
       "      <th>4</th>\n",
       "      <td>2012-11-09</td>\n",
       "      <td>2012-11-09</td>\n",
       "      <td>^KS11</td>\n",
       "      <td>한화생명</td>\n",
       "      <td>088350</td>\n",
       "      <td>보험업</td>\n",
       "      <td>7410.0</td>\n",
       "      <td>7330.0</td>\n",
       "      <td>7410</td>\n",
       "      <td>7330</td>\n",
       "      <td>0.214575</td>\n",
       "      <td>9000.00000</td>\n",
       "      <td>9000</td>\n",
       "      <td>1.000000</td>\n",
       "      <td>0.027326</td>\n",
       "      <td>0.042249</td>\n",
       "      <td>2013-05-08</td>\n",
       "      <td>-0.102360</td>\n",
       "      <td>-0.075034</td>\n",
       "      <td>-0.077998</td>\n",
       "      <td>6780.0</td>\n",
       "      <td>2013-11-08</td>\n",
       "      <td>-0.139111</td>\n",
       "      <td>-0.096862</td>\n",
       "      <td>-0.101880</td>\n",
       "      <td>6620.0</td>\n",
       "      <td>buy</td>\n",
       "      <td>293653</td>\n",
       "      <td>이치영</td>\n",
       "      <td>이트레이드증권</td>\n",
       "    </tr>\n",
       "    <tr>\n",
       "      <th>...</th>\n",
       "      <td>...</td>\n",
       "      <td>...</td>\n",
       "      <td>...</td>\n",
       "      <td>...</td>\n",
       "      <td>...</td>\n",
       "      <td>...</td>\n",
       "      <td>...</td>\n",
       "      <td>...</td>\n",
       "      <td>...</td>\n",
       "      <td>...</td>\n",
       "      <td>...</td>\n",
       "      <td>...</td>\n",
       "      <td>...</td>\n",
       "      <td>...</td>\n",
       "      <td>...</td>\n",
       "      <td>...</td>\n",
       "      <td>...</td>\n",
       "      <td>...</td>\n",
       "      <td>...</td>\n",
       "      <td>...</td>\n",
       "      <td>...</td>\n",
       "      <td>...</td>\n",
       "      <td>...</td>\n",
       "      <td>...</td>\n",
       "      <td>...</td>\n",
       "      <td>...</td>\n",
       "      <td>...</td>\n",
       "      <td>...</td>\n",
       "      <td>...</td>\n",
       "      <td>...</td>\n",
       "    </tr>\n",
       "    <tr>\n",
       "      <th>20288</th>\n",
       "      <td>2015-03-17</td>\n",
       "      <td>2015-03-17</td>\n",
       "      <td>^KS11</td>\n",
       "      <td>사조산업</td>\n",
       "      <td>007160</td>\n",
       "      <td>어로 어업</td>\n",
       "      <td>79600.0</td>\n",
       "      <td>78500.0</td>\n",
       "      <td>79600</td>\n",
       "      <td>78500</td>\n",
       "      <td>1.010050</td>\n",
       "      <td>160000.00000</td>\n",
       "      <td>160000</td>\n",
       "      <td>1.000000</td>\n",
       "      <td>-0.043618</td>\n",
       "      <td>-0.027100</td>\n",
       "      <td>2015-09-11</td>\n",
       "      <td>0.057630</td>\n",
       "      <td>0.014013</td>\n",
       "      <td>0.013915</td>\n",
       "      <td>79600.0</td>\n",
       "      <td>2016-03-16</td>\n",
       "      <td>-0.158888</td>\n",
       "      <td>-0.185987</td>\n",
       "      <td>-0.205779</td>\n",
       "      <td>63900.0</td>\n",
       "      <td>strongbuy</td>\n",
       "      <td>345498</td>\n",
       "      <td>김승</td>\n",
       "      <td>SK증권</td>\n",
       "    </tr>\n",
       "    <tr>\n",
       "      <th>20289</th>\n",
       "      <td>2015-06-12</td>\n",
       "      <td>2015-06-12</td>\n",
       "      <td>^KS11</td>\n",
       "      <td>까뮤이앤씨</td>\n",
       "      <td>013700</td>\n",
       "      <td>건물 건설업</td>\n",
       "      <td>1245.0</td>\n",
       "      <td>1235.0</td>\n",
       "      <td>12450</td>\n",
       "      <td>12350</td>\n",
       "      <td>0.927711</td>\n",
       "      <td>2400.00000</td>\n",
       "      <td>24000</td>\n",
       "      <td>0.100000</td>\n",
       "      <td>-0.050644</td>\n",
       "      <td>-0.016831</td>\n",
       "      <td>2015-12-09</td>\n",
       "      <td>0.046595</td>\n",
       "      <td>-0.004049</td>\n",
       "      <td>-0.004057</td>\n",
       "      <td>1230.0</td>\n",
       "      <td>2016-06-10</td>\n",
       "      <td>0.020880</td>\n",
       "      <td>0.004049</td>\n",
       "      <td>0.004040</td>\n",
       "      <td>1240.0</td>\n",
       "      <td>strongbuy</td>\n",
       "      <td>353325</td>\n",
       "      <td>이태경,한기현</td>\n",
       "      <td>현대증권</td>\n",
       "    </tr>\n",
       "    <tr>\n",
       "      <th>20290</th>\n",
       "      <td>2015-06-01</td>\n",
       "      <td>2015-06-01</td>\n",
       "      <td>^KQ11</td>\n",
       "      <td>서전기전</td>\n",
       "      <td>189860</td>\n",
       "      <td>전동기, 발전기 및 전기 변환 · 공급 · 제어 장치 제조업</td>\n",
       "      <td>6425.0</td>\n",
       "      <td>6675.0</td>\n",
       "      <td>12850</td>\n",
       "      <td>13350</td>\n",
       "      <td>0.867704</td>\n",
       "      <td>12000.00000</td>\n",
       "      <td>24000</td>\n",
       "      <td>0.500000</td>\n",
       "      <td>-0.030067</td>\n",
       "      <td>-0.024143</td>\n",
       "      <td>2015-11-27</td>\n",
       "      <td>-0.289034</td>\n",
       "      <td>-0.319101</td>\n",
       "      <td>-0.384341</td>\n",
       "      <td>4545.0</td>\n",
       "      <td>2016-05-31</td>\n",
       "      <td>-0.461999</td>\n",
       "      <td>-0.486142</td>\n",
       "      <td>-0.665809</td>\n",
       "      <td>3430.0</td>\n",
       "      <td>strongbuy</td>\n",
       "      <td>352285</td>\n",
       "      <td>이상우</td>\n",
       "      <td>유진투자증권</td>\n",
       "    </tr>\n",
       "    <tr>\n",
       "      <th>20291</th>\n",
       "      <td>2015-03-17</td>\n",
       "      <td>2015-03-17</td>\n",
       "      <td>^KQ11</td>\n",
       "      <td>서전기전</td>\n",
       "      <td>189860</td>\n",
       "      <td>전동기, 발전기 및 전기 변환 · 공급 · 제어 장치 제조업</td>\n",
       "      <td>6750.0</td>\n",
       "      <td>7075.0</td>\n",
       "      <td>13500</td>\n",
       "      <td>14150</td>\n",
       "      <td>0.777778</td>\n",
       "      <td>12000.00000</td>\n",
       "      <td>24000</td>\n",
       "      <td>0.500000</td>\n",
       "      <td>0.053172</td>\n",
       "      <td>0.090229</td>\n",
       "      <td>2015-09-11</td>\n",
       "      <td>-0.279320</td>\n",
       "      <td>-0.226148</td>\n",
       "      <td>-0.256375</td>\n",
       "      <td>5475.0</td>\n",
       "      <td>2016-03-16</td>\n",
       "      <td>-0.582808</td>\n",
       "      <td>-0.492580</td>\n",
       "      <td>-0.678415</td>\n",
       "      <td>3590.0</td>\n",
       "      <td>strongbuy</td>\n",
       "      <td>345568</td>\n",
       "      <td>이상우</td>\n",
       "      <td>유진투자증권</td>\n",
       "    </tr>\n",
       "    <tr>\n",
       "      <th>20292</th>\n",
       "      <td>2014-07-14</td>\n",
       "      <td>2014-07-14</td>\n",
       "      <td>^KQ11</td>\n",
       "      <td>협진</td>\n",
       "      <td>138360</td>\n",
       "      <td>기타 화학제품 제조업</td>\n",
       "      <td>5386.0</td>\n",
       "      <td>5386.0</td>\n",
       "      <td>16100</td>\n",
       "      <td>16100</td>\n",
       "      <td>0.565217</td>\n",
       "      <td>8430.26087</td>\n",
       "      <td>25200</td>\n",
       "      <td>0.334534</td>\n",
       "      <td>0.020463</td>\n",
       "      <td>0.348388</td>\n",
       "      <td>2015-01-09</td>\n",
       "      <td>-0.122951</td>\n",
       "      <td>-0.102488</td>\n",
       "      <td>-0.108129</td>\n",
       "      <td>4834.0</td>\n",
       "      <td>2015-07-14</td>\n",
       "      <td>0.446636</td>\n",
       "      <td>0.795024</td>\n",
       "      <td>0.585018</td>\n",
       "      <td>9668.0</td>\n",
       "      <td>strongbuy</td>\n",
       "      <td>328374</td>\n",
       "      <td>최소은</td>\n",
       "      <td>이트레이드증권</td>\n",
       "    </tr>\n",
       "  </tbody>\n",
       "</table>\n",
       "<p>20196 rows × 30 columns</p>\n",
       "</div>"
      ],
      "text/plain": [
       "              작성일         개장일 Market   Name    code  \\\n",
       "0      2018-04-18  2018-04-18  ^KS11   한화생명  088350   \n",
       "1      2018-05-31  2018-05-31  ^KS11   한화생명  088350   \n",
       "2      2018-09-18  2018-09-18  ^KS11   한화생명  088350   \n",
       "3      2021-02-19  2021-02-19  ^KS11   한화생명  088350   \n",
       "4      2012-11-09  2012-11-09  ^KS11   한화생명  088350   \n",
       "...           ...         ...    ...    ...     ...   \n",
       "20288  2015-03-17  2015-03-17  ^KS11   사조산업  007160   \n",
       "20289  2015-06-12  2015-06-12  ^KS11  까뮤이앤씨  013700   \n",
       "20290  2015-06-01  2015-06-01  ^KQ11   서전기전  189860   \n",
       "20291  2015-03-17  2015-03-17  ^KQ11   서전기전  189860   \n",
       "20292  2014-07-14  2014-07-14  ^KQ11     협진  138360   \n",
       "\n",
       "                                  Sector  adjusted_Open  adjusted_Close  \\\n",
       "0                                    보험업         6160.0          6160.0   \n",
       "1                                    보험업         5740.0          5570.0   \n",
       "2                                    보험업         4880.0          4860.0   \n",
       "3                                    보험업         3120.0          3230.0   \n",
       "4                                    보험업         7410.0          7330.0   \n",
       "...                                  ...            ...             ...   \n",
       "20288                              어로 어업        79600.0         78500.0   \n",
       "20289                             건물 건설업         1245.0          1235.0   \n",
       "20290  전동기, 발전기 및 전기 변환 · 공급 · 제어 장치 제조업         6425.0          6675.0   \n",
       "20291  전동기, 발전기 및 전기 변환 · 공급 · 제어 장치 제조업         6750.0          7075.0   \n",
       "20292                        기타 화학제품 제조업         5386.0          5386.0   \n",
       "\n",
       "       report_Open  report_Close       괴리율  adjusted_TargetPrice  \\\n",
       "0             6160          6160  0.785714           11000.00000   \n",
       "1             5740          5570  0.620209            9300.00000   \n",
       "2             4880          4860  0.229508            6000.00000   \n",
       "3             3120          3230  0.121795            3500.00000   \n",
       "4             7410          7330  0.214575            9000.00000   \n",
       "...            ...           ...       ...                   ...   \n",
       "20288        79600         78500  1.010050          160000.00000   \n",
       "20289        12450         12350  0.927711            2400.00000   \n",
       "20290        12850         13350  0.867704           12000.00000   \n",
       "20291        13500         14150  0.777778           12000.00000   \n",
       "20292        16100         16100  0.565217            8430.26087   \n",
       "\n",
       "       report_TargetPrice      액면비율  Index_return_6  Index_return_1Y  \\\n",
       "0                   11000  1.000000       -0.135025        -0.107344   \n",
       "1                    9300  1.000000       -0.133549        -0.157354   \n",
       "2                    6000  1.000000       -0.057545        -0.103184   \n",
       "3                    3500  1.000000        0.016511              NaN   \n",
       "4                    9000  1.000000        0.027326         0.042249   \n",
       "...                   ...       ...             ...              ...   \n",
       "20288              160000  1.000000       -0.043618        -0.027100   \n",
       "20289               24000  0.100000       -0.050644        -0.016831   \n",
       "20290               24000  0.500000       -0.030067        -0.024143   \n",
       "20291               24000  0.500000        0.053172         0.090229   \n",
       "20292               25200  0.334534        0.020463         0.348388   \n",
       "\n",
       "       6month_개장일  6month_return_index  6month_return  6month_log_return  \\\n",
       "0      2018-10-15            -0.104423      -0.239448          -0.273711   \n",
       "1      2018-11-27            -0.080096      -0.213645          -0.240346   \n",
       "2      2019-03-15            -0.077229      -0.134774          -0.144764   \n",
       "3      2021-08-18             0.026833       0.043344           0.042431   \n",
       "4      2013-05-08            -0.102360      -0.075034          -0.077998   \n",
       "...           ...                  ...            ...                ...   \n",
       "20288  2015-09-11             0.057630       0.014013           0.013915   \n",
       "20289  2015-12-09             0.046595      -0.004049          -0.004057   \n",
       "20290  2015-11-27            -0.289034      -0.319101          -0.384341   \n",
       "20291  2015-09-11            -0.279320      -0.226148          -0.256375   \n",
       "20292  2015-01-09            -0.122951      -0.102488          -0.108129   \n",
       "\n",
       "       6month_Close   1year_개장일  1Year_return_index  1Year_return  \\\n",
       "0            4685.0  2019-04-18           -0.248988     -0.356331   \n",
       "1            4380.0  2019-05-31           -0.266345     -0.423698   \n",
       "2            4205.0  2019-09-18           -0.362865     -0.466049   \n",
       "3            3370.0  2022-02-18                 NaN           NaN   \n",
       "4            6780.0  2013-11-08           -0.139111     -0.096862   \n",
       "...             ...         ...                 ...           ...   \n",
       "20288       79600.0  2016-03-16           -0.158888     -0.185987   \n",
       "20289        1230.0  2016-06-10            0.020880      0.004049   \n",
       "20290        4545.0  2016-05-31           -0.461999     -0.486142   \n",
       "20291        5475.0  2016-03-16           -0.582808     -0.492580   \n",
       "20292        4834.0  2015-07-14            0.446636      0.795024   \n",
       "\n",
       "       1Year_log_return  1Year_Close       투자의견     idx      작성자     제공출처  \n",
       "0             -0.440571       3965.0        buy  473108      박혜진   이베스트증권  \n",
       "1             -0.551124       3210.0        buy  479661      성용훈   한화투자증권  \n",
       "2             -0.627452       2595.0        buy  493832      김지영     교보증권  \n",
       "3                   NaN          NaN        buy  583203      정태준    유안타증권  \n",
       "4             -0.101880       6620.0        buy  293653      이치영  이트레이드증권  \n",
       "...                 ...          ...        ...     ...      ...      ...  \n",
       "20288         -0.205779      63900.0  strongbuy  345498       김승     SK증권  \n",
       "20289          0.004040       1240.0  strongbuy  353325  이태경,한기현     현대증권  \n",
       "20290         -0.665809       3430.0  strongbuy  352285      이상우   유진투자증권  \n",
       "20291         -0.678415       3590.0  strongbuy  345568      이상우   유진투자증권  \n",
       "20292          0.585018       9668.0  strongbuy  328374      최소은  이트레이드증권  \n",
       "\n",
       "[20196 rows x 30 columns]"
      ]
     },
     "execution_count": 4,
     "metadata": {},
     "output_type": "execute_result"
    }
   ],
   "source": [
    "pd.set_option('display.max_columns', None)\n",
    "df1 = pd.read_csv('standard_df_final.csv',index_col = 0)\n",
    "df1['code'] = df1.code.apply(lambda x : str(x).zfill(6))\n",
    "df1['Index_return_6'] = df1['Index_return_6']/100\n",
    "df1['Index_return_1Y'] = df1['Index_return_1Y']/100\n",
    "df1.insert(17, '6month_return_index', df1['6month_return'] - df1['Index_return_6'])\n",
    "df1.insert(22, '1Year_return_index', df1['1Year_return'] - df1['Index_return_1Y'])\n",
    "df1"
   ]
  },
  {
   "cell_type": "code",
   "execution_count": 7,
   "id": "dc0ecf6b",
   "metadata": {},
   "outputs": [],
   "source": [
    "df_temp = df1[['6month_return_index', '6month_return',\n",
    "       '6month_log_return', '1Year_return_index',\n",
    "       '1Year_return', '1Year_log_return','투자의견','idx']]"
   ]
  },
  {
   "cell_type": "code",
   "execution_count": 8,
   "id": "87f8fc46",
   "metadata": {},
   "outputs": [
    {
     "data": {
      "text/html": [
       "<div>\n",
       "<style scoped>\n",
       "    .dataframe tbody tr th:only-of-type {\n",
       "        vertical-align: middle;\n",
       "    }\n",
       "\n",
       "    .dataframe tbody tr th {\n",
       "        vertical-align: top;\n",
       "    }\n",
       "\n",
       "    .dataframe thead th {\n",
       "        text-align: right;\n",
       "    }\n",
       "</style>\n",
       "<table border=\"1\" class=\"dataframe\">\n",
       "  <thead>\n",
       "    <tr style=\"text-align: right;\">\n",
       "      <th></th>\n",
       "      <th>6month_return_index</th>\n",
       "      <th>6month_return</th>\n",
       "      <th>6month_log_return</th>\n",
       "      <th>1Year_return_index</th>\n",
       "      <th>1Year_return</th>\n",
       "      <th>1Year_log_return</th>\n",
       "      <th>투자의견</th>\n",
       "      <th>idx</th>\n",
       "    </tr>\n",
       "  </thead>\n",
       "  <tbody>\n",
       "    <tr>\n",
       "      <th>0</th>\n",
       "      <td>-0.104423</td>\n",
       "      <td>-0.239448</td>\n",
       "      <td>-0.273711</td>\n",
       "      <td>-0.248988</td>\n",
       "      <td>-0.356331</td>\n",
       "      <td>-0.440571</td>\n",
       "      <td>buy</td>\n",
       "      <td>473108</td>\n",
       "    </tr>\n",
       "    <tr>\n",
       "      <th>1</th>\n",
       "      <td>-0.080096</td>\n",
       "      <td>-0.213645</td>\n",
       "      <td>-0.240346</td>\n",
       "      <td>-0.266345</td>\n",
       "      <td>-0.423698</td>\n",
       "      <td>-0.551124</td>\n",
       "      <td>buy</td>\n",
       "      <td>479661</td>\n",
       "    </tr>\n",
       "    <tr>\n",
       "      <th>2</th>\n",
       "      <td>-0.077229</td>\n",
       "      <td>-0.134774</td>\n",
       "      <td>-0.144764</td>\n",
       "      <td>-0.362865</td>\n",
       "      <td>-0.466049</td>\n",
       "      <td>-0.627452</td>\n",
       "      <td>buy</td>\n",
       "      <td>493832</td>\n",
       "    </tr>\n",
       "    <tr>\n",
       "      <th>4</th>\n",
       "      <td>-0.102360</td>\n",
       "      <td>-0.075034</td>\n",
       "      <td>-0.077998</td>\n",
       "      <td>-0.139111</td>\n",
       "      <td>-0.096862</td>\n",
       "      <td>-0.101880</td>\n",
       "      <td>buy</td>\n",
       "      <td>293653</td>\n",
       "    </tr>\n",
       "    <tr>\n",
       "      <th>5</th>\n",
       "      <td>-0.175222</td>\n",
       "      <td>-0.016224</td>\n",
       "      <td>-0.016357</td>\n",
       "      <td>-0.193884</td>\n",
       "      <td>0.084071</td>\n",
       "      <td>0.080723</td>\n",
       "      <td>buy</td>\n",
       "      <td>400398</td>\n",
       "    </tr>\n",
       "    <tr>\n",
       "      <th>...</th>\n",
       "      <td>...</td>\n",
       "      <td>...</td>\n",
       "      <td>...</td>\n",
       "      <td>...</td>\n",
       "      <td>...</td>\n",
       "      <td>...</td>\n",
       "      <td>...</td>\n",
       "      <td>...</td>\n",
       "    </tr>\n",
       "    <tr>\n",
       "      <th>20288</th>\n",
       "      <td>0.057630</td>\n",
       "      <td>0.014013</td>\n",
       "      <td>0.013915</td>\n",
       "      <td>-0.158888</td>\n",
       "      <td>-0.185987</td>\n",
       "      <td>-0.205779</td>\n",
       "      <td>strongbuy</td>\n",
       "      <td>345498</td>\n",
       "    </tr>\n",
       "    <tr>\n",
       "      <th>20289</th>\n",
       "      <td>0.046595</td>\n",
       "      <td>-0.004049</td>\n",
       "      <td>-0.004057</td>\n",
       "      <td>0.020880</td>\n",
       "      <td>0.004049</td>\n",
       "      <td>0.004040</td>\n",
       "      <td>strongbuy</td>\n",
       "      <td>353325</td>\n",
       "    </tr>\n",
       "    <tr>\n",
       "      <th>20290</th>\n",
       "      <td>-0.289034</td>\n",
       "      <td>-0.319101</td>\n",
       "      <td>-0.384341</td>\n",
       "      <td>-0.461999</td>\n",
       "      <td>-0.486142</td>\n",
       "      <td>-0.665809</td>\n",
       "      <td>strongbuy</td>\n",
       "      <td>352285</td>\n",
       "    </tr>\n",
       "    <tr>\n",
       "      <th>20291</th>\n",
       "      <td>-0.279320</td>\n",
       "      <td>-0.226148</td>\n",
       "      <td>-0.256375</td>\n",
       "      <td>-0.582808</td>\n",
       "      <td>-0.492580</td>\n",
       "      <td>-0.678415</td>\n",
       "      <td>strongbuy</td>\n",
       "      <td>345568</td>\n",
       "    </tr>\n",
       "    <tr>\n",
       "      <th>20292</th>\n",
       "      <td>-0.122951</td>\n",
       "      <td>-0.102488</td>\n",
       "      <td>-0.108129</td>\n",
       "      <td>0.446636</td>\n",
       "      <td>0.795024</td>\n",
       "      <td>0.585018</td>\n",
       "      <td>strongbuy</td>\n",
       "      <td>328374</td>\n",
       "    </tr>\n",
       "  </tbody>\n",
       "</table>\n",
       "<p>18779 rows × 8 columns</p>\n",
       "</div>"
      ],
      "text/plain": [
       "       6month_return_index  6month_return  6month_log_return  \\\n",
       "0                -0.104423      -0.239448          -0.273711   \n",
       "1                -0.080096      -0.213645          -0.240346   \n",
       "2                -0.077229      -0.134774          -0.144764   \n",
       "4                -0.102360      -0.075034          -0.077998   \n",
       "5                -0.175222      -0.016224          -0.016357   \n",
       "...                    ...            ...                ...   \n",
       "20288             0.057630       0.014013           0.013915   \n",
       "20289             0.046595      -0.004049          -0.004057   \n",
       "20290            -0.289034      -0.319101          -0.384341   \n",
       "20291            -0.279320      -0.226148          -0.256375   \n",
       "20292            -0.122951      -0.102488          -0.108129   \n",
       "\n",
       "       1Year_return_index  1Year_return  1Year_log_return       투자의견     idx  \n",
       "0               -0.248988     -0.356331         -0.440571        buy  473108  \n",
       "1               -0.266345     -0.423698         -0.551124        buy  479661  \n",
       "2               -0.362865     -0.466049         -0.627452        buy  493832  \n",
       "4               -0.139111     -0.096862         -0.101880        buy  293653  \n",
       "5               -0.193884      0.084071          0.080723        buy  400398  \n",
       "...                   ...           ...               ...        ...     ...  \n",
       "20288           -0.158888     -0.185987         -0.205779  strongbuy  345498  \n",
       "20289            0.020880      0.004049          0.004040  strongbuy  353325  \n",
       "20290           -0.461999     -0.486142         -0.665809  strongbuy  352285  \n",
       "20291           -0.582808     -0.492580         -0.678415  strongbuy  345568  \n",
       "20292            0.446636      0.795024          0.585018  strongbuy  328374  \n",
       "\n",
       "[18779 rows x 8 columns]"
      ]
     },
     "execution_count": 8,
     "metadata": {},
     "output_type": "execute_result"
    }
   ],
   "source": [
    "df_temp.dropna(axis=0,inplace=True)\n",
    "df_temp"
   ]
  },
  {
   "cell_type": "code",
   "execution_count": 9,
   "id": "d46dcfdf",
   "metadata": {},
   "outputs": [],
   "source": [
    "temp_list = df_temp.idx.tolist()"
   ]
  },
  {
   "cell_type": "code",
   "execution_count": 10,
   "id": "8b6d6238",
   "metadata": {},
   "outputs": [
    {
     "data": {
      "text/plain": [
       "18779"
      ]
     },
     "execution_count": 10,
     "metadata": {},
     "output_type": "execute_result"
    }
   ],
   "source": [
    "len(temp_list)"
   ]
  },
  {
   "cell_type": "code",
   "execution_count": 11,
   "id": "31aa765c",
   "metadata": {},
   "outputs": [],
   "source": [
    "df = pd.read_csv('sample_report_token_okt_khaiii.csv',index_col=0)\n",
    "df = df.set_index('idx')\n",
    "df.dropna(inplace=True)"
   ]
  },
  {
   "cell_type": "code",
   "execution_count": 12,
   "id": "d30b397a",
   "metadata": {},
   "outputs": [],
   "source": [
    "df_aim=pd.merge(df_temp, df, how='inner', on='idx')\n",
    "df_aim.drop(['투자의견_x','code','idx.1','작성일'],axis=1,inplace=True)\n",
    "df_aim.rename(columns={'투자의견_y':'투자의견'},inplace=True)"
   ]
  },
  {
   "cell_type": "code",
   "execution_count": 72,
   "id": "4d9a5ff7",
   "metadata": {
    "scrolled": true
   },
   "outputs": [
    {
     "data": {
      "text/html": [
       "<div>\n",
       "<style scoped>\n",
       "    .dataframe tbody tr th:only-of-type {\n",
       "        vertical-align: middle;\n",
       "    }\n",
       "\n",
       "    .dataframe tbody tr th {\n",
       "        vertical-align: top;\n",
       "    }\n",
       "\n",
       "    .dataframe thead th {\n",
       "        text-align: right;\n",
       "    }\n",
       "</style>\n",
       "<table border=\"1\" class=\"dataframe\">\n",
       "  <thead>\n",
       "    <tr style=\"text-align: right;\">\n",
       "      <th></th>\n",
       "      <th>6month_return_index</th>\n",
       "      <th>6month_return</th>\n",
       "      <th>6month_log_return</th>\n",
       "      <th>1Year_return_index</th>\n",
       "      <th>1Year_return</th>\n",
       "      <th>1Year_log_return</th>\n",
       "      <th>idx</th>\n",
       "      <th>투자의견</th>\n",
       "      <th>report</th>\n",
       "      <th>okt_tokens</th>\n",
       "      <th>khaiii_tokens</th>\n",
       "    </tr>\n",
       "  </thead>\n",
       "  <tbody>\n",
       "    <tr>\n",
       "      <th>0</th>\n",
       "      <td>-0.104423</td>\n",
       "      <td>-0.239448</td>\n",
       "      <td>-0.273711</td>\n",
       "      <td>-0.248988</td>\n",
       "      <td>-0.356331</td>\n",
       "      <td>-0.440571</td>\n",
       "      <td>473108</td>\n",
       "      <td>buy</td>\n",
       "      <td>년 월 일 기업분석건설유틸리티 한화생명  기업이슈 브리프보험  년 월 일 ...</td>\n",
       "      <td>['건설', '유틸리티', '생명', '이슈', '브리프', '보험', '조원', ...</td>\n",
       "      <td>년 월 일 기업 분석 건설유틸리티 한화생 명 기업 이슈 브리프보험 년 월 일 조원 ...</td>\n",
       "    </tr>\n",
       "    <tr>\n",
       "      <th>1</th>\n",
       "      <td>-0.080096</td>\n",
       "      <td>-0.213645</td>\n",
       "      <td>-0.240346</td>\n",
       "      <td>-0.266345</td>\n",
       "      <td>-0.423698</td>\n",
       "      <td>-0.551124</td>\n",
       "      <td>479661</td>\n",
       "      <td>buy</td>\n",
       "      <td>년 월 일 기업분석    한화생명  시점은 불확실하나 Upside risk는 가장 ...</td>\n",
       "      <td>['생명', '가장', '성용', '유지', '목표', '주가', '하향', '주가...</td>\n",
       "      <td>년 월 일 기업 분석 한화생 명 시점 성 용훈 유지 목표 주가하향 원 주가 원 상승...</td>\n",
       "    </tr>\n",
       "    <tr>\n",
       "      <th>2</th>\n",
       "      <td>-0.077229</td>\n",
       "      <td>-0.134774</td>\n",
       "      <td>-0.144764</td>\n",
       "      <td>-0.362865</td>\n",
       "      <td>-0.466049</td>\n",
       "      <td>-0.627452</td>\n",
       "      <td>493832</td>\n",
       "      <td>buy</td>\n",
       "      <td>보험업   Neutral Initiation 종목명 투자의견 목표주가M ...</td>\n",
       "      <td>['보험', '목표', '주가', '화재', '현대', '해상', '손해', '보험...</td>\n",
       "      <td>보험업 종목명 투자 의견 목표 주가 삼성화재 현대 해상 손해 보험 메리츠화재 한화손...</td>\n",
       "    </tr>\n",
       "    <tr>\n",
       "      <th>3</th>\n",
       "      <td>-0.102360</td>\n",
       "      <td>-0.075034</td>\n",
       "      <td>-0.077998</td>\n",
       "      <td>-0.139111</td>\n",
       "      <td>-0.096862</td>\n",
       "      <td>-0.101880</td>\n",
       "      <td>293653</td>\n",
       "      <td>buy</td>\n",
       "      <td>이슈코멘트 l 기업 이트레이드증권 리서치본부    FY Q 순이익 억원으로...</td>\n",
       "      <td>['이슈', '본부', '순이익', '억원', '사업', '계획', '부합', '수...</td>\n",
       "      <td>이 슈 코멘트 기업 이트레이드증권 리 서치 본부 순이익 원 사업 계획 부합 실적 시...</td>\n",
       "    </tr>\n",
       "    <tr>\n",
       "      <th>4</th>\n",
       "      <td>-0.175222</td>\n",
       "      <td>-0.016224</td>\n",
       "      <td>-0.016357</td>\n",
       "      <td>-0.193884</td>\n",
       "      <td>0.084071</td>\n",
       "      <td>0.080723</td>\n",
       "      <td>400398</td>\n",
       "      <td>buy</td>\n",
       "      <td>보험Positive 걱정이 줄었으니 기대가 커지는 것이 ...</td>\n",
       "      <td>['보험', '걱정', '기대', '순리', '성용', '보험', '주가', '가지...</td>\n",
       "      <td>보험 걱정 기대 것 순리 성 용훈 보험주 주가 가지 요인 금리 규제 공포 완화 저점...</td>\n",
       "    </tr>\n",
       "    <tr>\n",
       "      <th>...</th>\n",
       "      <td>...</td>\n",
       "      <td>...</td>\n",
       "      <td>...</td>\n",
       "      <td>...</td>\n",
       "      <td>...</td>\n",
       "      <td>...</td>\n",
       "      <td>...</td>\n",
       "      <td>...</td>\n",
       "      <td>...</td>\n",
       "      <td>...</td>\n",
       "      <td>...</td>\n",
       "    </tr>\n",
       "    <tr>\n",
       "      <th>18713</th>\n",
       "      <td>0.057630</td>\n",
       "      <td>0.014013</td>\n",
       "      <td>0.013915</td>\n",
       "      <td>-0.158888</td>\n",
       "      <td>-0.185987</td>\n",
       "      <td>-0.205779</td>\n",
       "      <td>345498</td>\n",
       "      <td>strongbuy</td>\n",
       "      <td>Microsoft Word  CUNITdoc사조산업 재평가의 시기가 왔다  사조그룹...</td>\n",
       "      <td>['산업', '평가', '시기', '그룹', '실질', '지주회사', '역할', '...</td>\n",
       "      <td>사조산업 재평가 시기 사 조 그 룹 실질 지주 회사 역할 수행 회사 참치어 상승 트...</td>\n",
       "    </tr>\n",
       "    <tr>\n",
       "      <th>18714</th>\n",
       "      <td>0.046595</td>\n",
       "      <td>-0.004049</td>\n",
       "      <td>-0.004057</td>\n",
       "      <td>0.020880</td>\n",
       "      <td>0.004049</td>\n",
       "      <td>0.004040</td>\n",
       "      <td>353325</td>\n",
       "      <td>strongbuy</td>\n",
       "      <td>Microsoft Word  doc              증권보험신사업 Analy...</td>\n",
       "      <td>['보험', '사업', '이태경', '한기현', '이지수', '거대도시', '스마트...</td>\n",
       "      <td>증권 보험 신사업 이태경 한기현 이 지수 거대 도시 스마 트시티 스마트 시티 거대 ...</td>\n",
       "    </tr>\n",
       "    <tr>\n",
       "      <th>18715</th>\n",
       "      <td>-0.289034</td>\n",
       "      <td>-0.319101</td>\n",
       "      <td>-0.384341</td>\n",
       "      <td>-0.461999</td>\n",
       "      <td>-0.486142</td>\n",
       "      <td>-0.665809</td>\n",
       "      <td>352285</td>\n",
       "      <td>strongbuy</td>\n",
       "      <td>기업분석          서전기전KQ   상반기보단 하반기      기계조선건...</td>\n",
       "      <td>['기전', '상반기', '하반기', '기계', '조선', '건설', '부동산', ...</td>\n",
       "      <td>기업 분석 서 전기전 상반기보 하반기 기계 조선 건설 부동산 담당 이상우 매출 원 ...</td>\n",
       "    </tr>\n",
       "    <tr>\n",
       "      <th>18716</th>\n",
       "      <td>-0.279320</td>\n",
       "      <td>-0.226148</td>\n",
       "      <td>-0.256375</td>\n",
       "      <td>-0.582808</td>\n",
       "      <td>-0.492580</td>\n",
       "      <td>-0.678415</td>\n",
       "      <td>345568</td>\n",
       "      <td>strongbuy</td>\n",
       "      <td>기계전력산업 송배전망 증설 잊고 지내던 성장산업 Overweight상향   발...</td>\n",
       "      <td>['기계', '전력', '산업', '송배전', '증설', '성장', '산업', '상...</td>\n",
       "      <td>기계 전력 산업 송배 전망 증설 성장 산업 상향 발전 설비 증설 뿐 송배 전망 증설...</td>\n",
       "    </tr>\n",
       "    <tr>\n",
       "      <th>18717</th>\n",
       "      <td>-0.122951</td>\n",
       "      <td>-0.102488</td>\n",
       "      <td>-0.108129</td>\n",
       "      <td>0.446636</td>\n",
       "      <td>0.795024</td>\n",
       "      <td>0.585018</td>\n",
       "      <td>328374</td>\n",
       "      <td>strongbuy</td>\n",
       "      <td>기업분석    특급 영업이익률E  놓치지 않을거에요  목표주가 원 현재주가 원 ...</td>\n",
       "      <td>['특급', '영업', '이익', '목표', '주가', '주가', '시가총액', '...</td>\n",
       "      <td>기업 분석 특급 영업 이익률 목표 주 원 현재주가 원 시가 총액 원 발행 주식수 천...</td>\n",
       "    </tr>\n",
       "  </tbody>\n",
       "</table>\n",
       "<p>18718 rows × 11 columns</p>\n",
       "</div>"
      ],
      "text/plain": [
       "       6month_return_index  6month_return  6month_log_return  \\\n",
       "0                -0.104423      -0.239448          -0.273711   \n",
       "1                -0.080096      -0.213645          -0.240346   \n",
       "2                -0.077229      -0.134774          -0.144764   \n",
       "3                -0.102360      -0.075034          -0.077998   \n",
       "4                -0.175222      -0.016224          -0.016357   \n",
       "...                    ...            ...                ...   \n",
       "18713             0.057630       0.014013           0.013915   \n",
       "18714             0.046595      -0.004049          -0.004057   \n",
       "18715            -0.289034      -0.319101          -0.384341   \n",
       "18716            -0.279320      -0.226148          -0.256375   \n",
       "18717            -0.122951      -0.102488          -0.108129   \n",
       "\n",
       "       1Year_return_index  1Year_return  1Year_log_return     idx       투자의견  \\\n",
       "0               -0.248988     -0.356331         -0.440571  473108        buy   \n",
       "1               -0.266345     -0.423698         -0.551124  479661        buy   \n",
       "2               -0.362865     -0.466049         -0.627452  493832        buy   \n",
       "3               -0.139111     -0.096862         -0.101880  293653        buy   \n",
       "4               -0.193884      0.084071          0.080723  400398        buy   \n",
       "...                   ...           ...               ...     ...        ...   \n",
       "18713           -0.158888     -0.185987         -0.205779  345498  strongbuy   \n",
       "18714            0.020880      0.004049          0.004040  353325  strongbuy   \n",
       "18715           -0.461999     -0.486142         -0.665809  352285  strongbuy   \n",
       "18716           -0.582808     -0.492580         -0.678415  345568  strongbuy   \n",
       "18717            0.446636      0.795024          0.585018  328374  strongbuy   \n",
       "\n",
       "                                                  report  \\\n",
       "0           년 월 일 기업분석건설유틸리티 한화생명  기업이슈 브리프보험  년 월 일 ...   \n",
       "1      년 월 일 기업분석    한화생명  시점은 불확실하나 Upside risk는 가장 ...   \n",
       "2            보험업   Neutral Initiation 종목명 투자의견 목표주가M ...   \n",
       "3           이슈코멘트 l 기업 이트레이드증권 리서치본부    FY Q 순이익 억원으로...   \n",
       "4                     보험Positive 걱정이 줄었으니 기대가 커지는 것이 ...   \n",
       "...                                                  ...   \n",
       "18713  Microsoft Word  CUNITdoc사조산업 재평가의 시기가 왔다  사조그룹...   \n",
       "18714  Microsoft Word  doc              증권보험신사업 Analy...   \n",
       "18715     기업분석          서전기전KQ   상반기보단 하반기      기계조선건...   \n",
       "18716     기계전력산업 송배전망 증설 잊고 지내던 성장산업 Overweight상향   발...   \n",
       "18717    기업분석    특급 영업이익률E  놓치지 않을거에요  목표주가 원 현재주가 원 ...   \n",
       "\n",
       "                                              okt_tokens  \\\n",
       "0      ['건설', '유틸리티', '생명', '이슈', '브리프', '보험', '조원', ...   \n",
       "1      ['생명', '가장', '성용', '유지', '목표', '주가', '하향', '주가...   \n",
       "2      ['보험', '목표', '주가', '화재', '현대', '해상', '손해', '보험...   \n",
       "3      ['이슈', '본부', '순이익', '억원', '사업', '계획', '부합', '수...   \n",
       "4      ['보험', '걱정', '기대', '순리', '성용', '보험', '주가', '가지...   \n",
       "...                                                  ...   \n",
       "18713  ['산업', '평가', '시기', '그룹', '실질', '지주회사', '역할', '...   \n",
       "18714  ['보험', '사업', '이태경', '한기현', '이지수', '거대도시', '스마트...   \n",
       "18715  ['기전', '상반기', '하반기', '기계', '조선', '건설', '부동산', ...   \n",
       "18716  ['기계', '전력', '산업', '송배전', '증설', '성장', '산업', '상...   \n",
       "18717  ['특급', '영업', '이익', '목표', '주가', '주가', '시가총액', '...   \n",
       "\n",
       "                                           khaiii_tokens  \n",
       "0      년 월 일 기업 분석 건설유틸리티 한화생 명 기업 이슈 브리프보험 년 월 일 조원 ...  \n",
       "1      년 월 일 기업 분석 한화생 명 시점 성 용훈 유지 목표 주가하향 원 주가 원 상승...  \n",
       "2      보험업 종목명 투자 의견 목표 주가 삼성화재 현대 해상 손해 보험 메리츠화재 한화손...  \n",
       "3      이 슈 코멘트 기업 이트레이드증권 리 서치 본부 순이익 원 사업 계획 부합 실적 시...  \n",
       "4      보험 걱정 기대 것 순리 성 용훈 보험주 주가 가지 요인 금리 규제 공포 완화 저점...  \n",
       "...                                                  ...  \n",
       "18713  사조산업 재평가 시기 사 조 그 룹 실질 지주 회사 역할 수행 회사 참치어 상승 트...  \n",
       "18714  증권 보험 신사업 이태경 한기현 이 지수 거대 도시 스마 트시티 스마트 시티 거대 ...  \n",
       "18715  기업 분석 서 전기전 상반기보 하반기 기계 조선 건설 부동산 담당 이상우 매출 원 ...  \n",
       "18716  기계 전력 산업 송배 전망 증설 성장 산업 상향 발전 설비 증설 뿐 송배 전망 증설...  \n",
       "18717  기업 분석 특급 영업 이익률 목표 주 원 현재주가 원 시가 총액 원 발행 주식수 천...  \n",
       "\n",
       "[18718 rows x 11 columns]"
      ]
     },
     "execution_count": 72,
     "metadata": {},
     "output_type": "execute_result"
    }
   ],
   "source": [
    "df_aim"
   ]
  },
  {
   "cell_type": "code",
   "execution_count": null,
   "id": "fb06b139",
   "metadata": {},
   "outputs": [],
   "source": [
    "##################################################"
   ]
  },
  {
   "cell_type": "markdown",
   "id": "9ba11186",
   "metadata": {},
   "source": [
    "### outlier제거"
   ]
  },
  {
   "cell_type": "code",
   "execution_count": 16,
   "id": "bd7cac97",
   "metadata": {},
   "outputs": [],
   "source": [
    "df1 = df_aim.copy()"
   ]
  },
  {
   "cell_type": "code",
   "execution_count": 17,
   "id": "e7649635",
   "metadata": {},
   "outputs": [],
   "source": [
    "def get_outlier(df=None, weight=1.5):\n",
    "    \n",
    "    percent_25 = np.percentile(df, 25)\n",
    "    percent_75 = np.percentile(df, 75)\n",
    "    iqr = percent_75 - percent_25\n",
    "\n",
    "    highest_lim = percent_75 + (iqr*weight)\n",
    "    lowest_lim = percent_25 - (iqr*weight)\n",
    "\n",
    "    outlier_idx = df[(df > highest_lim) | (df < lowest_lim)].index.tolist()\n",
    "    return outlier_idx"
   ]
  },
  {
   "cell_type": "code",
   "execution_count": 18,
   "id": "15619e0a",
   "metadata": {},
   "outputs": [],
   "source": [
    "df1.drop(get_outlier(df1['6month_return'], weight=1.5), axis=0, inplace=True)"
   ]
  },
  {
   "cell_type": "code",
   "execution_count": 19,
   "id": "e613e6e5",
   "metadata": {
    "scrolled": true
   },
   "outputs": [],
   "source": [
    "df1 =df1[['khaiii_tokens','6month_return']]"
   ]
  },
  {
   "cell_type": "code",
   "execution_count": 20,
   "id": "a412c89d",
   "metadata": {
    "scrolled": true
   },
   "outputs": [
    {
     "data": {
      "text/html": [
       "<div>\n",
       "<style scoped>\n",
       "    .dataframe tbody tr th:only-of-type {\n",
       "        vertical-align: middle;\n",
       "    }\n",
       "\n",
       "    .dataframe tbody tr th {\n",
       "        vertical-align: top;\n",
       "    }\n",
       "\n",
       "    .dataframe thead th {\n",
       "        text-align: right;\n",
       "    }\n",
       "</style>\n",
       "<table border=\"1\" class=\"dataframe\">\n",
       "  <thead>\n",
       "    <tr style=\"text-align: right;\">\n",
       "      <th></th>\n",
       "      <th>khaiii_tokens</th>\n",
       "      <th>6month_return</th>\n",
       "    </tr>\n",
       "  </thead>\n",
       "  <tbody>\n",
       "    <tr>\n",
       "      <th>0</th>\n",
       "      <td>년 월 일 기업 분석 건설유틸리티 한화생 명 기업 이슈 브리프보험 년 월 일 조원 ...</td>\n",
       "      <td>-0.239448</td>\n",
       "    </tr>\n",
       "    <tr>\n",
       "      <th>1</th>\n",
       "      <td>년 월 일 기업 분석 한화생 명 시점 성 용훈 유지 목표 주가하향 원 주가 원 상승...</td>\n",
       "      <td>-0.213645</td>\n",
       "    </tr>\n",
       "    <tr>\n",
       "      <th>2</th>\n",
       "      <td>보험업 종목명 투자 의견 목표 주가 삼성화재 현대 해상 손해 보험 메리츠화재 한화손...</td>\n",
       "      <td>-0.134774</td>\n",
       "    </tr>\n",
       "    <tr>\n",
       "      <th>3</th>\n",
       "      <td>이 슈 코멘트 기업 이트레이드증권 리 서치 본부 순이익 원 사업 계획 부합 실적 시...</td>\n",
       "      <td>-0.075034</td>\n",
       "    </tr>\n",
       "    <tr>\n",
       "      <th>4</th>\n",
       "      <td>보험 걱정 기대 것 순리 성 용훈 보험주 주가 가지 요인 금리 규제 공포 완화 저점...</td>\n",
       "      <td>-0.016224</td>\n",
       "    </tr>\n",
       "    <tr>\n",
       "      <th>...</th>\n",
       "      <td>...</td>\n",
       "      <td>...</td>\n",
       "    </tr>\n",
       "    <tr>\n",
       "      <th>18713</th>\n",
       "      <td>사조산업 재평가 시기 사 조 그 룹 실질 지주 회사 역할 수행 회사 참치어 상승 트...</td>\n",
       "      <td>0.014013</td>\n",
       "    </tr>\n",
       "    <tr>\n",
       "      <th>18714</th>\n",
       "      <td>증권 보험 신사업 이태경 한기현 이 지수 거대 도시 스마 트시티 스마트 시티 거대 ...</td>\n",
       "      <td>-0.004049</td>\n",
       "    </tr>\n",
       "    <tr>\n",
       "      <th>18715</th>\n",
       "      <td>기업 분석 서 전기전 상반기보 하반기 기계 조선 건설 부동산 담당 이상우 매출 원 ...</td>\n",
       "      <td>-0.319101</td>\n",
       "    </tr>\n",
       "    <tr>\n",
       "      <th>18716</th>\n",
       "      <td>기계 전력 산업 송배 전망 증설 성장 산업 상향 발전 설비 증설 뿐 송배 전망 증설...</td>\n",
       "      <td>-0.226148</td>\n",
       "    </tr>\n",
       "    <tr>\n",
       "      <th>18717</th>\n",
       "      <td>기업 분석 특급 영업 이익률 목표 주 원 현재주가 원 시가 총액 원 발행 주식수 천...</td>\n",
       "      <td>-0.102488</td>\n",
       "    </tr>\n",
       "  </tbody>\n",
       "</table>\n",
       "<p>17940 rows × 2 columns</p>\n",
       "</div>"
      ],
      "text/plain": [
       "                                           khaiii_tokens  6month_return\n",
       "0      년 월 일 기업 분석 건설유틸리티 한화생 명 기업 이슈 브리프보험 년 월 일 조원 ...      -0.239448\n",
       "1      년 월 일 기업 분석 한화생 명 시점 성 용훈 유지 목표 주가하향 원 주가 원 상승...      -0.213645\n",
       "2      보험업 종목명 투자 의견 목표 주가 삼성화재 현대 해상 손해 보험 메리츠화재 한화손...      -0.134774\n",
       "3      이 슈 코멘트 기업 이트레이드증권 리 서치 본부 순이익 원 사업 계획 부합 실적 시...      -0.075034\n",
       "4      보험 걱정 기대 것 순리 성 용훈 보험주 주가 가지 요인 금리 규제 공포 완화 저점...      -0.016224\n",
       "...                                                  ...            ...\n",
       "18713  사조산업 재평가 시기 사 조 그 룹 실질 지주 회사 역할 수행 회사 참치어 상승 트...       0.014013\n",
       "18714  증권 보험 신사업 이태경 한기현 이 지수 거대 도시 스마 트시티 스마트 시티 거대 ...      -0.004049\n",
       "18715  기업 분석 서 전기전 상반기보 하반기 기계 조선 건설 부동산 담당 이상우 매출 원 ...      -0.319101\n",
       "18716  기계 전력 산업 송배 전망 증설 성장 산업 상향 발전 설비 증설 뿐 송배 전망 증설...      -0.226148\n",
       "18717  기업 분석 특급 영업 이익률 목표 주 원 현재주가 원 시가 총액 원 발행 주식수 천...      -0.102488\n",
       "\n",
       "[17940 rows x 2 columns]"
      ]
     },
     "execution_count": 20,
     "metadata": {},
     "output_type": "execute_result"
    }
   ],
   "source": [
    "df1"
   ]
  },
  {
   "cell_type": "markdown",
   "id": "4d606852",
   "metadata": {},
   "source": [
    "### kmeans"
   ]
  },
  {
   "cell_type": "code",
   "execution_count": 21,
   "id": "16381987",
   "metadata": {},
   "outputs": [],
   "source": [
    "a =pd.concat([df1['6month_return'],df1['6month_return']],axis=1)"
   ]
  },
  {
   "cell_type": "code",
   "execution_count": 22,
   "id": "53eb1b23",
   "metadata": {},
   "outputs": [
    {
     "data": {
      "text/plain": [
       "[1646.0539418876722,\n",
       " 596.5868550342358,\n",
       " 298.8633690195253,\n",
       " 179.90329931626886,\n",
       " 120.47689430318046,\n",
       " 84.81010779653418,\n",
       " 62.40931252920361,\n",
       " 48.82102321269501,\n",
       " 38.356807855421174]"
      ]
     },
     "execution_count": 22,
     "metadata": {},
     "output_type": "execute_result"
    }
   ],
   "source": [
    "from sklearn.cluster import KMeans\n",
    "inertias=[]\n",
    "for i in range(1,10):\n",
    "    km = KMeans(n_clusters=i, init='random')\n",
    "    km.fit(a)\n",
    "    inertias.append(km.inertia_)\n",
    "inertias"
   ]
  },
  {
   "cell_type": "code",
   "execution_count": 23,
   "id": "fb16633d",
   "metadata": {},
   "outputs": [
    {
     "data": {
      "text/plain": [
       "[<matplotlib.lines.Line2D at 0x1581e5aa790>]"
      ]
     },
     "execution_count": 23,
     "metadata": {},
     "output_type": "execute_result"
    },
    {
     "data": {
      "image/png": "[encoded data removed]",
      "text/plain": [
       "<Figure size 432x288 with 1 Axes>"
      ]
     },
     "metadata": {
      "needs_background": "light"
     },
     "output_type": "display_data"
    }
   ],
   "source": [
    "plt.plot(range(1,10),inertias)"
   ]
  },
  {
   "cell_type": "code",
   "execution_count": null,
   "id": "980bb3a4",
   "metadata": {},
   "outputs": [],
   "source": []
  },
  {
   "cell_type": "code",
   "execution_count": 24,
   "id": "10e18990",
   "metadata": {
    "scrolled": false
   },
   "outputs": [
    {
     "name": "stdout",
     "output_type": "stream",
     "text": [
      "2    8395\n",
      "0    5874\n",
      "1    3671\n",
      "dtype: int64\n"
     ]
    },
    {
     "data": {
      "text/plain": [
       "<matplotlib.collections.PathCollection at 0x1581e69ea60>"
      ]
     },
     "execution_count": 24,
     "metadata": {},
     "output_type": "execute_result"
    },
    {
     "data": {
      "image/png": "[encoded data removed]",
      "text/plain": [
       "<Figure size 432x288 with 1 Axes>"
      ]
     },
     "metadata": {
      "needs_background": "light"
     },
     "output_type": "display_data"
    }
   ],
   "source": [
    "km = KMeans(n_clusters =3)\n",
    "km.fit(a)\n",
    "print(pd.Series(km.labels_).value_counts())\n",
    "plt.scatter(a.iloc[:,0], a.iloc[:,1], c=km.labels_)"
   ]
  },
  {
   "cell_type": "code",
   "execution_count": 25,
   "id": "cd51e8d1",
   "metadata": {},
   "outputs": [
    {
     "name": "stdout",
     "output_type": "stream",
     "text": [
      "3    6791\n",
      "0    5011\n",
      "1    3889\n",
      "2    2249\n",
      "dtype: int64\n"
     ]
    },
    {
     "data": {
      "text/plain": [
       "<matplotlib.collections.PathCollection at 0x1585d14d160>"
      ]
     },
     "execution_count": 25,
     "metadata": {},
     "output_type": "execute_result"
    },
    {
     "data": {
      "image/png": "[encoded data removed]",
      "text/plain": [
       "<Figure size 432x288 with 1 Axes>"
      ]
     },
     "metadata": {
      "needs_background": "light"
     },
     "output_type": "display_data"
    }
   ],
   "source": [
    "km = KMeans(n_clusters =4)\n",
    "km.fit(a)\n",
    "print(pd.Series(km.labels_).value_counts())\n",
    "plt.scatter(a.iloc[:,0], a.iloc[:,1], c=km.labels_)"
   ]
  },
  {
   "cell_type": "code",
   "execution_count": 26,
   "id": "d56e5e50",
   "metadata": {},
   "outputs": [],
   "source": [
    "a['kmeans'] = km.labels_"
   ]
  },
  {
   "cell_type": "code",
   "execution_count": 27,
   "id": "76046f70",
   "metadata": {},
   "outputs": [
    {
     "name": "stdout",
     "output_type": "stream",
     "text": [
      "0.019482619240097\n",
      "0.2453781512605042\n"
     ]
    }
   ],
   "source": [
    "print(a[a.kmeans == 0]['6month_return'].iloc[:,0].sort_values().iloc[0])\n",
    "print(a[a.kmeans == 0]['6month_return'].iloc[:,0].sort_values().iloc[-1])"
   ]
  },
  {
   "cell_type": "code",
   "execution_count": 28,
   "id": "08c94662",
   "metadata": {},
   "outputs": [
    {
     "name": "stdout",
     "output_type": "stream",
     "text": [
      "-0.6021008110432015\n",
      "-0.1798941798941798\n"
     ]
    }
   ],
   "source": [
    "print(a[a.kmeans == 1]['6month_return'].iloc[:,0].sort_values().iloc[0])\n",
    "print(a[a.kmeans == 1]['6month_return'].iloc[:,0].sort_values().iloc[-1])"
   ]
  },
  {
   "cell_type": "code",
   "execution_count": 29,
   "id": "c71a974c",
   "metadata": {},
   "outputs": [
    {
     "name": "stdout",
     "output_type": "stream",
     "text": [
      "0.2454873646209386\n",
      "0.5956175298804781\n"
     ]
    }
   ],
   "source": [
    "print(a[a.kmeans == 2]['6month_return'].iloc[:,0].sort_values().iloc[0])\n",
    "print(a[a.kmeans == 2]['6month_return'].iloc[:,0].sort_values().iloc[-1])"
   ]
  },
  {
   "cell_type": "code",
   "execution_count": 30,
   "id": "944bcc5b",
   "metadata": {},
   "outputs": [
    {
     "name": "stdout",
     "output_type": "stream",
     "text": [
      "-0.1798365122615803\n",
      "0.0194174757281553\n"
     ]
    }
   ],
   "source": [
    "print(a[a.kmeans == 3]['6month_return'].iloc[:,0].sort_values().iloc[0])\n",
    "print(a[a.kmeans == 3]['6month_return'].iloc[:,0].sort_values().iloc[-1])"
   ]
  },
  {
   "cell_type": "code",
   "execution_count": 31,
   "id": "6098791e",
   "metadata": {
    "scrolled": true
   },
   "outputs": [
    {
     "data": {
      "text/html": [
       "<div>\n",
       "<style scoped>\n",
       "    .dataframe tbody tr th:only-of-type {\n",
       "        vertical-align: middle;\n",
       "    }\n",
       "\n",
       "    .dataframe tbody tr th {\n",
       "        vertical-align: top;\n",
       "    }\n",
       "\n",
       "    .dataframe thead th {\n",
       "        text-align: right;\n",
       "    }\n",
       "</style>\n",
       "<table border=\"1\" class=\"dataframe\">\n",
       "  <thead>\n",
       "    <tr style=\"text-align: right;\">\n",
       "      <th></th>\n",
       "      <th>6month_return</th>\n",
       "      <th>6month_return</th>\n",
       "      <th>kmeans</th>\n",
       "    </tr>\n",
       "  </thead>\n",
       "  <tbody>\n",
       "    <tr>\n",
       "      <th>0</th>\n",
       "      <td>-0.239448</td>\n",
       "      <td>-0.239448</td>\n",
       "      <td>1</td>\n",
       "    </tr>\n",
       "    <tr>\n",
       "      <th>1</th>\n",
       "      <td>-0.213645</td>\n",
       "      <td>-0.213645</td>\n",
       "      <td>1</td>\n",
       "    </tr>\n",
       "    <tr>\n",
       "      <th>2</th>\n",
       "      <td>-0.134774</td>\n",
       "      <td>-0.134774</td>\n",
       "      <td>3</td>\n",
       "    </tr>\n",
       "    <tr>\n",
       "      <th>3</th>\n",
       "      <td>-0.075034</td>\n",
       "      <td>-0.075034</td>\n",
       "      <td>3</td>\n",
       "    </tr>\n",
       "    <tr>\n",
       "      <th>4</th>\n",
       "      <td>-0.016224</td>\n",
       "      <td>-0.016224</td>\n",
       "      <td>3</td>\n",
       "    </tr>\n",
       "    <tr>\n",
       "      <th>...</th>\n",
       "      <td>...</td>\n",
       "      <td>...</td>\n",
       "      <td>...</td>\n",
       "    </tr>\n",
       "    <tr>\n",
       "      <th>18713</th>\n",
       "      <td>0.014013</td>\n",
       "      <td>0.014013</td>\n",
       "      <td>3</td>\n",
       "    </tr>\n",
       "    <tr>\n",
       "      <th>18714</th>\n",
       "      <td>-0.004049</td>\n",
       "      <td>-0.004049</td>\n",
       "      <td>3</td>\n",
       "    </tr>\n",
       "    <tr>\n",
       "      <th>18715</th>\n",
       "      <td>-0.319101</td>\n",
       "      <td>-0.319101</td>\n",
       "      <td>1</td>\n",
       "    </tr>\n",
       "    <tr>\n",
       "      <th>18716</th>\n",
       "      <td>-0.226148</td>\n",
       "      <td>-0.226148</td>\n",
       "      <td>1</td>\n",
       "    </tr>\n",
       "    <tr>\n",
       "      <th>18717</th>\n",
       "      <td>-0.102488</td>\n",
       "      <td>-0.102488</td>\n",
       "      <td>3</td>\n",
       "    </tr>\n",
       "  </tbody>\n",
       "</table>\n",
       "<p>17940 rows × 3 columns</p>\n",
       "</div>"
      ],
      "text/plain": [
       "       6month_return  6month_return  kmeans\n",
       "0          -0.239448      -0.239448       1\n",
       "1          -0.213645      -0.213645       1\n",
       "2          -0.134774      -0.134774       3\n",
       "3          -0.075034      -0.075034       3\n",
       "4          -0.016224      -0.016224       3\n",
       "...              ...            ...     ...\n",
       "18713       0.014013       0.014013       3\n",
       "18714      -0.004049      -0.004049       3\n",
       "18715      -0.319101      -0.319101       1\n",
       "18716      -0.226148      -0.226148       1\n",
       "18717      -0.102488      -0.102488       3\n",
       "\n",
       "[17940 rows x 3 columns]"
      ]
     },
     "execution_count": 31,
     "metadata": {},
     "output_type": "execute_result"
    }
   ],
   "source": [
    "a"
   ]
  },
  {
   "cell_type": "code",
   "execution_count": 32,
   "id": "e39f8b76",
   "metadata": {},
   "outputs": [
    {
     "data": {
      "text/html": [
       "<div>\n",
       "<style scoped>\n",
       "    .dataframe tbody tr th:only-of-type {\n",
       "        vertical-align: middle;\n",
       "    }\n",
       "\n",
       "    .dataframe tbody tr th {\n",
       "        vertical-align: top;\n",
       "    }\n",
       "\n",
       "    .dataframe thead th {\n",
       "        text-align: right;\n",
       "    }\n",
       "</style>\n",
       "<table border=\"1\" class=\"dataframe\">\n",
       "  <thead>\n",
       "    <tr style=\"text-align: right;\">\n",
       "      <th></th>\n",
       "      <th>khaiii_tokens</th>\n",
       "      <th>6month_return</th>\n",
       "      <th>kmeans_label</th>\n",
       "    </tr>\n",
       "  </thead>\n",
       "  <tbody>\n",
       "    <tr>\n",
       "      <th>0</th>\n",
       "      <td>년 월 일 기업 분석 건설유틸리티 한화생 명 기업 이슈 브리프보험 년 월 일 조원 ...</td>\n",
       "      <td>-0.239448</td>\n",
       "      <td>1</td>\n",
       "    </tr>\n",
       "    <tr>\n",
       "      <th>1</th>\n",
       "      <td>년 월 일 기업 분석 한화생 명 시점 성 용훈 유지 목표 주가하향 원 주가 원 상승...</td>\n",
       "      <td>-0.213645</td>\n",
       "      <td>1</td>\n",
       "    </tr>\n",
       "    <tr>\n",
       "      <th>2</th>\n",
       "      <td>보험업 종목명 투자 의견 목표 주가 삼성화재 현대 해상 손해 보험 메리츠화재 한화손...</td>\n",
       "      <td>-0.134774</td>\n",
       "      <td>3</td>\n",
       "    </tr>\n",
       "    <tr>\n",
       "      <th>3</th>\n",
       "      <td>이 슈 코멘트 기업 이트레이드증권 리 서치 본부 순이익 원 사업 계획 부합 실적 시...</td>\n",
       "      <td>-0.075034</td>\n",
       "      <td>3</td>\n",
       "    </tr>\n",
       "    <tr>\n",
       "      <th>4</th>\n",
       "      <td>보험 걱정 기대 것 순리 성 용훈 보험주 주가 가지 요인 금리 규제 공포 완화 저점...</td>\n",
       "      <td>-0.016224</td>\n",
       "      <td>3</td>\n",
       "    </tr>\n",
       "    <tr>\n",
       "      <th>...</th>\n",
       "      <td>...</td>\n",
       "      <td>...</td>\n",
       "      <td>...</td>\n",
       "    </tr>\n",
       "    <tr>\n",
       "      <th>18713</th>\n",
       "      <td>사조산업 재평가 시기 사 조 그 룹 실질 지주 회사 역할 수행 회사 참치어 상승 트...</td>\n",
       "      <td>0.014013</td>\n",
       "      <td>3</td>\n",
       "    </tr>\n",
       "    <tr>\n",
       "      <th>18714</th>\n",
       "      <td>증권 보험 신사업 이태경 한기현 이 지수 거대 도시 스마 트시티 스마트 시티 거대 ...</td>\n",
       "      <td>-0.004049</td>\n",
       "      <td>3</td>\n",
       "    </tr>\n",
       "    <tr>\n",
       "      <th>18715</th>\n",
       "      <td>기업 분석 서 전기전 상반기보 하반기 기계 조선 건설 부동산 담당 이상우 매출 원 ...</td>\n",
       "      <td>-0.319101</td>\n",
       "      <td>1</td>\n",
       "    </tr>\n",
       "    <tr>\n",
       "      <th>18716</th>\n",
       "      <td>기계 전력 산업 송배 전망 증설 성장 산업 상향 발전 설비 증설 뿐 송배 전망 증설...</td>\n",
       "      <td>-0.226148</td>\n",
       "      <td>1</td>\n",
       "    </tr>\n",
       "    <tr>\n",
       "      <th>18717</th>\n",
       "      <td>기업 분석 특급 영업 이익률 목표 주 원 현재주가 원 시가 총액 원 발행 주식수 천...</td>\n",
       "      <td>-0.102488</td>\n",
       "      <td>3</td>\n",
       "    </tr>\n",
       "  </tbody>\n",
       "</table>\n",
       "<p>17940 rows × 3 columns</p>\n",
       "</div>"
      ],
      "text/plain": [
       "                                           khaiii_tokens  6month_return  \\\n",
       "0      년 월 일 기업 분석 건설유틸리티 한화생 명 기업 이슈 브리프보험 년 월 일 조원 ...      -0.239448   \n",
       "1      년 월 일 기업 분석 한화생 명 시점 성 용훈 유지 목표 주가하향 원 주가 원 상승...      -0.213645   \n",
       "2      보험업 종목명 투자 의견 목표 주가 삼성화재 현대 해상 손해 보험 메리츠화재 한화손...      -0.134774   \n",
       "3      이 슈 코멘트 기업 이트레이드증권 리 서치 본부 순이익 원 사업 계획 부합 실적 시...      -0.075034   \n",
       "4      보험 걱정 기대 것 순리 성 용훈 보험주 주가 가지 요인 금리 규제 공포 완화 저점...      -0.016224   \n",
       "...                                                  ...            ...   \n",
       "18713  사조산업 재평가 시기 사 조 그 룹 실질 지주 회사 역할 수행 회사 참치어 상승 트...       0.014013   \n",
       "18714  증권 보험 신사업 이태경 한기현 이 지수 거대 도시 스마 트시티 스마트 시티 거대 ...      -0.004049   \n",
       "18715  기업 분석 서 전기전 상반기보 하반기 기계 조선 건설 부동산 담당 이상우 매출 원 ...      -0.319101   \n",
       "18716  기계 전력 산업 송배 전망 증설 성장 산업 상향 발전 설비 증설 뿐 송배 전망 증설...      -0.226148   \n",
       "18717  기업 분석 특급 영업 이익률 목표 주 원 현재주가 원 시가 총액 원 발행 주식수 천...      -0.102488   \n",
       "\n",
       "       kmeans_label  \n",
       "0                 1  \n",
       "1                 1  \n",
       "2                 3  \n",
       "3                 3  \n",
       "4                 3  \n",
       "...             ...  \n",
       "18713             3  \n",
       "18714             3  \n",
       "18715             1  \n",
       "18716             1  \n",
       "18717             3  \n",
       "\n",
       "[17940 rows x 3 columns]"
      ]
     },
     "execution_count": 32,
     "metadata": {},
     "output_type": "execute_result"
    }
   ],
   "source": [
    "df1['kmeans_label'] = a.kmeans\n",
    "df1"
   ]
  },
  {
   "cell_type": "code",
   "execution_count": 33,
   "id": "41eab1ac",
   "metadata": {},
   "outputs": [],
   "source": [
    "from sklearn.feature_extraction.text import CountVectorizer, TfidfVectorizer"
   ]
  },
  {
   "cell_type": "code",
   "execution_count": 34,
   "id": "a78efd69",
   "metadata": {},
   "outputs": [],
   "source": [
    "import re\n",
    "\n",
    "def han_text_clean(text):\n",
    "    text = re.sub(\"[^가-힣ㄱ-ㅎa-zA-Z ]\", \"\", text)\n",
    "   \n",
    "    return text\n",
    "\n",
    "with open('stopwords-ko.txt', 'r', encoding = 'utf-8') as f:\n",
    "    sw1 = f.read()\n",
    "    sw1 = re.sub('\\\\n', ' ', sw1)\n",
    "    sw1 = sw1.split()\n",
    "\n",
    "stop_report = '리서치센터  Compliance Notice 본 조사분석자료는 제3자에게 사전 제공된 사실이 없습니다. 당사는 자료작성일 현재 본 조사분석자료에 언급된 종목의 지분을 1% 이상 보유하고 있지 않습니다. \\\n",
    "본 자료를 작성한 애널리스트는 자료작성일 현재 해당 종목과 재산적 이해관계가 없습니다. 본 자료에 게재된 내용은 본인의 의견을 정확하게 반영하고 있으며, 외부의 부당한 압력이나 간섭 없이 신의 성실하게 작성되었음을 확인합니다. \\\n",
    "본 자료는 투자자들의 투자판단에 참고가 되는 정보제공을 목적으로 배포되는 자료입니다. 본 자료에 수록된 내용은 당사 리서치센터의 추정치로서 오차가 발생할 수 있으며 정확성이나 완벽성은 보장하지 않습니다. \\\n",
    "본 자료를 이용하시는 분은 본 자료와 관련한 투자의 최종 결정은 자신의 판단으로 하시기 바랍니다. 따라서 어떠한 경우에도 본 자료는 투자 결과와 관련한 법적 책임소재의 증빙자료로 사용될 수 없습니다. \\\n",
    "본 조사분석자료는 당사 고객에 한하여 배포되는 자료로 당사의 허락 없이 복사, 대여, 배포 될 수 없습니다.\\\n",
    "투자등급 이 자료에 게재된 내용들은 본인의 의견을 정확하게 반영하고 있으며, 외부의 부당한 압력이나 간섭없이 작성되었음을 확인합니다.(작성자 : 하준두) 자료 제공일 현재\\\n",
    "당사는 상기 회사가 발행한 주식을 1% 이상 보유하고 있지 않습니다. 자료 제공일 현재 당사는 지난 1년간 상기 회사의 최초 증권시장 상장시 대표 주관사로 참여한 적이 없습니다. \\\n",
    "자료제공일 현재 조사분석 담당자는 상기회사가 발행한 주식 및 주식관련사채에 대하여 규정상 고지하여야 할 재산적 이해관계가 없으며, 추천의견을 제시함에 있어 어떠한 금전적 보상과도 연계되어 있지 않습니다. \\\n",
    "당자료는 상기 회사 및 상기회사의 유가증권에 대한 조사분석담당자의 의견을 정확히 반영하고있으나 이는 자료제공일 현재 시점에서의 의견 및 추정치로서 실적치와 오차가 발생할 수 있으며, \\\n",
    "투자를 유도할 목적이 아니라 투자자의 투자판단에 참고가 되는 정보제공을 목적으로 하고 있습니다. 따라서 종목의 선택이나 투자의 최종결정은 투자자 자신의 판단으로 하시기 바랍니다. \\\n",
    "Analyst, 증권,한화투자증권, 하이투자증권, 대신증권, SK증권, IBK투자증권, 키움증권, 이베스트증권,유안타증권, 메리츠증권, 유진투자증권, 카카오페이증권, 한양증권, 하나금융투자, 교보증권, \\\n",
    "현대차투자증권, 메리츠종금증권, 삼성증권, KTB투자증권, 신한금융투자, 한국투자증권,미래에셋대우, KB증권, 미래에셋증권, 하나대투증권, HMC투자증권, NH농협증권, 현대증권,\\\n",
    "동양증권, KDB대우증권, 이트레이드증권, 우리투자증권, 하이증권, 우리증권, 신한금융,대우증권, NH증권, 유진증권, 한투증권, 한화증권, 한화투자증권, 작성자, 한화리서치, 기업, 코멘트,Microsoft, Word,PowerPoint,IBSPPRdoc,CUNITdoc'\n",
    "\n",
    "stop_report = re.sub(\"[^가-힣ㄱ-ㅎa-zA-Z ]\", \"\", stop_report)\n",
    "  \n",
    "sw2 = okt.nouns(han_text_clean(stop_report))\n",
    "\n",
    "stopwords = sw1 + sw2"
   ]
  },
  {
   "cell_type": "code",
   "execution_count": 35,
   "id": "a99ec89a",
   "metadata": {},
   "outputs": [],
   "source": [
    "x = df1.khaiii_tokens\n",
    "y = df1['kmeans_label']"
   ]
  },
  {
   "cell_type": "code",
   "execution_count": 36,
   "id": "65907af1",
   "metadata": {},
   "outputs": [],
   "source": [
    "from sklearn.model_selection import train_test_split\n",
    "\n",
    "x_train, x_test, y_train, y_test = train_test_split(x,y, random_state = 42)"
   ]
  },
  {
   "cell_type": "code",
   "execution_count": 37,
   "id": "55631d53",
   "metadata": {},
   "outputs": [],
   "source": [
    "import time"
   ]
  },
  {
   "cell_type": "code",
   "execution_count": 38,
   "id": "51ba318a",
   "metadata": {},
   "outputs": [
    {
     "name": "stdout",
     "output_type": "stream",
     "text": [
      "Wall time: 52.6 s\n"
     ]
    },
    {
     "data": {
      "text/plain": [
       "TfidfVectorizer(max_df=0.8, max_features=10000, min_df=50, ngram_range=(1, 2),\n",
       "                stop_words=['가', '가까스로', '가령', '각', '각각', '각자', '각종', '갖고말하자면',\n",
       "                            '같다', '같이', '개의치않고', '거니와', '거바', '거의', '것', '것과',\n",
       "                            '같이', '것들', '게다가', '게우다', '겨우', '견지에서', '결과에',\n",
       "                            '이르다', '결국', '결론을', '낼', '수', '있다', '겸사겸사', ...],\n",
       "                sublinear_tf=True)"
      ]
     },
     "execution_count": 38,
     "metadata": {},
     "output_type": "execute_result"
    }
   ],
   "source": [
    "%%time\n",
    "\n",
    "tfidf_vect = TfidfVectorizer(stop_words = stopwords, min_df = 50,max_df =0.8, max_features = 10000,\\\n",
    "                                ngram_range = (1, 2),sublinear_tf = True) # TF의 이상치 제거\n",
    "tfidf_vect.fit(x_train)"
   ]
  },
  {
   "cell_type": "code",
   "execution_count": 39,
   "id": "6311cd4f",
   "metadata": {},
   "outputs": [
    {
     "name": "stdout",
     "output_type": "stream",
     "text": [
      "Wall time: 44.3 s\n"
     ]
    }
   ],
   "source": [
    "%%time\n",
    "x_train_tfidf_vect = tfidf_vect.transform(x_train)\n",
    "x_test_tfidf_vect = tfidf_vect.transform(x_test)"
   ]
  },
  {
   "cell_type": "code",
   "execution_count": 40,
   "id": "1348aacd",
   "metadata": {},
   "outputs": [
    {
     "data": {
      "text/plain": [
       "(13455, 10000)"
      ]
     },
     "execution_count": 40,
     "metadata": {},
     "output_type": "execute_result"
    }
   ],
   "source": [
    "x_train_tfidf_vect.shape"
   ]
  },
  {
   "cell_type": "code",
   "execution_count": 41,
   "id": "26c3a348",
   "metadata": {},
   "outputs": [
    {
     "data": {
      "text/plain": [
       "(4485, 10000)"
      ]
     },
     "execution_count": 41,
     "metadata": {},
     "output_type": "execute_result"
    }
   ],
   "source": [
    "x_test_tfidf_vect.shape"
   ]
  },
  {
   "cell_type": "code",
   "execution_count": 42,
   "id": "d29b68af",
   "metadata": {},
   "outputs": [],
   "source": [
    "from sklearn.neighbors import KNeighborsClassifier\n",
    "from sklearn.tree import DecisionTreeClassifier\n",
    "from sklearn.ensemble import RandomForestClassifier,AdaBoostClassifier\n",
    "from lightgbm import LGBMClassifier\n",
    "from sklearn.ensemble import GradientBoostingClassifier\n",
    "from xgboost import XGBClassifier\n",
    "from sklearn.neural_network import MLPClassifier\n",
    "# from sklearn.gaussian_process import GaussianProcessClassifier\n",
    "# from sklearn.gaussian_process.kernels import RBF"
   ]
  },
  {
   "cell_type": "code",
   "execution_count": 43,
   "id": "30090af4",
   "metadata": {},
   "outputs": [],
   "source": [
    "knn = KNeighborsClassifier()\n",
    "dtc = DecisionTreeClassifier()\n",
    "rtc = RandomForestClassifier()\n",
    "ada = AdaBoostClassifier()\n",
    "lgb = LGBMClassifier()\n",
    "gdb = GradientBoostingClassifier()\n",
    "xgb = XGBClassifier(eval_metric='logloss')\n",
    "mlp = MLPClassifier()"
   ]
  },
  {
   "cell_type": "code",
   "execution_count": 44,
   "id": "dff9864d",
   "metadata": {},
   "outputs": [
    {
     "name": "stdout",
     "output_type": "stream",
     "text": [
      "KNeighborsClassifier\n",
      "0.5001858045336306\n",
      "0.32396878483835007\n",
      "\n",
      "DecisionTreeClassifier\n",
      "0.944630248978075\n",
      "0.3157190635451505\n",
      "\n",
      "RandomForestClassifier\n",
      "0.944630248978075\n",
      "0.38193979933110367\n",
      "\n",
      "AdaBoostClassifier\n",
      "0.39412857673727236\n",
      "0.3761426978818283\n",
      "\n",
      "LGBMClassifier\n",
      "0.8809364548494983\n",
      "0.3745819397993311\n",
      "\n",
      "GradientBoostingClassifier\n",
      "0.5426978818283166\n",
      "0.38483835005574135\n",
      "\n",
      "XGBClassifier\n",
      "0.8840579710144928\n",
      "0.3754738015607581\n",
      "\n",
      "MLPClassifier\n",
      "0.9422519509476032\n",
      "0.35719063545150503\n",
      "\n"
     ]
    }
   ],
   "source": [
    "models=[knn,dtc,rtc,ada,lgb,gdb,xgb,mlp]\n",
    "for m in models :\n",
    "    m.fit(x_train_tfidf_vect,y_train)\n",
    "    print(m.__class__.__name__)\n",
    "    print(m.score(x_train_tfidf_vect, y_train))\n",
    "    print(m.score(x_test_tfidf_vect,y_test))\n",
    "    print()\n"
   ]
  },
  {
   "cell_type": "code",
   "execution_count": null,
   "id": "8c30f89e",
   "metadata": {},
   "outputs": [],
   "source": []
  },
  {
   "cell_type": "markdown",
   "id": "2d39c72b",
   "metadata": {},
   "source": [
    "### Kmeans"
   ]
  },
  {
   "cell_type": "code",
   "execution_count": 47,
   "id": "26b34daa",
   "metadata": {},
   "outputs": [
    {
     "name": "stdout",
     "output_type": "stream",
     "text": [
      "2    6791\n",
      "0    5011\n",
      "1    2780\n",
      "3    2249\n",
      "4    1109\n",
      "dtype: int64\n"
     ]
    },
    {
     "data": {
      "image/png": "[encoded data removed]",
      "text/plain": [
       "<Figure size 432x288 with 1 Axes>"
      ]
     },
     "metadata": {
      "needs_background": "light"
     },
     "output_type": "display_data"
    }
   ],
   "source": [
    "km = KMeans(n_clusters =5)\n",
    "km.fit(a)\n",
    "print(pd.Series(km.labels_).value_counts())\n",
    "plt.scatter(a.iloc[:,0], a.iloc[:,1], c=km.labels_)\n",
    "a['kmeans'] = km.labels_\n",
    "df1['kmeans_label'] = a.kmeans"
   ]
  },
  {
   "cell_type": "code",
   "execution_count": 50,
   "id": "206cd8e1",
   "metadata": {},
   "outputs": [],
   "source": [
    "x = df1.khaiii_tokens\n",
    "y = df1['kmeans_label']\n",
    "x_train, x_test, y_train, y_test = train_test_split(x,y, random_state = 42)"
   ]
  },
  {
   "cell_type": "code",
   "execution_count": 51,
   "id": "8aa7e8bc",
   "metadata": {},
   "outputs": [
    {
     "name": "stdout",
     "output_type": "stream",
     "text": [
      "Wall time: 1min 9s\n"
     ]
    },
    {
     "data": {
      "text/plain": [
       "TfidfVectorizer(max_df=0.8, max_features=10000, min_df=50, ngram_range=(1, 2),\n",
       "                stop_words=['가', '가까스로', '가령', '각', '각각', '각자', '각종', '갖고말하자면',\n",
       "                            '같다', '같이', '개의치않고', '거니와', '거바', '거의', '것', '것과',\n",
       "                            '같이', '것들', '게다가', '게우다', '겨우', '견지에서', '결과에',\n",
       "                            '이르다', '결국', '결론을', '낼', '수', '있다', '겸사겸사', ...],\n",
       "                sublinear_tf=True)"
      ]
     },
     "execution_count": 51,
     "metadata": {},
     "output_type": "execute_result"
    }
   ],
   "source": [
    "%%time\n",
    "\n",
    "tfidf_vect = TfidfVectorizer(stop_words = stopwords, min_df = 50,max_df =0.8, max_features = 10000,\\\n",
    "                                ngram_range = (1, 2),sublinear_tf = True) # TF의 이상치 제거\n",
    "tfidf_vect.fit(x_train)"
   ]
  },
  {
   "cell_type": "code",
   "execution_count": 52,
   "id": "2310b3ea",
   "metadata": {},
   "outputs": [
    {
     "name": "stdout",
     "output_type": "stream",
     "text": [
      "Wall time: 1min 1s\n"
     ]
    }
   ],
   "source": [
    "%%time\n",
    "x_train_tfidf_vect = tfidf_vect.transform(x_train)\n",
    "x_test_tfidf_vect = tfidf_vect.transform(x_test)"
   ]
  },
  {
   "cell_type": "code",
   "execution_count": 53,
   "id": "4957f622",
   "metadata": {},
   "outputs": [
    {
     "name": "stdout",
     "output_type": "stream",
     "text": [
      "DecisionTreeClassifier\n",
      "0.9412857673727238\n",
      "0.30234113712374583\n",
      "\n",
      "RandomForestClassifier\n",
      "0.9412857673727238\n",
      "0.3770345596432553\n",
      "\n",
      "LGBMClassifier\n",
      "0.8886659234485321\n",
      "0.3741360089186176\n",
      "\n",
      "XGBClassifier\n",
      "0.8767744332961724\n",
      "0.3765886287625418\n",
      "\n",
      "MLPClassifier\n",
      "0.938907469342252\n",
      "0.34715719063545153\n",
      "\n"
     ]
    }
   ],
   "source": [
    "models=[dtc,rtc,lgb,xgb,mlp]\n",
    "for m in models :\n",
    "    m.fit(x_train_tfidf_vect,y_train)\n",
    "    print(m.__class__.__name__)\n",
    "    print(m.score(x_train_tfidf_vect, y_train))\n",
    "    print(m.score(x_test_tfidf_vect,y_test))\n",
    "    print()\n"
   ]
  },
  {
   "cell_type": "code",
   "execution_count": null,
   "id": "e05ee84e",
   "metadata": {},
   "outputs": [],
   "source": []
  },
  {
   "cell_type": "code",
   "execution_count": null,
   "id": "46cceddb",
   "metadata": {},
   "outputs": [],
   "source": []
  },
  {
   "cell_type": "code",
   "execution_count": null,
   "id": "cdd78e6e",
   "metadata": {},
   "outputs": [],
   "source": []
  },
  {
   "cell_type": "markdown",
   "id": "916d57a5",
   "metadata": {},
   "source": [
    "## outlier 미제거"
   ]
  },
  {
   "cell_type": "code",
   "execution_count": 54,
   "id": "d1d3c11d",
   "metadata": {},
   "outputs": [],
   "source": [
    "df1 = df_aim.copy()\n",
    "df1 =df1[['khaiii_tokens','6month_return']]"
   ]
  },
  {
   "cell_type": "code",
   "execution_count": 55,
   "id": "349c2df5",
   "metadata": {},
   "outputs": [],
   "source": [
    "a =pd.concat([df1['6month_return'],df1['6month_return']],axis=1)"
   ]
  },
  {
   "cell_type": "code",
   "execution_count": 56,
   "id": "469a25f6",
   "metadata": {},
   "outputs": [
    {
     "data": {
      "text/plain": [
       "[3767.713974574822,\n",
       " 1918.5909674085235,\n",
       " 1160.7733555533316,\n",
       " 762.9594063960759,\n",
       " 494.91493315292945,\n",
       " 355.47740236562123,\n",
       " 276.49489555937805,\n",
       " 226.12864868424617,\n",
       " 180.3665461352688]"
      ]
     },
     "execution_count": 56,
     "metadata": {},
     "output_type": "execute_result"
    }
   ],
   "source": [
    "from sklearn.cluster import KMeans\n",
    "inertias=[]\n",
    "for i in range(1,10):\n",
    "    km = KMeans(n_clusters=i, init='random')\n",
    "    km.fit(a)\n",
    "    inertias.append(km.inertia_)\n",
    "inertias"
   ]
  },
  {
   "cell_type": "code",
   "execution_count": 57,
   "id": "c0943715",
   "metadata": {},
   "outputs": [
    {
     "data": {
      "text/plain": [
       "[<matplotlib.lines.Line2D at 0x1586e65f070>]"
      ]
     },
     "execution_count": 57,
     "metadata": {},
     "output_type": "execute_result"
    },
    {
     "data": {
      "image/png": "[encoded data removed]",
      "text/plain": [
       "<Figure size 432x288 with 1 Axes>"
      ]
     },
     "metadata": {
      "needs_background": "light"
     },
     "output_type": "display_data"
    }
   ],
   "source": [
    "plt.plot(range(1,10),inertias)"
   ]
  },
  {
   "cell_type": "code",
   "execution_count": 58,
   "id": "e2fe9fc9",
   "metadata": {},
   "outputs": [
    {
     "name": "stdout",
     "output_type": "stream",
     "text": [
      "0    8990\n",
      "2    8091\n",
      "1    1573\n",
      "3      64\n",
      "dtype: int64\n"
     ]
    },
    {
     "data": {
      "text/plain": [
       "<matplotlib.collections.PathCollection at 0x158c4bedee0>"
      ]
     },
     "execution_count": 58,
     "metadata": {},
     "output_type": "execute_result"
    },
    {
     "data": {
      "image/png": "[encoded data removed]",
      "text/plain": [
       "<Figure size 432x288 with 1 Axes>"
      ]
     },
     "metadata": {
      "needs_background": "light"
     },
     "output_type": "display_data"
    }
   ],
   "source": [
    "km = KMeans(n_clusters =4)\n",
    "km.fit(a)\n",
    "print(pd.Series(km.labels_).value_counts())\n",
    "plt.scatter(a.iloc[:,0], a.iloc[:,1], c=km.labels_)"
   ]
  },
  {
   "cell_type": "code",
   "execution_count": 59,
   "id": "ab4064b4",
   "metadata": {},
   "outputs": [],
   "source": [
    "a['kmeans'] = km.labels_\n",
    "df1['kmeans_label'] = a.kmeans\n"
   ]
  },
  {
   "cell_type": "code",
   "execution_count": 60,
   "id": "e4d7b54d",
   "metadata": {},
   "outputs": [],
   "source": [
    "from sklearn.feature_extraction.text import CountVectorizer, TfidfVectorizer"
   ]
  },
  {
   "cell_type": "code",
   "execution_count": 61,
   "id": "2092a6e0",
   "metadata": {},
   "outputs": [],
   "source": [
    "x = df1.khaiii_tokens\n",
    "y = df1['kmeans_label']\n",
    "x_train, x_test, y_train, y_test = train_test_split(x,y, random_state = 42)"
   ]
  },
  {
   "cell_type": "code",
   "execution_count": 62,
   "id": "1860f343",
   "metadata": {},
   "outputs": [
    {
     "name": "stdout",
     "output_type": "stream",
     "text": [
      "Wall time: 1min 1s\n"
     ]
    },
    {
     "data": {
      "text/plain": [
       "TfidfVectorizer(max_df=0.8, max_features=10000, min_df=50, ngram_range=(1, 2),\n",
       "                stop_words=['가', '가까스로', '가령', '각', '각각', '각자', '각종', '갖고말하자면',\n",
       "                            '같다', '같이', '개의치않고', '거니와', '거바', '거의', '것', '것과',\n",
       "                            '같이', '것들', '게다가', '게우다', '겨우', '견지에서', '결과에',\n",
       "                            '이르다', '결국', '결론을', '낼', '수', '있다', '겸사겸사', ...],\n",
       "                sublinear_tf=True)"
      ]
     },
     "execution_count": 62,
     "metadata": {},
     "output_type": "execute_result"
    }
   ],
   "source": [
    "%%time\n",
    "\n",
    "tfidf_vect = TfidfVectorizer(stop_words = stopwords, min_df = 50,max_df =0.8, max_features = 10000,\\\n",
    "                                ngram_range = (1, 2),sublinear_tf = True) # TF의 이상치 제거\n",
    "tfidf_vect.fit(x_train)"
   ]
  },
  {
   "cell_type": "code",
   "execution_count": 63,
   "id": "5d617afb",
   "metadata": {},
   "outputs": [
    {
     "name": "stdout",
     "output_type": "stream",
     "text": [
      "Wall time: 51.6 s\n"
     ]
    }
   ],
   "source": [
    "%%time\n",
    "x_train_tfidf_vect = tfidf_vect.transform(x_train)\n",
    "x_test_tfidf_vect = tfidf_vect.transform(x_test)"
   ]
  },
  {
   "cell_type": "code",
   "execution_count": 64,
   "id": "f2fd8225",
   "metadata": {},
   "outputs": [
    {
     "name": "stdout",
     "output_type": "stream",
     "text": [
      "DecisionTreeClassifier\n",
      "0.9574013392221115\n",
      "0.4741452991452991\n",
      "\n",
      "RandomForestClassifier\n",
      "0.9574013392221115\n",
      "0.5096153846153846\n",
      "\n",
      "LGBMClassifier\n",
      "0.9092463313862373\n",
      "0.5299145299145299\n",
      "\n",
      "XGBClassifier\n",
      "0.9181507337227526\n",
      "0.5185897435897436\n",
      "\n",
      "MLPClassifier\n",
      "0.9553355178800399\n",
      "0.5089743589743589\n",
      "\n"
     ]
    }
   ],
   "source": [
    "models=[dtc,rtc,lgb,xgb,mlp]\n",
    "for m in models :\n",
    "    m.fit(x_train_tfidf_vect,y_train)\n",
    "    print(m.__class__.__name__)\n",
    "    print(m.score(x_train_tfidf_vect, y_train))\n",
    "    print(m.score(x_test_tfidf_vect,y_test))\n",
    "    print()"
   ]
  },
  {
   "cell_type": "code",
   "execution_count": null,
   "id": "3f1addf9",
   "metadata": {},
   "outputs": [],
   "source": []
  },
  {
   "cell_type": "code",
   "execution_count": null,
   "id": "392c9136",
   "metadata": {},
   "outputs": [],
   "source": []
  },
  {
   "cell_type": "code",
   "execution_count": null,
   "id": "d0f92eb4",
   "metadata": {},
   "outputs": [],
   "source": []
  },
  {
   "cell_type": "code",
   "execution_count": null,
   "id": "dff2a3de",
   "metadata": {},
   "outputs": [],
   "source": []
  },
  {
   "cell_type": "code",
   "execution_count": null,
   "id": "8f89bf20",
   "metadata": {},
   "outputs": [],
   "source": []
  },
  {
   "cell_type": "code",
   "execution_count": 65,
   "id": "9cef4986",
   "metadata": {},
   "outputs": [
    {
     "name": "stdout",
     "output_type": "stream",
     "text": [
      "5    5917\n",
      "6    5076\n",
      "0    3073\n",
      "1    3015\n",
      "7    1217\n",
      "2     356\n",
      "4      49\n",
      "3      15\n",
      "dtype: int64\n"
     ]
    },
    {
     "data": {
      "text/plain": [
       "<matplotlib.collections.PathCollection at 0x158bd304c70>"
      ]
     },
     "execution_count": 65,
     "metadata": {},
     "output_type": "execute_result"
    },
    {
     "data": {
      "image/png": "[encoded data removed]",
      "text/plain": [
       "<Figure size 432x288 with 1 Axes>"
      ]
     },
     "metadata": {
      "needs_background": "light"
     },
     "output_type": "display_data"
    }
   ],
   "source": [
    "km = KMeans(n_clusters =8)\n",
    "km.fit(a)\n",
    "print(pd.Series(km.labels_).value_counts())\n",
    "plt.scatter(a.iloc[:,0], a.iloc[:,1], c=km.labels_)"
   ]
  },
  {
   "cell_type": "code",
   "execution_count": 66,
   "id": "e86e1d29",
   "metadata": {},
   "outputs": [],
   "source": [
    "a['kmeans'] = km.labels_\n",
    "df1['kmeans_label'] = a.kmeans\n"
   ]
  },
  {
   "cell_type": "code",
   "execution_count": 67,
   "id": "874c49cd",
   "metadata": {},
   "outputs": [],
   "source": [
    "from sklearn.feature_extraction.text import CountVectorizer, TfidfVectorizer"
   ]
  },
  {
   "cell_type": "code",
   "execution_count": 68,
   "id": "fc559b57",
   "metadata": {},
   "outputs": [],
   "source": [
    "x = df1.khaiii_tokens\n",
    "y = df1['kmeans_label']\n",
    "x_train, x_test, y_train, y_test = train_test_split(x,y, random_state = 42)"
   ]
  },
  {
   "cell_type": "code",
   "execution_count": 69,
   "id": "4fbf1ed6",
   "metadata": {},
   "outputs": [
    {
     "name": "stdout",
     "output_type": "stream",
     "text": [
      "Wall time: 57.6 s\n"
     ]
    },
    {
     "data": {
      "text/plain": [
       "TfidfVectorizer(max_df=0.8, max_features=10000, min_df=50, ngram_range=(1, 2),\n",
       "                stop_words=['가', '가까스로', '가령', '각', '각각', '각자', '각종', '갖고말하자면',\n",
       "                            '같다', '같이', '개의치않고', '거니와', '거바', '거의', '것', '것과',\n",
       "                            '같이', '것들', '게다가', '게우다', '겨우', '견지에서', '결과에',\n",
       "                            '이르다', '결국', '결론을', '낼', '수', '있다', '겸사겸사', ...],\n",
       "                sublinear_tf=True)"
      ]
     },
     "execution_count": 69,
     "metadata": {},
     "output_type": "execute_result"
    }
   ],
   "source": [
    "%%time\n",
    "\n",
    "tfidf_vect = TfidfVectorizer(stop_words = stopwords, min_df = 50,max_df =0.8, max_features = 10000,\\\n",
    "                                ngram_range = (1, 2),sublinear_tf = True) # TF의 이상치 제거\n",
    "tfidf_vect.fit(x_train)"
   ]
  },
  {
   "cell_type": "code",
   "execution_count": 70,
   "id": "81dc8ab0",
   "metadata": {},
   "outputs": [
    {
     "name": "stdout",
     "output_type": "stream",
     "text": [
      "Wall time: 47.5 s\n"
     ]
    }
   ],
   "source": [
    "%%time\n",
    "x_train_tfidf_vect = tfidf_vect.transform(x_train)\n",
    "x_test_tfidf_vect = tfidf_vect.transform(x_test)"
   ]
  },
  {
   "cell_type": "code",
   "execution_count": 71,
   "id": "d2cbce31",
   "metadata": {},
   "outputs": [
    {
     "name": "stdout",
     "output_type": "stream",
     "text": [
      "DecisionTreeClassifier\n",
      "0.9375267132070095\n",
      "0.26282051282051283\n",
      "\n",
      "RandomForestClassifier\n",
      "0.9375267132070095\n",
      "0.3192307692307692\n",
      "\n",
      "LGBMClassifier\n",
      "0.8625160279242057\n",
      "0.30085470085470084\n",
      "\n",
      "XGBClassifier\n",
      "0.8885881179655222\n",
      "0.3175213675213675\n",
      "\n",
      "MLPClassifier\n",
      "0.9349622453340932\n",
      "0.3091880341880342\n",
      "\n"
     ]
    }
   ],
   "source": [
    "models=[dtc,rtc,lgb,xgb,mlp]\n",
    "for m in models :\n",
    "    m.fit(x_train_tfidf_vect,y_train)\n",
    "    print(m.__class__.__name__)\n",
    "    print(m.score(x_train_tfidf_vect, y_train))\n",
    "    print(m.score(x_test_tfidf_vect,y_test))\n",
    "    print()"
   ]
  },
  {
   "cell_type": "code",
   "execution_count": null,
   "id": "5a3e8f4d",
   "metadata": {},
   "outputs": [],
   "source": []
  },
  {
   "cell_type": "code",
   "execution_count": null,
   "id": "62a34ef9",
   "metadata": {},
   "outputs": [],
   "source": []
  }
 ],
 "metadata": {
  "kernelspec": {
   "display_name": "Python 3",
   "language": "python",
   "name": "python3"
  },
  "language_info": {
   "codemirror_mode": {
    "name": "ipython",
    "version": 3
   },
   "file_extension": ".py",
   "mimetype": "text/x-python",
   "name": "python",
   "nbconvert_exporter": "python",
   "pygments_lexer": "ipython3",
   "version": "3.8.8"
  }
 },
 "nbformat": 4,
 "nbformat_minor": 5
}
