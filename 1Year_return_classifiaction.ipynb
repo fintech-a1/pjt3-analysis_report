{
 "cells": [
  {
   "cell_type": "code",
   "execution_count": 1,
   "id": "83de2fcf",
   "metadata": {},
   "outputs": [],
   "source": [
    "import warnings\n",
    "warnings.filterwarnings(action='ignore')"
   ]
  },
  {
   "cell_type": "code",
   "execution_count": 2,
   "id": "82f378c4",
   "metadata": {},
   "outputs": [],
   "source": [
    "import pandas as pd\n",
    "import numpy as np\n",
    "import matplotlib.pyplot as plt\n",
    "import seaborn as sns"
   ]
  },
  {
   "cell_type": "code",
   "execution_count": 3,
   "id": "37221a01",
   "metadata": {},
   "outputs": [],
   "source": [
    "from konlpy.tag import Okt\n",
    "okt = Okt()"
   ]
  },
  {
   "cell_type": "code",
   "execution_count": 14,
   "id": "812a2d3b",
   "metadata": {
    "scrolled": true
   },
   "outputs": [
    {
     "data": {
      "text/html": [
       "<div>\n",
       "<style scoped>\n",
       "    .dataframe tbody tr th:only-of-type {\n",
       "        vertical-align: middle;\n",
       "    }\n",
       "\n",
       "    .dataframe tbody tr th {\n",
       "        vertical-align: top;\n",
       "    }\n",
       "\n",
       "    .dataframe thead th {\n",
       "        text-align: right;\n",
       "    }\n",
       "</style>\n",
       "<table border=\"1\" class=\"dataframe\">\n",
       "  <thead>\n",
       "    <tr style=\"text-align: right;\">\n",
       "      <th></th>\n",
       "      <th>6month_return_index</th>\n",
       "      <th>6month_return</th>\n",
       "      <th>6month_log_return</th>\n",
       "      <th>1Year_return_index</th>\n",
       "      <th>1Year_return</th>\n",
       "      <th>1Year_log_return</th>\n",
       "      <th>idx</th>\n",
       "      <th>투자의견</th>\n",
       "      <th>khaiii_tokens</th>\n",
       "    </tr>\n",
       "  </thead>\n",
       "  <tbody>\n",
       "    <tr>\n",
       "      <th>0</th>\n",
       "      <td>-0.033670</td>\n",
       "      <td>0.273438</td>\n",
       "      <td>0.241720</td>\n",
       "      <td>0.294085</td>\n",
       "      <td>0.470703</td>\n",
       "      <td>0.385741</td>\n",
       "      <td>575535</td>\n",
       "      <td>buy</td>\n",
       "      <td>['슬라이드', '전기전자', '김준환', '년', '월', '일', '반도체', ...</td>\n",
       "    </tr>\n",
       "    <tr>\n",
       "      <th>1</th>\n",
       "      <td>0.230397</td>\n",
       "      <td>0.602326</td>\n",
       "      <td>0.471456</td>\n",
       "      <td>0.451636</td>\n",
       "      <td>0.734884</td>\n",
       "      <td>0.550940</td>\n",
       "      <td>574168</td>\n",
       "      <td>buy</td>\n",
       "      <td>['삼성', '그', '린뉴딜', '핵심', '기업', '경', '탁', '시장',...</td>\n",
       "    </tr>\n",
       "    <tr>\n",
       "      <th>2</th>\n",
       "      <td>0.230397</td>\n",
       "      <td>0.602326</td>\n",
       "      <td>0.471456</td>\n",
       "      <td>0.451636</td>\n",
       "      <td>0.734884</td>\n",
       "      <td>0.550940</td>\n",
       "      <td>574162</td>\n",
       "      <td>buy</td>\n",
       "      <td>['년', '월', '일', '기업', '분석', '삼성', '이제', '이익', ...</td>\n",
       "    </tr>\n",
       "    <tr>\n",
       "      <th>3</th>\n",
       "      <td>0.230397</td>\n",
       "      <td>0.602326</td>\n",
       "      <td>0.471456</td>\n",
       "      <td>0.451636</td>\n",
       "      <td>0.734884</td>\n",
       "      <td>0.550940</td>\n",
       "      <td>574149</td>\n",
       "      <td>buy</td>\n",
       "      <td>['이차', '전지', '투자', '의견', '목표', '주', '원', '현재주가...</td>\n",
       "    </tr>\n",
       "    <tr>\n",
       "      <th>4</th>\n",
       "      <td>0.230397</td>\n",
       "      <td>0.602326</td>\n",
       "      <td>0.471456</td>\n",
       "      <td>0.451636</td>\n",
       "      <td>0.734884</td>\n",
       "      <td>0.550940</td>\n",
       "      <td>574134</td>\n",
       "      <td>buy</td>\n",
       "      <td>['기업', '분석', '삼성', '분기', '이익', '성장', '본격', '박강...</td>\n",
       "    </tr>\n",
       "    <tr>\n",
       "      <th>...</th>\n",
       "      <td>...</td>\n",
       "      <td>...</td>\n",
       "      <td>...</td>\n",
       "      <td>...</td>\n",
       "      <td>...</td>\n",
       "      <td>...</td>\n",
       "      <td>...</td>\n",
       "      <td>...</td>\n",
       "      <td>...</td>\n",
       "    </tr>\n",
       "    <tr>\n",
       "      <th>135730</th>\n",
       "      <td>-0.027726</td>\n",
       "      <td>-0.066964</td>\n",
       "      <td>-0.069312</td>\n",
       "      <td>-0.270470</td>\n",
       "      <td>-0.325893</td>\n",
       "      <td>-0.394366</td>\n",
       "      <td>347333</td>\n",
       "      <td>strongbuy</td>\n",
       "      <td>['석', '주요', '지표', '단위', '매출액', '원', '영업', '이익'...</td>\n",
       "    </tr>\n",
       "    <tr>\n",
       "      <th>135731</th>\n",
       "      <td>0.057630</td>\n",
       "      <td>0.014013</td>\n",
       "      <td>0.013915</td>\n",
       "      <td>-0.158888</td>\n",
       "      <td>-0.185987</td>\n",
       "      <td>-0.205779</td>\n",
       "      <td>345498</td>\n",
       "      <td>strongbuy</td>\n",
       "      <td>['사조산업', '재평가', '시기', '사', '조', '그', '룹', '실질'...</td>\n",
       "    </tr>\n",
       "    <tr>\n",
       "      <th>135733</th>\n",
       "      <td>-0.289034</td>\n",
       "      <td>-0.319101</td>\n",
       "      <td>-0.384341</td>\n",
       "      <td>-0.461999</td>\n",
       "      <td>-0.486142</td>\n",
       "      <td>-0.665809</td>\n",
       "      <td>352285</td>\n",
       "      <td>strongbuy</td>\n",
       "      <td>['기업', '분석', '서', '전기전', '상반기보', '하반기', '기계', ...</td>\n",
       "    </tr>\n",
       "    <tr>\n",
       "      <th>135734</th>\n",
       "      <td>-0.279320</td>\n",
       "      <td>-0.226148</td>\n",
       "      <td>-0.256375</td>\n",
       "      <td>-0.582808</td>\n",
       "      <td>-0.492580</td>\n",
       "      <td>-0.678415</td>\n",
       "      <td>345568</td>\n",
       "      <td>strongbuy</td>\n",
       "      <td>['기계', '전력', '산업', '송배', '전망', '증설', '성장', '산업...</td>\n",
       "    </tr>\n",
       "    <tr>\n",
       "      <th>135735</th>\n",
       "      <td>-0.122951</td>\n",
       "      <td>-0.102488</td>\n",
       "      <td>-0.108129</td>\n",
       "      <td>0.446636</td>\n",
       "      <td>0.795024</td>\n",
       "      <td>0.585018</td>\n",
       "      <td>328374</td>\n",
       "      <td>strongbuy</td>\n",
       "      <td>['기업', '분석', '특급', '영업', '이익률', '목표', '주', '원'...</td>\n",
       "    </tr>\n",
       "  </tbody>\n",
       "</table>\n",
       "<p>103327 rows × 9 columns</p>\n",
       "</div>"
      ],
      "text/plain": [
       "        6month_return_index  6month_return  6month_log_return  \\\n",
       "0                 -0.033670       0.273438           0.241720   \n",
       "1                  0.230397       0.602326           0.471456   \n",
       "2                  0.230397       0.602326           0.471456   \n",
       "3                  0.230397       0.602326           0.471456   \n",
       "4                  0.230397       0.602326           0.471456   \n",
       "...                     ...            ...                ...   \n",
       "135730            -0.027726      -0.066964          -0.069312   \n",
       "135731             0.057630       0.014013           0.013915   \n",
       "135733            -0.289034      -0.319101          -0.384341   \n",
       "135734            -0.279320      -0.226148          -0.256375   \n",
       "135735            -0.122951      -0.102488          -0.108129   \n",
       "\n",
       "        1Year_return_index  1Year_return  1Year_log_return     idx       투자의견  \\\n",
       "0                 0.294085      0.470703          0.385741  575535        buy   \n",
       "1                 0.451636      0.734884          0.550940  574168        buy   \n",
       "2                 0.451636      0.734884          0.550940  574162        buy   \n",
       "3                 0.451636      0.734884          0.550940  574149        buy   \n",
       "4                 0.451636      0.734884          0.550940  574134        buy   \n",
       "...                    ...           ...               ...     ...        ...   \n",
       "135730           -0.270470     -0.325893         -0.394366  347333  strongbuy   \n",
       "135731           -0.158888     -0.185987         -0.205779  345498  strongbuy   \n",
       "135733           -0.461999     -0.486142         -0.665809  352285  strongbuy   \n",
       "135734           -0.582808     -0.492580         -0.678415  345568  strongbuy   \n",
       "135735            0.446636      0.795024          0.585018  328374  strongbuy   \n",
       "\n",
       "                                            khaiii_tokens  \n",
       "0       ['슬라이드', '전기전자', '김준환', '년', '월', '일', '반도체', ...  \n",
       "1       ['삼성', '그', '린뉴딜', '핵심', '기업', '경', '탁', '시장',...  \n",
       "2       ['년', '월', '일', '기업', '분석', '삼성', '이제', '이익', ...  \n",
       "3       ['이차', '전지', '투자', '의견', '목표', '주', '원', '현재주가...  \n",
       "4       ['기업', '분석', '삼성', '분기', '이익', '성장', '본격', '박강...  \n",
       "...                                                   ...  \n",
       "135730  ['석', '주요', '지표', '단위', '매출액', '원', '영업', '이익'...  \n",
       "135731  ['사조산업', '재평가', '시기', '사', '조', '그', '룹', '실질'...  \n",
       "135733  ['기업', '분석', '서', '전기전', '상반기보', '하반기', '기계', ...  \n",
       "135734  ['기계', '전력', '산업', '송배', '전망', '증설', '성장', '산업...  \n",
       "135735  ['기업', '분석', '특급', '영업', '이익률', '목표', '주', '원'...  \n",
       "\n",
       "[103327 rows x 9 columns]"
      ]
     },
     "execution_count": 14,
     "metadata": {},
     "output_type": "execute_result"
    }
   ],
   "source": [
    "df = pd.read_csv('model_df.csv',index_col=0)\n",
    "df"
   ]
  },
  {
   "cell_type": "code",
   "execution_count": 37,
   "id": "7447c699",
   "metadata": {},
   "outputs": [],
   "source": [
    "df1=df.copy()"
   ]
  },
  {
   "cell_type": "markdown",
   "id": "1f14c66a",
   "metadata": {},
   "source": [
    "### 1Year-7bins"
   ]
  },
  {
   "cell_type": "code",
   "execution_count": 38,
   "id": "25175c4b",
   "metadata": {},
   "outputs": [],
   "source": [
    "c=np.array(df1['1Year_return'])"
   ]
  },
  {
   "cell_type": "code",
   "execution_count": 39,
   "id": "f8c63b05",
   "metadata": {},
   "outputs": [
    {
     "name": "stdout",
     "output_type": "stream",
     "text": [
      "[-1, -0.3, -0.2, -0.1, 0, 0.12, 0.3, 1.5]\n"
     ]
    }
   ],
   "source": [
    "bins = [-1, -0.30, -0.2,  -0.1,  0,  0.12,  0.3, 1.5]\n",
    "print(bins)"
   ]
  },
  {
   "cell_type": "code",
   "execution_count": 40,
   "id": "1b940802",
   "metadata": {},
   "outputs": [
    {
     "data": {
      "text/html": [
       "<div>\n",
       "<style scoped>\n",
       "    .dataframe tbody tr th:only-of-type {\n",
       "        vertical-align: middle;\n",
       "    }\n",
       "\n",
       "    .dataframe tbody tr th {\n",
       "        vertical-align: top;\n",
       "    }\n",
       "\n",
       "    .dataframe thead th {\n",
       "        text-align: right;\n",
       "    }\n",
       "</style>\n",
       "<table border=\"1\" class=\"dataframe\">\n",
       "  <thead>\n",
       "    <tr style=\"text-align: right;\">\n",
       "      <th></th>\n",
       "      <th>도수</th>\n",
       "      <th>상대도수</th>\n",
       "      <th>누적도수</th>\n",
       "    </tr>\n",
       "  </thead>\n",
       "  <tbody>\n",
       "    <tr>\n",
       "      <th>(-1.0, -0.3]</th>\n",
       "      <td>14596</td>\n",
       "      <td>0.141260</td>\n",
       "      <td>14596</td>\n",
       "    </tr>\n",
       "    <tr>\n",
       "      <th>(-0.3, -0.2]</th>\n",
       "      <td>12644</td>\n",
       "      <td>0.122369</td>\n",
       "      <td>27240</td>\n",
       "    </tr>\n",
       "    <tr>\n",
       "      <th>(-0.2, -0.1]</th>\n",
       "      <td>15432</td>\n",
       "      <td>0.149351</td>\n",
       "      <td>42672</td>\n",
       "    </tr>\n",
       "    <tr>\n",
       "      <th>(-0.1, 0.0]</th>\n",
       "      <td>15586</td>\n",
       "      <td>0.150842</td>\n",
       "      <td>58258</td>\n",
       "    </tr>\n",
       "    <tr>\n",
       "      <th>(0.0, 0.12]</th>\n",
       "      <td>14861</td>\n",
       "      <td>0.143825</td>\n",
       "      <td>73119</td>\n",
       "    </tr>\n",
       "    <tr>\n",
       "      <th>(0.12, 0.3]</th>\n",
       "      <td>14294</td>\n",
       "      <td>0.138338</td>\n",
       "      <td>87413</td>\n",
       "    </tr>\n",
       "    <tr>\n",
       "      <th>(0.3, 1.5]</th>\n",
       "      <td>15914</td>\n",
       "      <td>0.154016</td>\n",
       "      <td>103327</td>\n",
       "    </tr>\n",
       "  </tbody>\n",
       "</table>\n",
       "</div>"
      ],
      "text/plain": [
       "                 도수      상대도수    누적도수\n",
       "(-1.0, -0.3]  14596  0.141260   14596\n",
       "(-0.3, -0.2]  12644  0.122369   27240\n",
       "(-0.2, -0.1]  15432  0.149351   42672\n",
       "(-0.1, 0.0]   15586  0.150842   58258\n",
       "(0.0, 0.12]   14861  0.143825   73119\n",
       "(0.12, 0.3]   14294  0.138338   87413\n",
       "(0.3, 1.5]    15914  0.154016  103327"
      ]
     },
     "execution_count": 40,
     "metadata": {},
     "output_type": "execute_result"
    }
   ],
   "source": [
    "c_cut = pd.cut(c,bins,right=True)\n",
    "frq = pd.value_counts(c_cut).sort_index()\n",
    "frq_sum = frq.sum()\n",
    "df_cut=pd.DataFrame({'도수':frq,\n",
    "            '상대도수':[i/frq_sum for i in frq],\n",
    "            '누적도수' : frq.cumsum()})\n",
    "df_cut"
   ]
  },
  {
   "cell_type": "code",
   "execution_count": 41,
   "id": "a912ca7c",
   "metadata": {
    "scrolled": true
   },
   "outputs": [
    {
     "data": {
      "text/plain": [
       "(array([14583., 12594., 15473., 15356., 15110., 14284., 15927.]),\n",
       " array([-1.  , -0.3 , -0.2 , -0.1 ,  0.  ,  0.12,  0.3 ,  1.5 ]),\n",
       " <BarContainer object of 7 artists>)"
      ]
     },
     "execution_count": 41,
     "metadata": {},
     "output_type": "execute_result"
    },
    {
     "data": {
      "image/png": "[encoded data removed]",
      "text/plain": [
       "<Figure size 432x288 with 1 Axes>"
      ]
     },
     "metadata": {
      "needs_background": "light"
     },
     "output_type": "display_data"
    }
   ],
   "source": [
    "plt.hist(c, bins = bins,rwidth = 0.8,color='blue')"
   ]
  },
  {
   "cell_type": "code",
   "execution_count": 42,
   "id": "872c4f88",
   "metadata": {},
   "outputs": [
    {
     "data": {
      "text/plain": [
       "[('(-1.0, -0.3]', 'K'),\n",
       " ('(-0.3, -0.2]', 'J'),\n",
       " ('(-0.2, -0.1]', 'I'),\n",
       " ('(-0.1, 0.0]', 'H'),\n",
       " ('(0.0, 0.12]', 'G'),\n",
       " ('(0.12, 0.3]', 'F'),\n",
       " ('(0.3, 1.5]', 'E')]"
      ]
     },
     "execution_count": 42,
     "metadata": {},
     "output_type": "execute_result"
    }
   ],
   "source": [
    "bins_label = [(str(x),alpha) for x,alpha in zip(df_cut.index, ['K','J','I','H','G','F','E','D','C','B','A'])]\n",
    "bins_label"
   ]
  },
  {
   "cell_type": "code",
   "execution_count": 48,
   "id": "244b0981",
   "metadata": {},
   "outputs": [],
   "source": [
    "df2 = df1.copy()"
   ]
  },
  {
   "cell_type": "code",
   "execution_count": 49,
   "id": "18d7a4d1",
   "metadata": {},
   "outputs": [],
   "source": [
    "df2[\"interval\"] = pd.cut(df2[\"1Year_return\"], bins, right=False, labels=bins_label)"
   ]
  },
  {
   "cell_type": "code",
   "execution_count": 50,
   "id": "30834b38",
   "metadata": {},
   "outputs": [],
   "source": [
    "df2['Label'] = df2['interval'].apply(lambda x : x[1])\n",
    "df2['interval'] = df2['interval'].apply(lambda x : x[0])"
   ]
  },
  {
   "cell_type": "code",
   "execution_count": 51,
   "id": "f1070054",
   "metadata": {
    "collapsed": true
   },
   "outputs": [
    {
     "data": {
      "text/html": [
       "<div>\n",
       "<style scoped>\n",
       "    .dataframe tbody tr th:only-of-type {\n",
       "        vertical-align: middle;\n",
       "    }\n",
       "\n",
       "    .dataframe tbody tr th {\n",
       "        vertical-align: top;\n",
       "    }\n",
       "\n",
       "    .dataframe thead th {\n",
       "        text-align: right;\n",
       "    }\n",
       "</style>\n",
       "<table border=\"1\" class=\"dataframe\">\n",
       "  <thead>\n",
       "    <tr style=\"text-align: right;\">\n",
       "      <th></th>\n",
       "      <th>6month_return_index</th>\n",
       "      <th>6month_return</th>\n",
       "      <th>6month_log_return</th>\n",
       "      <th>1Year_return_index</th>\n",
       "      <th>1Year_return</th>\n",
       "      <th>1Year_log_return</th>\n",
       "      <th>idx</th>\n",
       "      <th>투자의견</th>\n",
       "      <th>khaiii_tokens</th>\n",
       "      <th>interval</th>\n",
       "      <th>Label</th>\n",
       "    </tr>\n",
       "  </thead>\n",
       "  <tbody>\n",
       "    <tr>\n",
       "      <th>0</th>\n",
       "      <td>-0.033670</td>\n",
       "      <td>0.273438</td>\n",
       "      <td>0.241720</td>\n",
       "      <td>0.294085</td>\n",
       "      <td>0.470703</td>\n",
       "      <td>0.385741</td>\n",
       "      <td>575535</td>\n",
       "      <td>buy</td>\n",
       "      <td>['슬라이드', '전기전자', '김준환', '년', '월', '일', '반도체', ...</td>\n",
       "      <td>(0.3, 1.5]</td>\n",
       "      <td>E</td>\n",
       "    </tr>\n",
       "    <tr>\n",
       "      <th>1</th>\n",
       "      <td>0.230397</td>\n",
       "      <td>0.602326</td>\n",
       "      <td>0.471456</td>\n",
       "      <td>0.451636</td>\n",
       "      <td>0.734884</td>\n",
       "      <td>0.550940</td>\n",
       "      <td>574168</td>\n",
       "      <td>buy</td>\n",
       "      <td>['삼성', '그', '린뉴딜', '핵심', '기업', '경', '탁', '시장',...</td>\n",
       "      <td>(0.3, 1.5]</td>\n",
       "      <td>E</td>\n",
       "    </tr>\n",
       "    <tr>\n",
       "      <th>2</th>\n",
       "      <td>0.230397</td>\n",
       "      <td>0.602326</td>\n",
       "      <td>0.471456</td>\n",
       "      <td>0.451636</td>\n",
       "      <td>0.734884</td>\n",
       "      <td>0.550940</td>\n",
       "      <td>574162</td>\n",
       "      <td>buy</td>\n",
       "      <td>['년', '월', '일', '기업', '분석', '삼성', '이제', '이익', ...</td>\n",
       "      <td>(0.3, 1.5]</td>\n",
       "      <td>E</td>\n",
       "    </tr>\n",
       "    <tr>\n",
       "      <th>3</th>\n",
       "      <td>0.230397</td>\n",
       "      <td>0.602326</td>\n",
       "      <td>0.471456</td>\n",
       "      <td>0.451636</td>\n",
       "      <td>0.734884</td>\n",
       "      <td>0.550940</td>\n",
       "      <td>574149</td>\n",
       "      <td>buy</td>\n",
       "      <td>['이차', '전지', '투자', '의견', '목표', '주', '원', '현재주가...</td>\n",
       "      <td>(0.3, 1.5]</td>\n",
       "      <td>E</td>\n",
       "    </tr>\n",
       "    <tr>\n",
       "      <th>4</th>\n",
       "      <td>0.230397</td>\n",
       "      <td>0.602326</td>\n",
       "      <td>0.471456</td>\n",
       "      <td>0.451636</td>\n",
       "      <td>0.734884</td>\n",
       "      <td>0.550940</td>\n",
       "      <td>574134</td>\n",
       "      <td>buy</td>\n",
       "      <td>['기업', '분석', '삼성', '분기', '이익', '성장', '본격', '박강...</td>\n",
       "      <td>(0.3, 1.5]</td>\n",
       "      <td>E</td>\n",
       "    </tr>\n",
       "    <tr>\n",
       "      <th>...</th>\n",
       "      <td>...</td>\n",
       "      <td>...</td>\n",
       "      <td>...</td>\n",
       "      <td>...</td>\n",
       "      <td>...</td>\n",
       "      <td>...</td>\n",
       "      <td>...</td>\n",
       "      <td>...</td>\n",
       "      <td>...</td>\n",
       "      <td>...</td>\n",
       "      <td>...</td>\n",
       "    </tr>\n",
       "    <tr>\n",
       "      <th>135730</th>\n",
       "      <td>-0.027726</td>\n",
       "      <td>-0.066964</td>\n",
       "      <td>-0.069312</td>\n",
       "      <td>-0.270470</td>\n",
       "      <td>-0.325893</td>\n",
       "      <td>-0.394366</td>\n",
       "      <td>347333</td>\n",
       "      <td>strongbuy</td>\n",
       "      <td>['석', '주요', '지표', '단위', '매출액', '원', '영업', '이익'...</td>\n",
       "      <td>(-1.0, -0.3]</td>\n",
       "      <td>K</td>\n",
       "    </tr>\n",
       "    <tr>\n",
       "      <th>135731</th>\n",
       "      <td>0.057630</td>\n",
       "      <td>0.014013</td>\n",
       "      <td>0.013915</td>\n",
       "      <td>-0.158888</td>\n",
       "      <td>-0.185987</td>\n",
       "      <td>-0.205779</td>\n",
       "      <td>345498</td>\n",
       "      <td>strongbuy</td>\n",
       "      <td>['사조산업', '재평가', '시기', '사', '조', '그', '룹', '실질'...</td>\n",
       "      <td>(-0.2, -0.1]</td>\n",
       "      <td>I</td>\n",
       "    </tr>\n",
       "    <tr>\n",
       "      <th>135733</th>\n",
       "      <td>-0.289034</td>\n",
       "      <td>-0.319101</td>\n",
       "      <td>-0.384341</td>\n",
       "      <td>-0.461999</td>\n",
       "      <td>-0.486142</td>\n",
       "      <td>-0.665809</td>\n",
       "      <td>352285</td>\n",
       "      <td>strongbuy</td>\n",
       "      <td>['기업', '분석', '서', '전기전', '상반기보', '하반기', '기계', ...</td>\n",
       "      <td>(-1.0, -0.3]</td>\n",
       "      <td>K</td>\n",
       "    </tr>\n",
       "    <tr>\n",
       "      <th>135734</th>\n",
       "      <td>-0.279320</td>\n",
       "      <td>-0.226148</td>\n",
       "      <td>-0.256375</td>\n",
       "      <td>-0.582808</td>\n",
       "      <td>-0.492580</td>\n",
       "      <td>-0.678415</td>\n",
       "      <td>345568</td>\n",
       "      <td>strongbuy</td>\n",
       "      <td>['기계', '전력', '산업', '송배', '전망', '증설', '성장', '산업...</td>\n",
       "      <td>(-1.0, -0.3]</td>\n",
       "      <td>K</td>\n",
       "    </tr>\n",
       "    <tr>\n",
       "      <th>135735</th>\n",
       "      <td>-0.122951</td>\n",
       "      <td>-0.102488</td>\n",
       "      <td>-0.108129</td>\n",
       "      <td>0.446636</td>\n",
       "      <td>0.795024</td>\n",
       "      <td>0.585018</td>\n",
       "      <td>328374</td>\n",
       "      <td>strongbuy</td>\n",
       "      <td>['기업', '분석', '특급', '영업', '이익률', '목표', '주', '원'...</td>\n",
       "      <td>(0.3, 1.5]</td>\n",
       "      <td>E</td>\n",
       "    </tr>\n",
       "  </tbody>\n",
       "</table>\n",
       "<p>103327 rows × 11 columns</p>\n",
       "</div>"
      ],
      "text/plain": [
       "        6month_return_index  6month_return  6month_log_return  \\\n",
       "0                 -0.033670       0.273438           0.241720   \n",
       "1                  0.230397       0.602326           0.471456   \n",
       "2                  0.230397       0.602326           0.471456   \n",
       "3                  0.230397       0.602326           0.471456   \n",
       "4                  0.230397       0.602326           0.471456   \n",
       "...                     ...            ...                ...   \n",
       "135730            -0.027726      -0.066964          -0.069312   \n",
       "135731             0.057630       0.014013           0.013915   \n",
       "135733            -0.289034      -0.319101          -0.384341   \n",
       "135734            -0.279320      -0.226148          -0.256375   \n",
       "135735            -0.122951      -0.102488          -0.108129   \n",
       "\n",
       "        1Year_return_index  1Year_return  1Year_log_return     idx       투자의견  \\\n",
       "0                 0.294085      0.470703          0.385741  575535        buy   \n",
       "1                 0.451636      0.734884          0.550940  574168        buy   \n",
       "2                 0.451636      0.734884          0.550940  574162        buy   \n",
       "3                 0.451636      0.734884          0.550940  574149        buy   \n",
       "4                 0.451636      0.734884          0.550940  574134        buy   \n",
       "...                    ...           ...               ...     ...        ...   \n",
       "135730           -0.270470     -0.325893         -0.394366  347333  strongbuy   \n",
       "135731           -0.158888     -0.185987         -0.205779  345498  strongbuy   \n",
       "135733           -0.461999     -0.486142         -0.665809  352285  strongbuy   \n",
       "135734           -0.582808     -0.492580         -0.678415  345568  strongbuy   \n",
       "135735            0.446636      0.795024          0.585018  328374  strongbuy   \n",
       "\n",
       "                                            khaiii_tokens      interval Label  \n",
       "0       ['슬라이드', '전기전자', '김준환', '년', '월', '일', '반도체', ...    (0.3, 1.5]     E  \n",
       "1       ['삼성', '그', '린뉴딜', '핵심', '기업', '경', '탁', '시장',...    (0.3, 1.5]     E  \n",
       "2       ['년', '월', '일', '기업', '분석', '삼성', '이제', '이익', ...    (0.3, 1.5]     E  \n",
       "3       ['이차', '전지', '투자', '의견', '목표', '주', '원', '현재주가...    (0.3, 1.5]     E  \n",
       "4       ['기업', '분석', '삼성', '분기', '이익', '성장', '본격', '박강...    (0.3, 1.5]     E  \n",
       "...                                                   ...           ...   ...  \n",
       "135730  ['석', '주요', '지표', '단위', '매출액', '원', '영업', '이익'...  (-1.0, -0.3]     K  \n",
       "135731  ['사조산업', '재평가', '시기', '사', '조', '그', '룹', '실질'...  (-0.2, -0.1]     I  \n",
       "135733  ['기업', '분석', '서', '전기전', '상반기보', '하반기', '기계', ...  (-1.0, -0.3]     K  \n",
       "135734  ['기계', '전력', '산업', '송배', '전망', '증설', '성장', '산업...  (-1.0, -0.3]     K  \n",
       "135735  ['기업', '분석', '특급', '영업', '이익률', '목표', '주', '원'...    (0.3, 1.5]     E  \n",
       "\n",
       "[103327 rows x 11 columns]"
      ]
     },
     "execution_count": 51,
     "metadata": {},
     "output_type": "execute_result"
    }
   ],
   "source": [
    "df2"
   ]
  },
  {
   "cell_type": "code",
   "execution_count": 52,
   "id": "0ee1af08",
   "metadata": {},
   "outputs": [
    {
     "data": {
      "text/html": [
       "<div>\n",
       "<style scoped>\n",
       "    .dataframe tbody tr th:only-of-type {\n",
       "        vertical-align: middle;\n",
       "    }\n",
       "\n",
       "    .dataframe tbody tr th {\n",
       "        vertical-align: top;\n",
       "    }\n",
       "\n",
       "    .dataframe thead th {\n",
       "        text-align: right;\n",
       "    }\n",
       "</style>\n",
       "<table border=\"1\" class=\"dataframe\">\n",
       "  <thead>\n",
       "    <tr style=\"text-align: right;\">\n",
       "      <th></th>\n",
       "      <th>1Year_return</th>\n",
       "      <th>interval</th>\n",
       "      <th>Label</th>\n",
       "      <th>khaiii_tokens</th>\n",
       "      <th>idx</th>\n",
       "    </tr>\n",
       "  </thead>\n",
       "  <tbody>\n",
       "    <tr>\n",
       "      <th>0</th>\n",
       "      <td>0.470703</td>\n",
       "      <td>(0.3, 1.5]</td>\n",
       "      <td>E</td>\n",
       "      <td>['슬라이드', '전기전자', '김준환', '년', '월', '일', '반도체', ...</td>\n",
       "      <td>575535</td>\n",
       "    </tr>\n",
       "    <tr>\n",
       "      <th>1</th>\n",
       "      <td>0.734884</td>\n",
       "      <td>(0.3, 1.5]</td>\n",
       "      <td>E</td>\n",
       "      <td>['삼성', '그', '린뉴딜', '핵심', '기업', '경', '탁', '시장',...</td>\n",
       "      <td>574168</td>\n",
       "    </tr>\n",
       "    <tr>\n",
       "      <th>2</th>\n",
       "      <td>0.734884</td>\n",
       "      <td>(0.3, 1.5]</td>\n",
       "      <td>E</td>\n",
       "      <td>['년', '월', '일', '기업', '분석', '삼성', '이제', '이익', ...</td>\n",
       "      <td>574162</td>\n",
       "    </tr>\n",
       "    <tr>\n",
       "      <th>3</th>\n",
       "      <td>0.734884</td>\n",
       "      <td>(0.3, 1.5]</td>\n",
       "      <td>E</td>\n",
       "      <td>['이차', '전지', '투자', '의견', '목표', '주', '원', '현재주가...</td>\n",
       "      <td>574149</td>\n",
       "    </tr>\n",
       "    <tr>\n",
       "      <th>4</th>\n",
       "      <td>0.734884</td>\n",
       "      <td>(0.3, 1.5]</td>\n",
       "      <td>E</td>\n",
       "      <td>['기업', '분석', '삼성', '분기', '이익', '성장', '본격', '박강...</td>\n",
       "      <td>574134</td>\n",
       "    </tr>\n",
       "    <tr>\n",
       "      <th>...</th>\n",
       "      <td>...</td>\n",
       "      <td>...</td>\n",
       "      <td>...</td>\n",
       "      <td>...</td>\n",
       "      <td>...</td>\n",
       "    </tr>\n",
       "    <tr>\n",
       "      <th>135730</th>\n",
       "      <td>-0.325893</td>\n",
       "      <td>(-1.0, -0.3]</td>\n",
       "      <td>K</td>\n",
       "      <td>['석', '주요', '지표', '단위', '매출액', '원', '영업', '이익'...</td>\n",
       "      <td>347333</td>\n",
       "    </tr>\n",
       "    <tr>\n",
       "      <th>135731</th>\n",
       "      <td>-0.185987</td>\n",
       "      <td>(-0.2, -0.1]</td>\n",
       "      <td>I</td>\n",
       "      <td>['사조산업', '재평가', '시기', '사', '조', '그', '룹', '실질'...</td>\n",
       "      <td>345498</td>\n",
       "    </tr>\n",
       "    <tr>\n",
       "      <th>135733</th>\n",
       "      <td>-0.486142</td>\n",
       "      <td>(-1.0, -0.3]</td>\n",
       "      <td>K</td>\n",
       "      <td>['기업', '분석', '서', '전기전', '상반기보', '하반기', '기계', ...</td>\n",
       "      <td>352285</td>\n",
       "    </tr>\n",
       "    <tr>\n",
       "      <th>135734</th>\n",
       "      <td>-0.492580</td>\n",
       "      <td>(-1.0, -0.3]</td>\n",
       "      <td>K</td>\n",
       "      <td>['기계', '전력', '산업', '송배', '전망', '증설', '성장', '산업...</td>\n",
       "      <td>345568</td>\n",
       "    </tr>\n",
       "    <tr>\n",
       "      <th>135735</th>\n",
       "      <td>0.795024</td>\n",
       "      <td>(0.3, 1.5]</td>\n",
       "      <td>E</td>\n",
       "      <td>['기업', '분석', '특급', '영업', '이익률', '목표', '주', '원'...</td>\n",
       "      <td>328374</td>\n",
       "    </tr>\n",
       "  </tbody>\n",
       "</table>\n",
       "<p>103327 rows × 5 columns</p>\n",
       "</div>"
      ],
      "text/plain": [
       "        1Year_return      interval Label  \\\n",
       "0           0.470703    (0.3, 1.5]     E   \n",
       "1           0.734884    (0.3, 1.5]     E   \n",
       "2           0.734884    (0.3, 1.5]     E   \n",
       "3           0.734884    (0.3, 1.5]     E   \n",
       "4           0.734884    (0.3, 1.5]     E   \n",
       "...              ...           ...   ...   \n",
       "135730     -0.325893  (-1.0, -0.3]     K   \n",
       "135731     -0.185987  (-0.2, -0.1]     I   \n",
       "135733     -0.486142  (-1.0, -0.3]     K   \n",
       "135734     -0.492580  (-1.0, -0.3]     K   \n",
       "135735      0.795024    (0.3, 1.5]     E   \n",
       "\n",
       "                                            khaiii_tokens     idx  \n",
       "0       ['슬라이드', '전기전자', '김준환', '년', '월', '일', '반도체', ...  575535  \n",
       "1       ['삼성', '그', '린뉴딜', '핵심', '기업', '경', '탁', '시장',...  574168  \n",
       "2       ['년', '월', '일', '기업', '분석', '삼성', '이제', '이익', ...  574162  \n",
       "3       ['이차', '전지', '투자', '의견', '목표', '주', '원', '현재주가...  574149  \n",
       "4       ['기업', '분석', '삼성', '분기', '이익', '성장', '본격', '박강...  574134  \n",
       "...                                                   ...     ...  \n",
       "135730  ['석', '주요', '지표', '단위', '매출액', '원', '영업', '이익'...  347333  \n",
       "135731  ['사조산업', '재평가', '시기', '사', '조', '그', '룹', '실질'...  345498  \n",
       "135733  ['기업', '분석', '서', '전기전', '상반기보', '하반기', '기계', ...  352285  \n",
       "135734  ['기계', '전력', '산업', '송배', '전망', '증설', '성장', '산업...  345568  \n",
       "135735  ['기업', '분석', '특급', '영업', '이익률', '목표', '주', '원'...  328374  \n",
       "\n",
       "[103327 rows x 5 columns]"
      ]
     },
     "execution_count": 52,
     "metadata": {},
     "output_type": "execute_result"
    }
   ],
   "source": [
    "df2=df2[['1Year_return','interval','Label','khaiii_tokens','idx']]\n",
    "df_1Year=df2.copy()\n",
    "df_1Year"
   ]
  },
  {
   "cell_type": "code",
   "execution_count": null,
   "id": "53c18fbc",
   "metadata": {},
   "outputs": [],
   "source": []
  },
  {
   "cell_type": "code",
   "execution_count": 54,
   "id": "ee009e25",
   "metadata": {},
   "outputs": [],
   "source": [
    "def join_token(token_list):\n",
    "    string = ' '.join(eval(token_list))\n",
    "    return string"
   ]
  },
  {
   "cell_type": "code",
   "execution_count": 55,
   "id": "3550a7e1",
   "metadata": {},
   "outputs": [],
   "source": [
    "import time"
   ]
  },
  {
   "cell_type": "code",
   "execution_count": 56,
   "id": "7f5a6f87",
   "metadata": {},
   "outputs": [
    {
     "name": "stdout",
     "output_type": "stream",
     "text": [
      "Wall time: 4min 53s\n"
     ]
    }
   ],
   "source": [
    "%%time\n",
    "df_1Year['khaiii_string'] = df_1Year['khaiii_tokens'].apply(join_token)"
   ]
  },
  {
   "cell_type": "code",
   "execution_count": 57,
   "id": "f0d274cc",
   "metadata": {},
   "outputs": [],
   "source": [
    "df_1Year.to_csv('model_1Year.csv')"
   ]
  },
  {
   "cell_type": "code",
   "execution_count": 58,
   "id": "41ef6ec1",
   "metadata": {},
   "outputs": [],
   "source": [
    "df = df_1Year.copy()"
   ]
  },
  {
   "cell_type": "code",
   "execution_count": 59,
   "id": "4a469bbd",
   "metadata": {},
   "outputs": [],
   "source": [
    "from sklearn.feature_extraction.text import CountVectorizer, TfidfVectorizer"
   ]
  },
  {
   "cell_type": "code",
   "execution_count": 60,
   "id": "bee5c630",
   "metadata": {},
   "outputs": [],
   "source": [
    "import re\n",
    "\n",
    "def han_text_clean(text):\n",
    "    text = re.sub(\"[^가-힣ㄱ-ㅎa-zA-Z ]\", \"\", text)\n",
    "   \n",
    "    return text\n",
    "\n",
    "with open('stopwords-ko.txt', 'r', encoding = 'utf-8') as f:\n",
    "    sw1 = f.read()\n",
    "    sw1 = re.sub('\\\\n', ' ', sw1)\n",
    "    sw1 = sw1.split()\n",
    "\n",
    "stop_report = '리서치센터  Compliance Notice 본 조사분석자료는 제3자에게 사전 제공된 사실이 없습니다. 당사는 자료작성일 현재 본 조사분석자료에 언급된 종목의 지분을 1% 이상 보유하고 있지 않습니다. \\\n",
    "본 자료를 작성한 애널리스트는 자료작성일 현재 해당 종목과 재산적 이해관계가 없습니다. 본 자료에 게재된 내용은 본인의 의견을 정확하게 반영하고 있으며, 외부의 부당한 압력이나 간섭 없이 신의 성실하게 작성되었음을 확인합니다. \\\n",
    "본 자료는 투자자들의 투자판단에 참고가 되는 정보제공을 목적으로 배포되는 자료입니다. 본 자료에 수록된 내용은 당사 리서치센터의 추정치로서 오차가 발생할 수 있으며 정확성이나 완벽성은 보장하지 않습니다. \\\n",
    "본 자료를 이용하시는 분은 본 자료와 관련한 투자의 최종 결정은 자신의 판단으로 하시기 바랍니다. 따라서 어떠한 경우에도 본 자료는 투자 결과와 관련한 법적 책임소재의 증빙자료로 사용될 수 없습니다. \\\n",
    "본 조사분석자료는 당사 고객에 한하여 배포되는 자료로 당사의 허락 없이 복사, 대여, 배포 될 수 없습니다.\\\n",
    "투자등급 이 자료에 게재된 내용들은 본인의 의견을 정확하게 반영하고 있으며, 외부의 부당한 압력이나 간섭없이 작성되었음을 확인합니다.(작성자 : 하준두) 자료 제공일 현재\\\n",
    "당사는 상기 회사가 발행한 주식을 1% 이상 보유하고 있지 않습니다. 자료 제공일 현재 당사는 지난 1년간 상기 회사의 최초 증권시장 상장시 대표 주관사로 참여한 적이 없습니다. \\\n",
    "자료제공일 현재 조사분석 담당자는 상기회사가 발행한 주식 및 주식관련사채에 대하여 규정상 고지하여야 할 재산적 이해관계가 없으며, 추천의견을 제시함에 있어 어떠한 금전적 보상과도 연계되어 있지 않습니다. \\\n",
    "당자료는 상기 회사 및 상기회사의 유가증권에 대한 조사분석담당자의 의견을 정확히 반영하고있으나 이는 자료제공일 현재 시점에서의 의견 및 추정치로서 실적치와 오차가 발생할 수 있으며, \\\n",
    "투자를 유도할 목적이 아니라 투자자의 투자판단에 참고가 되는 정보제공을 목적으로 하고 있습니다. 따라서 종목의 선택이나 투자의 최종결정은 투자자 자신의 판단으로 하시기 바랍니다. \\\n",
    "Analyst, 증권,한화투자증권, 하이투자증권, 대신증권, SK증권, IBK투자증권, 키움증권, 이베스트증권,유안타증권, 메리츠증권, 유진투자증권, 카카오페이증권, 한양증권, 하나금융투자, 교보증권, \\\n",
    "현대차투자증권, 메리츠종금증권, 삼성증권, KTB투자증권, 신한금융투자, 한국투자증권,미래에셋대우, KB증권, 미래에셋증권, 하나대투증권, HMC투자증권, NH농협증권, 현대증권,\\\n",
    "동양증권, KDB대우증권, 이트레이드증권, 우리투자증권, 하이증권, 우리증권, 신한금융,대우증권, NH증권, 유진증권, 한투증권, 한화증권, 한화투자증권, 작성자, 한화리서치, 기업, 코멘트,Microsoft, Word,PowerPoint,IBSPPRdoc,CUNITdoc'\n",
    "\n",
    "stop_report = re.sub(\"[^가-힣ㄱ-ㅎa-zA-Z ]\", \"\", stop_report)\n",
    "  \n",
    "sw2 = okt.nouns(han_text_clean(stop_report))\n",
    "\n",
    "stopwords = sw1 + sw2"
   ]
  },
  {
   "cell_type": "code",
   "execution_count": null,
   "id": "31b0232a",
   "metadata": {},
   "outputs": [],
   "source": []
  },
  {
   "cell_type": "code",
   "execution_count": 61,
   "id": "93cdf2dc",
   "metadata": {},
   "outputs": [],
   "source": [
    "from sklearn.preprocessing import LabelEncoder\n",
    "x = df.khaiii_string\n",
    "y = df.Label\n",
    "le = LabelEncoder()\n",
    "le.fit(y)\n",
    "y = le.transform(y)"
   ]
  },
  {
   "cell_type": "code",
   "execution_count": 62,
   "id": "d7fe611b",
   "metadata": {},
   "outputs": [],
   "source": [
    "from sklearn.model_selection import train_test_split\n",
    "\n",
    "x_train, x_test, y_train, y_test = train_test_split(x,y, random_state = 42, test_size=0.3)"
   ]
  },
  {
   "cell_type": "code",
   "execution_count": 66,
   "id": "b554752b",
   "metadata": {},
   "outputs": [
    {
     "name": "stdout",
     "output_type": "stream",
     "text": [
      "Wall time: 3min 37s\n"
     ]
    },
    {
     "data": {
      "text/plain": [
       "TfidfVectorizer(max_df=0.7, max_features=10000, min_df=200, ngram_range=(1, 2),\n",
       "                stop_words=['가', '가까스로', '가령', '각', '각각', '각자', '각종', '갖고말하자면',\n",
       "                            '같다', '같이', '개의치않고', '거니와', '거바', '거의', '것', '것과',\n",
       "                            '같이', '것들', '게다가', '게우다', '겨우', '견지에서', '결과에',\n",
       "                            '이르다', '결국', '결론을', '낼', '수', '있다', '겸사겸사', ...],\n",
       "                sublinear_tf=True)"
      ]
     },
     "execution_count": 66,
     "metadata": {},
     "output_type": "execute_result"
    }
   ],
   "source": [
    "%%time\n",
    "\n",
    "tfidf_vect_p = TfidfVectorizer(stop_words = stopwords, min_df = 200,max_df =0.7, max_features =10000 ,\\\n",
    "                                ngram_range = (1, 2),sublinear_tf = True) # TF의 이상치 제거\n",
    "tfidf_vect_p.fit(x_train)"
   ]
  },
  {
   "cell_type": "code",
   "execution_count": 67,
   "id": "f33bd213",
   "metadata": {},
   "outputs": [
    {
     "name": "stdout",
     "output_type": "stream",
     "text": [
      "Wall time: 3min 58s\n"
     ]
    }
   ],
   "source": [
    "%%time\n",
    "x_train_tfidf_vect_p = tfidf_vect_p.transform(x_train)\n",
    "x_test_tfidf_vect_p = tfidf_vect_p.transform(x_test)"
   ]
  },
  {
   "cell_type": "code",
   "execution_count": 68,
   "id": "f2aa6fc0",
   "metadata": {},
   "outputs": [
    {
     "data": {
      "text/plain": [
       "(30999, 10000)"
      ]
     },
     "execution_count": 68,
     "metadata": {},
     "output_type": "execute_result"
    }
   ],
   "source": [
    "x_test_tfidf_vect_p.shape"
   ]
  },
  {
   "cell_type": "code",
   "execution_count": null,
   "id": "4d3fce9e",
   "metadata": {},
   "outputs": [],
   "source": []
  },
  {
   "cell_type": "code",
   "execution_count": 69,
   "id": "dee667c7",
   "metadata": {},
   "outputs": [],
   "source": [
    "from sklearn.neighbors import KNeighborsClassifier\n",
    "from sklearn.tree import DecisionTreeClassifier\n",
    "from sklearn.ensemble import RandomForestClassifier,AdaBoostClassifier\n",
    "from lightgbm import LGBMClassifier\n",
    "from sklearn.ensemble import GradientBoostingClassifier\n",
    "from xgboost import XGBClassifier\n"
   ]
  },
  {
   "cell_type": "code",
   "execution_count": 70,
   "id": "8f7d0771",
   "metadata": {},
   "outputs": [],
   "source": [
    "from sklearn.neural_network import MLPClassifier"
   ]
  },
  {
   "cell_type": "code",
   "execution_count": 71,
   "id": "70d5e358",
   "metadata": {},
   "outputs": [],
   "source": [
    "knn = KNeighborsClassifier()\n",
    "dtc = DecisionTreeClassifier()\n",
    "rtc = RandomForestClassifier()\n",
    "ada = AdaBoostClassifier()\n",
    "lgb = LGBMClassifier()\n",
    "gdb = GradientBoostingClassifier()\n",
    "xgb = XGBClassifier(eval_metric='logloss')\n",
    "mlp = MLPClassifier()"
   ]
  },
  {
   "cell_type": "code",
   "execution_count": null,
   "id": "a8b281de",
   "metadata": {},
   "outputs": [
    {
     "name": "stdout",
     "output_type": "stream",
     "text": [
      "RandomForestClassifier\n",
      "0.9977325517088818\n",
      "0.2852027484757573\n",
      "\n",
      "LGBMClassifier\n",
      "0.6173681008737971\n",
      "0.28217039259330945\n",
      "\n"
     ]
    }
   ],
   "source": [
    "models=[rtc,lgb,gdb,xgb,mlp]\n",
    "for m in models :\n",
    "    m.fit(x_train_tfidf_vect_p,y_train)\n",
    "    print(m.__class__.__name__)\n",
    "    print(m.score(x_train_tfidf_vect_p, y_train))\n",
    "    print(m.score(x_test_tfidf_vect_p,y_test))\n",
    "    print()"
   ]
  },
  {
   "cell_type": "code",
   "execution_count": null,
   "id": "69a70fb2",
   "metadata": {},
   "outputs": [],
   "source": []
  },
  {
   "cell_type": "code",
   "execution_count": null,
   "id": "aebfff8e",
   "metadata": {},
   "outputs": [],
   "source": []
  },
  {
   "cell_type": "code",
   "execution_count": null,
   "id": "e86e9e89",
   "metadata": {},
   "outputs": [],
   "source": []
  },
  {
   "cell_type": "code",
   "execution_count": null,
   "id": "1698d940",
   "metadata": {},
   "outputs": [],
   "source": [
    "%%time\n",
    "\n",
    "tfidf_vect_2 = TfidfVectorizer(stop_words = stopwords, min_df = 300,max_df =0.7, max_features =25000 ,\\\n",
    "                                ngram_range = (1, 2),sublinear_tf = True) # TF의 이상치 제거\n",
    "tfidf_vect_2.fit(x_train)"
   ]
  },
  {
   "cell_type": "code",
   "execution_count": null,
   "id": "01af926d",
   "metadata": {},
   "outputs": [],
   "source": [
    "%%time\n",
    "x_train_tfidf_vect_2 = tfidf_vect_2.transform(x_train)\n",
    "x_test_tfidf_vect_2 = tfidf_vect_2.transform(x_test)"
   ]
  },
  {
   "cell_type": "code",
   "execution_count": null,
   "id": "9ee48c61",
   "metadata": {},
   "outputs": [],
   "source": [
    "models=[knn,dtc,rtc,ada,lgb,gdb,xgb,mlp]\n",
    "for m in models :\n",
    "    m.fit(x_train_tfidf_vect_2,y_train)\n",
    "    print(m.__class__.__name__)\n",
    "    print(m.score(x_train_tfidf_vect_2, y_train))\n",
    "    print(m.score(x_test_tfidf_vect_2,y_test))\n",
    "    print()"
   ]
  },
  {
   "cell_type": "code",
   "execution_count": null,
   "id": "1fd80717",
   "metadata": {},
   "outputs": [],
   "source": []
  },
  {
   "cell_type": "code",
   "execution_count": null,
   "id": "47c80539",
   "metadata": {},
   "outputs": [],
   "source": []
  },
  {
   "cell_type": "code",
   "execution_count": null,
   "id": "7648ae88",
   "metadata": {},
   "outputs": [],
   "source": []
  },
  {
   "cell_type": "code",
   "execution_count": null,
   "id": "367f6a06",
   "metadata": {},
   "outputs": [],
   "source": []
  },
  {
   "cell_type": "code",
   "execution_count": null,
   "id": "83c4a4d8",
   "metadata": {},
   "outputs": [],
   "source": []
  },
  {
   "cell_type": "code",
   "execution_count": null,
   "id": "cb42dae1",
   "metadata": {},
   "outputs": [],
   "source": []
  },
  {
   "cell_type": "code",
   "execution_count": null,
   "id": "634ce20b",
   "metadata": {},
   "outputs": [],
   "source": []
  }
 ],
 "metadata": {
  "kernelspec": {
   "display_name": "Python 3",
   "language": "python",
   "name": "python3"
  },
  "language_info": {
   "codemirror_mode": {
    "name": "ipython",
    "version": 3
   },
   "file_extension": ".py",
   "mimetype": "text/x-python",
   "name": "python",
   "nbconvert_exporter": "python",
   "pygments_lexer": "ipython3",
   "version": "3.8.8"
  }
 },
 "nbformat": 4,
 "nbformat_minor": 5
}
