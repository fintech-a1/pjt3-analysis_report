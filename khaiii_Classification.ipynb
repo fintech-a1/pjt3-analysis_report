{
 "cells": [
  {
   "cell_type": "code",
   "execution_count": 1,
   "id": "a26126ab",
   "metadata": {},
   "outputs": [],
   "source": [
    "import pandas as pd\n",
    "import numpy as np\n",
    "import matplotlib.pyplot as plt\n",
    "import seaborn as sns"
   ]
  },
  {
   "cell_type": "code",
   "execution_count": 2,
   "id": "549b3a59",
   "metadata": {},
   "outputs": [],
   "source": [
    "from konlpy.tag import Kkma\n",
    "from konlpy.tag import Komoran\n",
    "from konlpy.tag import Hannanum\n",
    "from konlpy.tag import Okt"
   ]
  },
  {
   "cell_type": "code",
   "execution_count": 3,
   "id": "d60a7513",
   "metadata": {},
   "outputs": [],
   "source": [
    "okt= Okt()"
   ]
  },
  {
   "cell_type": "code",
   "execution_count": 6,
   "id": "7806a2d8",
   "metadata": {
    "collapsed": true
   },
   "outputs": [
    {
     "data": {
      "text/html": [
       "<div>\n",
       "<style scoped>\n",
       "    .dataframe tbody tr th:only-of-type {\n",
       "        vertical-align: middle;\n",
       "    }\n",
       "\n",
       "    .dataframe tbody tr th {\n",
       "        vertical-align: top;\n",
       "    }\n",
       "\n",
       "    .dataframe thead th {\n",
       "        text-align: right;\n",
       "    }\n",
       "</style>\n",
       "<table border=\"1\" class=\"dataframe\">\n",
       "  <thead>\n",
       "    <tr style=\"text-align: right;\">\n",
       "      <th></th>\n",
       "      <th>idx</th>\n",
       "      <th>작성일</th>\n",
       "      <th>code</th>\n",
       "      <th>투자의견</th>\n",
       "      <th>idx.1</th>\n",
       "      <th>report</th>\n",
       "      <th>okt_tokens</th>\n",
       "      <th>khaiii_tokens</th>\n",
       "    </tr>\n",
       "  </thead>\n",
       "  <tbody>\n",
       "    <tr>\n",
       "      <th>0</th>\n",
       "      <td>473108</td>\n",
       "      <td>2018-04-18</td>\n",
       "      <td>88350</td>\n",
       "      <td>buy</td>\n",
       "      <td>473108</td>\n",
       "      <td>년 월 일 기업분석건설유틸리티 한화생명  기업이슈 브리프보험  년 월 일 ...</td>\n",
       "      <td>['건설', '유틸리티', '생명', '이슈', '브리프', '보험', '조원', ...</td>\n",
       "      <td>년 월 일 기업 분석 건설유틸리티 한화생 명 기업 이슈 브리프보험 년 월 일 조원 ...</td>\n",
       "    </tr>\n",
       "    <tr>\n",
       "      <th>1</th>\n",
       "      <td>380646</td>\n",
       "      <td>2016-05-23</td>\n",
       "      <td>92070</td>\n",
       "      <td>buy</td>\n",
       "      <td>380646</td>\n",
       "      <td>Microsoft PowerPoint  반도체산업전망 veditingFFpptxCo...</td>\n",
       "      <td>['반도체', '산업', '전망', '반도체', '디스플레이', '산업', '동향'...</td>\n",
       "      <td>반도체산업 전망 반도체 디스플레이 산업 동향 산업 전망 산업 전망 반도체디스플레이 ...</td>\n",
       "    </tr>\n",
       "    <tr>\n",
       "      <th>2</th>\n",
       "      <td>329427</td>\n",
       "      <td>2014-07-29</td>\n",
       "      <td>270</td>\n",
       "      <td>buy</td>\n",
       "      <td>329427</td>\n",
       "      <td>Microsoft Word  CUNITdoc기아차 Q Review  하반기 해볼만하...</td>\n",
       "      <td>['기아차', '하반기', '만하', '원유', '이윤석', '주가', '상대', ...</td>\n",
       "      <td>아차 하반기 해 만 원유지 이윤석 주가 상대 수익 매수 유지 자본금 원 발행 주식수...</td>\n",
       "    </tr>\n",
       "    <tr>\n",
       "      <th>3</th>\n",
       "      <td>519412</td>\n",
       "      <td>2019-04-03</td>\n",
       "      <td>35720</td>\n",
       "      <td>buy</td>\n",
       "      <td>519412</td>\n",
       "      <td>년 월 일 기업분석건설유틸리티 카카오  기업이슈 브리프인터넷게임  년 월 ...</td>\n",
       "      <td>['건설', '유틸리티', '이슈', '브리프', '인터넷', '게임', '핵심',...</td>\n",
       "      <td>년 월 일 기업 분석 건설유틸리티 카카오 기업 이슈 브리프인터 넷게임 년 월 일 카...</td>\n",
       "    </tr>\n",
       "    <tr>\n",
       "      <th>4</th>\n",
       "      <td>391416</td>\n",
       "      <td>2016-09-12</td>\n",
       "      <td>20560</td>\n",
       "      <td>buy</td>\n",
       "      <td>391416</td>\n",
       "      <td>Microsoft Word  아시아나항공     Research Center    ...</td>\n",
       "      <td>['아시아나', '항공', '아시아나', '항공', '운송', '엔터테인먼트', '...</td>\n",
       "      <td>아시아나항공 아시아나항공 운송 엔 터테 인 먼트 정유석 유상 증자 원 결정 투자 의...</td>\n",
       "    </tr>\n",
       "    <tr>\n",
       "      <th>...</th>\n",
       "      <td>...</td>\n",
       "      <td>...</td>\n",
       "      <td>...</td>\n",
       "      <td>...</td>\n",
       "      <td>...</td>\n",
       "      <td>...</td>\n",
       "      <td>...</td>\n",
       "      <td>...</td>\n",
       "    </tr>\n",
       "    <tr>\n",
       "      <th>21256</th>\n",
       "      <td>272705</td>\n",
       "      <td>2011-11-14</td>\n",
       "      <td>830</td>\n",
       "      <td>strongbuy</td>\n",
       "      <td>272705</td>\n",
       "      <td>Microsoft Word  Type산업건설엔지니어링doc             중...</td>\n",
       "      <td>['산업', '건설', '엔지니어링', '중동', '발주', '지속', '가능성',...</td>\n",
       "      <td>산업 건설 지니어링 중동 발주 지속 가능 건설 김열매 박판근 리서치 센 터 트위터 ...</td>\n",
       "    </tr>\n",
       "    <tr>\n",
       "      <th>21257</th>\n",
       "      <td>272587</td>\n",
       "      <td>2011-11-11</td>\n",
       "      <td>97230</td>\n",
       "      <td>strongbuy</td>\n",
       "      <td>272587</td>\n",
       "      <td>DFFFDCDCFCDFBFBEFFBEBEFBAEABAECCFFBCADCABFFBEB...</td>\n",
       "      <td>['한진', '중공업', '이제', '펀더멘털', '집중', '정덕', '목표', ...</td>\n",
       "      <td>한진 중 공 업 이제 펀더멘털 집중 때 서정 덕 목표 주가 개월 원 현재주가 원 소...</td>\n",
       "    </tr>\n",
       "    <tr>\n",
       "      <th>21258</th>\n",
       "      <td>272570</td>\n",
       "      <td>2011-11-10</td>\n",
       "      <td>210</td>\n",
       "      <td>strongbuy</td>\n",
       "      <td>272570</td>\n",
       "      <td>Microsoft Word  IBSPPRdoc wwwwooriwmcom   분기 실...</td>\n",
       "      <td>['분기', '분기', '국내', '해외', '모든', '부문', '마진', '분기...</td>\n",
       "      <td>분기 실적 분기 국내 해외 부문 진 시현 분기 누적 규 수주 합계 조 원 회사 가이...</td>\n",
       "    </tr>\n",
       "    <tr>\n",
       "      <th>21259</th>\n",
       "      <td>272294</td>\n",
       "      <td>2011-11-07</td>\n",
       "      <td>10620</td>\n",
       "      <td>strongbuy</td>\n",
       "      <td>272294</td>\n",
       "      <td>Microsoft Word  현대미포조선doc       현대미포조선     Big...</td>\n",
       "      <td>['대미', '조선', '대미', '조선', '대비', '과도', '할인', '거래...</td>\n",
       "      <td>현대 미포조 선 현 대미포조 선 대비 과도 할인 거래 중 조 선기계기업 코멘트 분기...</td>\n",
       "    </tr>\n",
       "    <tr>\n",
       "      <th>21260</th>\n",
       "      <td>272201</td>\n",
       "      <td>2011-11-04</td>\n",
       "      <td>33630</td>\n",
       "      <td>strongbuy</td>\n",
       "      <td>272201</td>\n",
       "      <td>Microsoft Word   SK브로드밴드doc       SK브로드밴드     ...</td>\n",
       "      <td>['브로드밴드', '브로드밴드', '성장', '전략', '통신', '미디어', '분...</td>\n",
       "      <td>브로드밴드 브로드밴드 성장 전략 이상 통신미디어기업 코멘트 분기 연결 기준 흑자 전...</td>\n",
       "    </tr>\n",
       "  </tbody>\n",
       "</table>\n",
       "<p>21261 rows × 8 columns</p>\n",
       "</div>"
      ],
      "text/plain": [
       "          idx         작성일   code       투자의견   idx.1  \\\n",
       "0      473108  2018-04-18  88350        buy  473108   \n",
       "1      380646  2016-05-23  92070        buy  380646   \n",
       "2      329427  2014-07-29    270        buy  329427   \n",
       "3      519412  2019-04-03  35720        buy  519412   \n",
       "4      391416  2016-09-12  20560        buy  391416   \n",
       "...       ...         ...    ...        ...     ...   \n",
       "21256  272705  2011-11-14    830  strongbuy  272705   \n",
       "21257  272587  2011-11-11  97230  strongbuy  272587   \n",
       "21258  272570  2011-11-10    210  strongbuy  272570   \n",
       "21259  272294  2011-11-07  10620  strongbuy  272294   \n",
       "21260  272201  2011-11-04  33630  strongbuy  272201   \n",
       "\n",
       "                                                  report  \\\n",
       "0           년 월 일 기업분석건설유틸리티 한화생명  기업이슈 브리프보험  년 월 일 ...   \n",
       "1      Microsoft PowerPoint  반도체산업전망 veditingFFpptxCo...   \n",
       "2      Microsoft Word  CUNITdoc기아차 Q Review  하반기 해볼만하...   \n",
       "3           년 월 일 기업분석건설유틸리티 카카오  기업이슈 브리프인터넷게임  년 월 ...   \n",
       "4      Microsoft Word  아시아나항공     Research Center    ...   \n",
       "...                                                  ...   \n",
       "21256  Microsoft Word  Type산업건설엔지니어링doc             중...   \n",
       "21257  DFFFDCDCFCDFBFBEFFBEBEFBAEABAECCFFBCADCABFFBEB...   \n",
       "21258  Microsoft Word  IBSPPRdoc wwwwooriwmcom   분기 실...   \n",
       "21259  Microsoft Word  현대미포조선doc       현대미포조선     Big...   \n",
       "21260  Microsoft Word   SK브로드밴드doc       SK브로드밴드     ...   \n",
       "\n",
       "                                              okt_tokens  \\\n",
       "0      ['건설', '유틸리티', '생명', '이슈', '브리프', '보험', '조원', ...   \n",
       "1      ['반도체', '산업', '전망', '반도체', '디스플레이', '산업', '동향'...   \n",
       "2      ['기아차', '하반기', '만하', '원유', '이윤석', '주가', '상대', ...   \n",
       "3      ['건설', '유틸리티', '이슈', '브리프', '인터넷', '게임', '핵심',...   \n",
       "4      ['아시아나', '항공', '아시아나', '항공', '운송', '엔터테인먼트', '...   \n",
       "...                                                  ...   \n",
       "21256  ['산업', '건설', '엔지니어링', '중동', '발주', '지속', '가능성',...   \n",
       "21257  ['한진', '중공업', '이제', '펀더멘털', '집중', '정덕', '목표', ...   \n",
       "21258  ['분기', '분기', '국내', '해외', '모든', '부문', '마진', '분기...   \n",
       "21259  ['대미', '조선', '대미', '조선', '대비', '과도', '할인', '거래...   \n",
       "21260  ['브로드밴드', '브로드밴드', '성장', '전략', '통신', '미디어', '분...   \n",
       "\n",
       "                                           khaiii_tokens  \n",
       "0      년 월 일 기업 분석 건설유틸리티 한화생 명 기업 이슈 브리프보험 년 월 일 조원 ...  \n",
       "1      반도체산업 전망 반도체 디스플레이 산업 동향 산업 전망 산업 전망 반도체디스플레이 ...  \n",
       "2      아차 하반기 해 만 원유지 이윤석 주가 상대 수익 매수 유지 자본금 원 발행 주식수...  \n",
       "3      년 월 일 기업 분석 건설유틸리티 카카오 기업 이슈 브리프인터 넷게임 년 월 일 카...  \n",
       "4      아시아나항공 아시아나항공 운송 엔 터테 인 먼트 정유석 유상 증자 원 결정 투자 의...  \n",
       "...                                                  ...  \n",
       "21256  산업 건설 지니어링 중동 발주 지속 가능 건설 김열매 박판근 리서치 센 터 트위터 ...  \n",
       "21257  한진 중 공 업 이제 펀더멘털 집중 때 서정 덕 목표 주가 개월 원 현재주가 원 소...  \n",
       "21258  분기 실적 분기 국내 해외 부문 진 시현 분기 누적 규 수주 합계 조 원 회사 가이...  \n",
       "21259  현대 미포조 선 현 대미포조 선 대비 과도 할인 거래 중 조 선기계기업 코멘트 분기...  \n",
       "21260  브로드밴드 브로드밴드 성장 전략 이상 통신미디어기업 코멘트 분기 연결 기준 흑자 전...  \n",
       "\n",
       "[21261 rows x 8 columns]"
      ]
     },
     "execution_count": 6,
     "metadata": {},
     "output_type": "execute_result"
    }
   ],
   "source": [
    "df = pd.read_csv('sample_report_token_okt_khaiii.csv',index_col=0)\n",
    "df"
   ]
  },
  {
   "cell_type": "code",
   "execution_count": null,
   "id": "5fd9c8aa",
   "metadata": {},
   "outputs": [],
   "source": []
  },
  {
   "cell_type": "code",
   "execution_count": 7,
   "id": "80c0908c",
   "metadata": {},
   "outputs": [],
   "source": [
    "df.dropna(inplace=True)"
   ]
  },
  {
   "cell_type": "code",
   "execution_count": 8,
   "id": "77b1a792",
   "metadata": {},
   "outputs": [],
   "source": [
    "x = df.khaiii_tokens\n",
    "y = df.투자의견"
   ]
  },
  {
   "cell_type": "code",
   "execution_count": 9,
   "id": "39a61382",
   "metadata": {},
   "outputs": [],
   "source": [
    "from sklearn.preprocessing import LabelEncoder"
   ]
  },
  {
   "cell_type": "code",
   "execution_count": 10,
   "id": "b6bef3ab",
   "metadata": {},
   "outputs": [],
   "source": [
    "le = LabelEncoder()\n",
    "le.fit(y)\n",
    "y = le.transform(y)"
   ]
  },
  {
   "cell_type": "code",
   "execution_count": 25,
   "id": "7f2f8931",
   "metadata": {},
   "outputs": [
    {
     "data": {
      "text/plain": [
       "array(['buy', 'neutral', 'sell', 'strongbuy'], dtype=object)"
      ]
     },
     "execution_count": 25,
     "metadata": {},
     "output_type": "execute_result"
    }
   ],
   "source": [
    "le.classes_"
   ]
  },
  {
   "cell_type": "code",
   "execution_count": 11,
   "id": "af7fa9b1",
   "metadata": {},
   "outputs": [],
   "source": [
    "from sklearn.feature_extraction.text import CountVectorizer, TfidfVectorizer"
   ]
  },
  {
   "cell_type": "code",
   "execution_count": 12,
   "id": "1ce1d3ac",
   "metadata": {},
   "outputs": [],
   "source": [
    "import re\n",
    "\n",
    "def han_text_clean(text):\n",
    "    text = re.sub(\"[^가-힣ㄱ-ㅎa-zA-Z ]\", \"\", text)\n",
    "   \n",
    "    return text\n",
    "\n",
    "with open('stopwords-ko.txt', 'r', encoding = 'utf-8') as f:\n",
    "    sw1 = f.read()\n",
    "    sw1 = re.sub('\\\\n', ' ', sw1)\n",
    "    sw1 = sw1.split()\n",
    "\n",
    "stop_report = '리서치센터  Compliance Notice 본 조사분석자료는 제3자에게 사전 제공된 사실이 없습니다. 당사는 자료작성일 현재 본 조사분석자료에 언급된 종목의 지분을 1% 이상 보유하고 있지 않습니다. \\\n",
    "본 자료를 작성한 애널리스트는 자료작성일 현재 해당 종목과 재산적 이해관계가 없습니다. 본 자료에 게재된 내용은 본인의 의견을 정확하게 반영하고 있으며, 외부의 부당한 압력이나 간섭 없이 신의 성실하게 작성되었음을 확인합니다. \\\n",
    "본 자료는 투자자들의 투자판단에 참고가 되는 정보제공을 목적으로 배포되는 자료입니다. 본 자료에 수록된 내용은 당사 리서치센터의 추정치로서 오차가 발생할 수 있으며 정확성이나 완벽성은 보장하지 않습니다. \\\n",
    "본 자료를 이용하시는 분은 본 자료와 관련한 투자의 최종 결정은 자신의 판단으로 하시기 바랍니다. 따라서 어떠한 경우에도 본 자료는 투자 결과와 관련한 법적 책임소재의 증빙자료로 사용될 수 없습니다. \\\n",
    "본 조사분석자료는 당사 고객에 한하여 배포되는 자료로 당사의 허락 없이 복사, 대여, 배포 될 수 없습니다.\\\n",
    "투자등급 이 자료에 게재된 내용들은 본인의 의견을 정확하게 반영하고 있으며, 외부의 부당한 압력이나 간섭없이 작성되었음을 확인합니다.(작성자 : 하준두) 자료 제공일 현재\\\n",
    "당사는 상기 회사가 발행한 주식을 1% 이상 보유하고 있지 않습니다. 자료 제공일 현재 당사는 지난 1년간 상기 회사의 최초 증권시장 상장시 대표 주관사로 참여한 적이 없습니다. \\\n",
    "자료제공일 현재 조사분석 담당자는 상기회사가 발행한 주식 및 주식관련사채에 대하여 규정상 고지하여야 할 재산적 이해관계가 없으며, 추천의견을 제시함에 있어 어떠한 금전적 보상과도 연계되어 있지 않습니다. \\\n",
    "당자료는 상기 회사 및 상기회사의 유가증권에 대한 조사분석담당자의 의견을 정확히 반영하고있으나 이는 자료제공일 현재 시점에서의 의견 및 추정치로서 실적치와 오차가 발생할 수 있으며, \\\n",
    "투자를 유도할 목적이 아니라 투자자의 투자판단에 참고가 되는 정보제공을 목적으로 하고 있습니다. 따라서 종목의 선택이나 투자의 최종결정은 투자자 자신의 판단으로 하시기 바랍니다. \\\n",
    "Analyst, 증권,한화투자증권, 하이투자증권, 대신증권, SK증권, IBK투자증권, 키움증권, 이베스트증권,유안타증권, 메리츠증권, 유진투자증권, 카카오페이증권, 한양증권, 하나금융투자, 교보증권, \\\n",
    "현대차투자증권, 메리츠종금증권, 삼성증권, KTB투자증권, 신한금융투자, 한국투자증권,미래에셋대우, KB증권, 미래에셋증권, 하나대투증권, HMC투자증권, NH농협증권, 현대증권,\\\n",
    "동양증권, KDB대우증권, 이트레이드증권, 우리투자증권, 하이증권, 우리증권, 신한금융,대우증권, NH증권, 유진증권, 한투증권, 한화증권, 한화투자증권, 작성자, 한화리서치, 기업, 코멘트,Microsoft, Word,PowerPoint,IBSPPRdoc,CUNITdoc'\n",
    "\n",
    "stop_report = re.sub(\"[^가-힣ㄱ-ㅎa-zA-Z ]\", \"\", stop_report)\n",
    "  \n",
    "sw2 = okt.nouns(han_text_clean(stop_report))\n",
    "\n",
    "stopwords = sw1 + sw2"
   ]
  },
  {
   "cell_type": "code",
   "execution_count": 13,
   "id": "d9a2efcd",
   "metadata": {},
   "outputs": [],
   "source": [
    "from sklearn.model_selection import train_test_split\n",
    "\n",
    "x_train, x_test, y_train, y_test = train_test_split(x,y, random_state = 42)"
   ]
  },
  {
   "cell_type": "code",
   "execution_count": 14,
   "id": "75913ba6",
   "metadata": {},
   "outputs": [],
   "source": [
    "import time"
   ]
  },
  {
   "cell_type": "code",
   "execution_count": 29,
   "id": "f31644fd",
   "metadata": {},
   "outputs": [
    {
     "name": "stdout",
     "output_type": "stream",
     "text": [
      "Wall time: 34.2 s\n"
     ]
    },
    {
     "data": {
      "text/plain": [
       "TfidfVectorizer(max_df=0.7, max_features=10000, min_df=100,\n",
       "                stop_words=['가', '가까스로', '가령', '각', '각각', '각자', '각종', '갖고말하자면',\n",
       "                            '같다', '같이', '개의치않고', '거니와', '거바', '거의', '것', '것과',\n",
       "                            '같이', '것들', '게다가', '게우다', '겨우', '견지에서', '결과에',\n",
       "                            '이르다', '결국', '결론을', '낼', '수', '있다', '겸사겸사', ...])"
      ]
     },
     "execution_count": 29,
     "metadata": {},
     "output_type": "execute_result"
    }
   ],
   "source": [
    "%%time\n",
    "tfidf_vect = TfidfVectorizer(stop_words = stopwords,min_df = 100,max_df =0.7, max_features = 10000)\n",
    "tfidf_vect.fit(x_train)"
   ]
  },
  {
   "cell_type": "code",
   "execution_count": 30,
   "id": "6dd583a4",
   "metadata": {},
   "outputs": [],
   "source": [
    "x_train_tfidf_vect = tfidf_vect.transform(x_train)\n",
    "x_test_tfidf_vect = tfidf_vect.transform(x_test)"
   ]
  },
  {
   "cell_type": "code",
   "execution_count": 31,
   "id": "16724805",
   "metadata": {},
   "outputs": [
    {
     "data": {
      "text/plain": [
       "(5299, 6936)"
      ]
     },
     "execution_count": 31,
     "metadata": {},
     "output_type": "execute_result"
    }
   ],
   "source": [
    "x_test_tfidf_vect.shape"
   ]
  },
  {
   "cell_type": "code",
   "execution_count": 32,
   "id": "72613d51",
   "metadata": {},
   "outputs": [],
   "source": [
    "from sklearn.neighbors import KNeighborsClassifier\n",
    "from sklearn.tree import DecisionTreeClassifier\n",
    "from sklearn.ensemble import RandomForestClassifier,AdaBoostClassifier\n",
    "from lightgbm import LGBMClassifier\n",
    "from sklearn.ensemble import GradientBoostingClassifier\n",
    "from xgboost import XGBClassifier\n",
    "from sklearn.neural_network import MLPClassifier\n",
    "from sklearn.gaussian_process import GaussianProcessClassifier\n",
    "from sklearn.gaussian_process.kernels import RBF"
   ]
  },
  {
   "cell_type": "code",
   "execution_count": 33,
   "id": "7f6623d4",
   "metadata": {},
   "outputs": [],
   "source": [
    "knn = KNeighborsClassifier()\n",
    "dtc = DecisionTreeClassifier()\n",
    "rtc = RandomForestClassifier()\n",
    "ada = AdaBoostClassifier()\n",
    "lgb = LGBMClassifier()\n",
    "gdb = GradientBoostingClassifier()\n",
    "xgb = XGBClassifier(eval_metric='logloss')\n",
    "mpl = MLPClassifier()"
   ]
  },
  {
   "cell_type": "code",
   "execution_count": 34,
   "id": "4e0fe7f0",
   "metadata": {
    "collapsed": true
   },
   "outputs": [
    {
     "name": "stdout",
     "output_type": "stream",
     "text": [
      "KNeighborsClassifier\n",
      "0.7452189229994968\n",
      "0.6401207775051897\n",
      "\n",
      "DecisionTreeClassifier\n",
      "0.9721313537996981\n",
      "0.6520098131722967\n",
      "\n",
      "RandomForestClassifier\n",
      "0.9721313537996981\n",
      "0.714663143989432\n",
      "\n",
      "AdaBoostClassifier\n",
      "0.6390286864620031\n",
      "0.6291753160973769\n",
      "\n",
      "LGBMClassifier\n",
      "0.951434323100151\n",
      "0.7797697678807323\n",
      "\n",
      "GradientBoostingClassifier\n",
      "0.7996980372420734\n",
      "0.7465559539535761\n",
      "\n"
     ]
    },
    {
     "name": "stderr",
     "output_type": "stream",
     "text": [
      "C:\\Users\\ILSOO\\anaconda3\\lib\\site-packages\\xgboost\\sklearn.py:1146: UserWarning: The use of label encoder in XGBClassifier is deprecated and will be removed in a future release. To remove this warning, do the following: 1) Pass option use_label_encoder=False when constructing XGBClassifier object; and 2) Encode your labels (y) as integers starting with 0, i.e. 0, 1, 2, ..., [num_class - 1].\n",
      "  warnings.warn(label_encoder_deprecation_msg, UserWarning)\n"
     ]
    },
    {
     "name": "stdout",
     "output_type": "stream",
     "text": [
      "XGBClassifier\n",
      "0.9562154001006542\n",
      "0.7790149084732968\n",
      "\n",
      "MLPClassifier\n",
      "0.9706844489179668\n",
      "0.7465559539535761\n",
      "\n"
     ]
    }
   ],
   "source": [
    "models=[knn,dtc,rtc,ada,lgb,gdb,xgb,mpl]\n",
    "for m in models :\n",
    "    m.fit(x_train_tfidf_vect,y_train)\n",
    "    print(m.__class__.__name__)\n",
    "    print(m.score(x_train_tfidf_vect, y_train))\n",
    "    print(m.score(x_test_tfidf_vect,y_test))\n",
    "    print()\n"
   ]
  },
  {
   "cell_type": "code",
   "execution_count": null,
   "id": "21140b9b",
   "metadata": {},
   "outputs": [],
   "source": []
  },
  {
   "cell_type": "code",
   "execution_count": 35,
   "id": "f8137fec",
   "metadata": {},
   "outputs": [
    {
     "name": "stdout",
     "output_type": "stream",
     "text": [
      "Wall time: 21.4 s\n"
     ]
    },
    {
     "data": {
      "text/plain": [
       "TfidfVectorizer(max_df=0.8, max_features=10000, min_df=50,\n",
       "                stop_words=['가', '가까스로', '가령', '각', '각각', '각자', '각종', '갖고말하자면',\n",
       "                            '같다', '같이', '개의치않고', '거니와', '거바', '거의', '것', '것과',\n",
       "                            '같이', '것들', '게다가', '게우다', '겨우', '견지에서', '결과에',\n",
       "                            '이르다', '결국', '결론을', '낼', '수', '있다', '겸사겸사', ...])"
      ]
     },
     "execution_count": 35,
     "metadata": {},
     "output_type": "execute_result"
    }
   ],
   "source": [
    "%%time\n",
    "\n",
    "tfidf_vect_50 = TfidfVectorizer(stop_words = stopwords, min_df = 50,max_df =0.8, max_features = 10000)\n",
    "tfidf_vect_50.fit(x_train)"
   ]
  },
  {
   "cell_type": "code",
   "execution_count": 36,
   "id": "044df738",
   "metadata": {},
   "outputs": [],
   "source": [
    "x_train_tfidf_vect_50 = tfidf_vect_50.transform(x_train)\n",
    "x_test_tfidf_vect_50 = tfidf_vect_50.transform(x_test)"
   ]
  },
  {
   "cell_type": "code",
   "execution_count": 37,
   "id": "f965802e",
   "metadata": {},
   "outputs": [
    {
     "data": {
      "text/plain": [
       "(5299, 10000)"
      ]
     },
     "execution_count": 37,
     "metadata": {},
     "output_type": "execute_result"
    }
   ],
   "source": [
    "x_test_tfidf_vect_50.shape"
   ]
  },
  {
   "cell_type": "code",
   "execution_count": 38,
   "id": "04c72908",
   "metadata": {},
   "outputs": [],
   "source": [
    "knn = KNeighborsClassifier()\n",
    "dtc = DecisionTreeClassifier()\n",
    "rtc = RandomForestClassifier()\n",
    "ada = AdaBoostClassifier()\n",
    "lgb = LGBMClassifier()\n",
    "gdb = GradientBoostingClassifier()\n",
    "xgb = XGBClassifier(eval_metric='logloss')\n",
    "mpl = MLPClassifier()"
   ]
  },
  {
   "cell_type": "code",
   "execution_count": 39,
   "id": "e82ed654",
   "metadata": {
    "collapsed": true
   },
   "outputs": [
    {
     "name": "stdout",
     "output_type": "stream",
     "text": [
      "KNeighborsClassifier\n",
      "0.7444640161046804\n",
      "0.6425740705793546\n",
      "\n",
      "DecisionTreeClassifier\n",
      "0.9721942627075993\n",
      "0.65635025476505\n",
      "\n",
      "RandomForestClassifier\n",
      "0.9721942627075993\n",
      "0.7116437063596905\n",
      "\n",
      "AdaBoostClassifier\n",
      "0.6451937594363362\n",
      "0.639743347801472\n",
      "\n",
      "LGBMClassifier\n",
      "0.9564041268243584\n",
      "0.787129647103227\n",
      "\n",
      "GradientBoostingClassifier\n",
      "0.8063663814796175\n",
      "0.7446688054349877\n",
      "\n"
     ]
    },
    {
     "name": "stderr",
     "output_type": "stream",
     "text": [
      "C:\\Users\\ILSOO\\anaconda3\\lib\\site-packages\\xgboost\\sklearn.py:1146: UserWarning: The use of label encoder in XGBClassifier is deprecated and will be removed in a future release. To remove this warning, do the following: 1) Pass option use_label_encoder=False when constructing XGBClassifier object; and 2) Encode your labels (y) as integers starting with 0, i.e. 0, 1, 2, ..., [num_class - 1].\n",
      "  warnings.warn(label_encoder_deprecation_msg, UserWarning)\n"
     ]
    },
    {
     "name": "stdout",
     "output_type": "stream",
     "text": [
      "XGBClassifier\n",
      "0.959675390035229\n",
      "0.7805246272881676\n",
      "\n",
      "MLPClassifier\n",
      "0.9711248112732763\n",
      "0.7473108133610115\n",
      "\n"
     ]
    }
   ],
   "source": [
    "# accuracy\n",
    "\n",
    "models=[knn,dtc,rtc,ada,lgb,gdb,xgb,mpl]\n",
    "for m in models :\n",
    "    m.fit(x_train_tfidf_vect_50,y_train)\n",
    "    print(m.__class__.__name__)\n",
    "    print(m.score(x_train_tfidf_vect_50, y_train))\n",
    "    print(m.score(x_test_tfidf_vect_50,y_test))\n",
    "    print()"
   ]
  },
  {
   "cell_type": "code",
   "execution_count": null,
   "id": "5cf6b7f7",
   "metadata": {},
   "outputs": [],
   "source": []
  },
  {
   "cell_type": "code",
   "execution_count": null,
   "id": "42e70a2f",
   "metadata": {},
   "outputs": [],
   "source": []
  },
  {
   "cell_type": "code",
   "execution_count": 40,
   "id": "2a289872",
   "metadata": {},
   "outputs": [
    {
     "name": "stdout",
     "output_type": "stream",
     "text": [
      "Wall time: 59.8 s\n"
     ]
    },
    {
     "data": {
      "text/plain": [
       "TfidfVectorizer(max_df=0.8, max_features=10000, min_df=50, ngram_range=(1, 2),\n",
       "                stop_words=['가', '가까스로', '가령', '각', '각각', '각자', '각종', '갖고말하자면',\n",
       "                            '같다', '같이', '개의치않고', '거니와', '거바', '거의', '것', '것과',\n",
       "                            '같이', '것들', '게다가', '게우다', '겨우', '견지에서', '결과에',\n",
       "                            '이르다', '결국', '결론을', '낼', '수', '있다', '겸사겸사', ...],\n",
       "                sublinear_tf=True)"
      ]
     },
     "execution_count": 40,
     "metadata": {},
     "output_type": "execute_result"
    }
   ],
   "source": [
    "%%time\n",
    "\n",
    "tfidf_vect_p = TfidfVectorizer(stop_words = stopwords, min_df = 50,max_df =0.8, max_features = 10000,\\\n",
    "                                ngram_range = (1, 2),sublinear_tf = True) # TF의 이상치 제거\n",
    "tfidf_vect_p.fit(x_train)"
   ]
  },
  {
   "cell_type": "code",
   "execution_count": 41,
   "id": "6901e588",
   "metadata": {},
   "outputs": [
    {
     "name": "stdout",
     "output_type": "stream",
     "text": [
      "Wall time: 56.2 s\n"
     ]
    }
   ],
   "source": [
    "%%time\n",
    "x_train_tfidf_vect_p = tfidf_vect_p.transform(x_train)\n",
    "x_test_tfidf_vect_p = tfidf_vect_p.transform(x_test)"
   ]
  },
  {
   "cell_type": "code",
   "execution_count": 42,
   "id": "c049c736",
   "metadata": {},
   "outputs": [
    {
     "data": {
      "text/plain": [
       "(5299, 10000)"
      ]
     },
     "execution_count": 42,
     "metadata": {},
     "output_type": "execute_result"
    }
   ],
   "source": [
    "x_test_tfidf_vect_p.shape"
   ]
  },
  {
   "cell_type": "code",
   "execution_count": 43,
   "id": "52e77287",
   "metadata": {
    "collapsed": true
   },
   "outputs": [
    {
     "name": "stdout",
     "output_type": "stream",
     "text": [
      "KNeighborsClassifier\n",
      "0.8036612984398591\n",
      "0.6876769201736177\n",
      "\n",
      "DecisionTreeClassifier\n",
      "0.9726975339708103\n",
      "0.6742781656916399\n",
      "\n",
      "RandomForestClassifier\n",
      "0.9726975339708103\n",
      "0.76221928665786\n",
      "\n",
      "AdaBoostClassifier\n",
      "0.6744464016104681\n",
      "0.6584261181354972\n",
      "\n",
      "LGBMClassifier\n",
      "0.9638273779567187\n",
      "0.8024155501037932\n",
      "\n",
      "GradientBoostingClassifier\n",
      "0.8232888777050831\n",
      "0.7650500094357426\n",
      "\n"
     ]
    },
    {
     "name": "stderr",
     "output_type": "stream",
     "text": [
      "C:\\Users\\ILSOO\\anaconda3\\lib\\site-packages\\xgboost\\sklearn.py:1146: UserWarning: The use of label encoder in XGBClassifier is deprecated and will be removed in a future release. To remove this warning, do the following: 1) Pass option use_label_encoder=False when constructing XGBClassifier object; and 2) Encode your labels (y) as integers starting with 0, i.e. 0, 1, 2, ..., [num_class - 1].\n",
      "  warnings.warn(label_encoder_deprecation_msg, UserWarning)\n"
     ]
    },
    {
     "name": "stdout",
     "output_type": "stream",
     "text": [
      "XGBClassifier\n",
      "0.9656517362858581\n",
      "0.7973202491036044\n",
      "\n",
      "MLPClassifier\n",
      "0.9711877201811776\n",
      "0.7822230609548971\n",
      "\n"
     ]
    }
   ],
   "source": [
    "# accuracy\n",
    "\n",
    "models=[knn,dtc,rtc,ada,lgb,gdb,xgb,mpl]\n",
    "for m in models :\n",
    "    m.fit(x_train_tfidf_vect_p,y_train)\n",
    "    print(m.__class__.__name__)\n",
    "    print(m.score(x_train_tfidf_vect_p, y_train))\n",
    "    print(m.score(x_test_tfidf_vect_p,y_test))\n",
    "    print()"
   ]
  },
  {
   "cell_type": "code",
   "execution_count": null,
   "id": "b75fd43c",
   "metadata": {},
   "outputs": [],
   "source": []
  },
  {
   "cell_type": "code",
   "execution_count": null,
   "id": "cbf49a68",
   "metadata": {},
   "outputs": [],
   "source": []
  },
  {
   "cell_type": "code",
   "execution_count": 47,
   "id": "4cd7585d",
   "metadata": {},
   "outputs": [
    {
     "name": "stdout",
     "output_type": "stream",
     "text": [
      "Wall time: 2min 9s\n"
     ]
    },
    {
     "data": {
      "text/plain": [
       "TfidfVectorizer(max_df=0.8, max_features=20000, min_df=50, ngram_range=(1, 3),\n",
       "                stop_words=['가', '가까스로', '가령', '각', '각각', '각자', '각종', '갖고말하자면',\n",
       "                            '같다', '같이', '개의치않고', '거니와', '거바', '거의', '것', '것과',\n",
       "                            '같이', '것들', '게다가', '게우다', '겨우', '견지에서', '결과에',\n",
       "                            '이르다', '결국', '결론을', '낼', '수', '있다', '겸사겸사', ...],\n",
       "                sublinear_tf=True)"
      ]
     },
     "execution_count": 47,
     "metadata": {},
     "output_type": "execute_result"
    }
   ],
   "source": [
    "%%time\n",
    "\n",
    "tfidf_vect_k = TfidfVectorizer(stop_words = stopwords, min_df = 50,max_df =0.8, max_features = 20000,\\\n",
    "                                ngram_range = (1, 3),sublinear_tf = True) # TF의 이상치 제거\n",
    "tfidf_vect_k.fit(x_train)"
   ]
  },
  {
   "cell_type": "code",
   "execution_count": 48,
   "id": "57982126",
   "metadata": {},
   "outputs": [
    {
     "name": "stdout",
     "output_type": "stream",
     "text": [
      "Wall time: 1min 19s\n"
     ]
    }
   ],
   "source": [
    "%%time\n",
    "x_train_tfidf_vect_k = tfidf_vect_k.transform(x_train)\n",
    "x_test_tfidf_vect_k = tfidf_vect_k.transform(x_test)"
   ]
  },
  {
   "cell_type": "code",
   "execution_count": 49,
   "id": "7f74da5c",
   "metadata": {},
   "outputs": [
    {
     "name": "stdout",
     "output_type": "stream",
     "text": [
      "KNeighborsClassifier\n",
      "0.8020885757423251\n",
      "0.6950367993961125\n",
      "\n",
      "DecisionTreeClassifier\n",
      "0.9726975339708103\n",
      "0.6833364785808643\n",
      "\n",
      "RandomForestClassifier\n",
      "0.9726975339708103\n",
      "0.7605208529911304\n",
      "\n",
      "AdaBoostClassifier\n",
      "0.6836311021640664\n",
      "0.6727684468767692\n",
      "\n",
      "LGBMClassifier\n",
      "0.9636386512330146\n",
      "0.808454425363276\n",
      "\n",
      "GradientBoostingClassifier\n",
      "0.8299572219426271\n",
      "0.7720324589545198\n",
      "\n"
     ]
    },
    {
     "name": "stderr",
     "output_type": "stream",
     "text": [
      "C:\\Users\\ILSOO\\anaconda3\\lib\\site-packages\\xgboost\\sklearn.py:1146: UserWarning: The use of label encoder in XGBClassifier is deprecated and will be removed in a future release. To remove this warning, do the following: 1) Pass option use_label_encoder=False when constructing XGBClassifier object; and 2) Encode your labels (y) as integers starting with 0, i.e. 0, 1, 2, ..., [num_class - 1].\n",
      "  warnings.warn(label_encoder_deprecation_msg, UserWarning)\n"
     ]
    },
    {
     "name": "stdout",
     "output_type": "stream",
     "text": [
      "XGBClassifier\n",
      "0.9647081026673376\n",
      "0.7975089639554633\n",
      "\n",
      "MLPClassifier\n",
      "0.9708102667337695\n",
      "0.7927910926589923\n",
      "\n"
     ]
    }
   ],
   "source": [
    "# accuracy\n",
    "\n",
    "models=[knn,dtc,rtc,ada,lgb,gdb,xgb,mpl]\n",
    "for m in models :\n",
    "    m.fit(x_train_tfidf_vect_k,y_train)\n",
    "    print(m.__class__.__name__)\n",
    "    print(m.score(x_train_tfidf_vect_k, y_train))\n",
    "    print(m.score(x_test_tfidf_vect_k,y_test))\n",
    "    print()"
   ]
  },
  {
   "cell_type": "code",
   "execution_count": null,
   "id": "4e5ca077",
   "metadata": {},
   "outputs": [],
   "source": []
  },
  {
   "cell_type": "code",
   "execution_count": null,
   "id": "8ddc4f5e",
   "metadata": {},
   "outputs": [],
   "source": []
  },
  {
   "cell_type": "code",
   "execution_count": null,
   "id": "58441f3e",
   "metadata": {},
   "outputs": [],
   "source": []
  },
  {
   "cell_type": "code",
   "execution_count": null,
   "id": "6ab21105",
   "metadata": {},
   "outputs": [],
   "source": []
  }
 ],
 "metadata": {
  "kernelspec": {
   "display_name": "Python 3",
   "language": "python",
   "name": "python3"
  },
  "language_info": {
   "codemirror_mode": {
    "name": "ipython",
    "version": 3
   },
   "file_extension": ".py",
   "mimetype": "text/x-python",
   "name": "python",
   "nbconvert_exporter": "python",
   "pygments_lexer": "ipython3",
   "version": "3.8.8"
  }
 },
 "nbformat": 4,
 "nbformat_minor": 5
}
