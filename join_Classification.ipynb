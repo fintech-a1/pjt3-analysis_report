{
 "cells": [
  {
   "cell_type": "code",
   "execution_count": 1,
   "id": "b5545ee7",
   "metadata": {},
   "outputs": [],
   "source": [
    "import pandas as pd\n",
    "import numpy as np\n",
    "import matplotlib.pyplot as plt\n",
    "import seaborn as sns"
   ]
  },
  {
   "cell_type": "code",
   "execution_count": 2,
   "id": "7caf2c8e",
   "metadata": {},
   "outputs": [],
   "source": [
    "from konlpy.tag import Kkma\n",
    "from konlpy.tag import Komoran\n",
    "from konlpy.tag import Hannanum\n",
    "from konlpy.tag import Okt"
   ]
  },
  {
   "cell_type": "code",
   "execution_count": 3,
   "id": "8e5a84b7",
   "metadata": {},
   "outputs": [],
   "source": [
    "okt = Okt()"
   ]
  },
  {
   "cell_type": "code",
   "execution_count": 4,
   "id": "49af2180",
   "metadata": {},
   "outputs": [
    {
     "data": {
      "text/html": [
       "<div>\n",
       "<style scoped>\n",
       "    .dataframe tbody tr th:only-of-type {\n",
       "        vertical-align: middle;\n",
       "    }\n",
       "\n",
       "    .dataframe tbody tr th {\n",
       "        vertical-align: top;\n",
       "    }\n",
       "\n",
       "    .dataframe thead th {\n",
       "        text-align: right;\n",
       "    }\n",
       "</style>\n",
       "<table border=\"1\" class=\"dataframe\">\n",
       "  <thead>\n",
       "    <tr style=\"text-align: right;\">\n",
       "      <th></th>\n",
       "      <th>작성일</th>\n",
       "      <th>code</th>\n",
       "      <th>투자의견</th>\n",
       "      <th>idx.1</th>\n",
       "      <th>report</th>\n",
       "      <th>tokens</th>\n",
       "    </tr>\n",
       "    <tr>\n",
       "      <th>idx</th>\n",
       "      <th></th>\n",
       "      <th></th>\n",
       "      <th></th>\n",
       "      <th></th>\n",
       "      <th></th>\n",
       "      <th></th>\n",
       "    </tr>\n",
       "  </thead>\n",
       "  <tbody>\n",
       "    <tr>\n",
       "      <th>473108</th>\n",
       "      <td>2018-04-18</td>\n",
       "      <td>88350</td>\n",
       "      <td>buy</td>\n",
       "      <td>473108</td>\n",
       "      <td>년 월 일 기업분석건설유틸리티 한화생명  기업이슈 브리프보험  년 월 일 ...</td>\n",
       "      <td>['건설', '유틸리티', '생명', '이슈', '브리프', '보험', '조원', ...</td>\n",
       "    </tr>\n",
       "    <tr>\n",
       "      <th>380646</th>\n",
       "      <td>2016-05-23</td>\n",
       "      <td>92070</td>\n",
       "      <td>buy</td>\n",
       "      <td>380646</td>\n",
       "      <td>Microsoft PowerPoint  반도체산업전망 veditingFFpptxCo...</td>\n",
       "      <td>['반도체', '산업', '전망', '반도체', '디스플레이', '산업', '동향'...</td>\n",
       "    </tr>\n",
       "    <tr>\n",
       "      <th>329427</th>\n",
       "      <td>2014-07-29</td>\n",
       "      <td>270</td>\n",
       "      <td>buy</td>\n",
       "      <td>329427</td>\n",
       "      <td>Microsoft Word  CUNITdoc기아차 Q Review  하반기 해볼만하...</td>\n",
       "      <td>['기아차', '하반기', '만하', '원유', '이윤석', '주가', '상대', ...</td>\n",
       "    </tr>\n",
       "    <tr>\n",
       "      <th>519412</th>\n",
       "      <td>2019-04-03</td>\n",
       "      <td>35720</td>\n",
       "      <td>buy</td>\n",
       "      <td>519412</td>\n",
       "      <td>년 월 일 기업분석건설유틸리티 카카오  기업이슈 브리프인터넷게임  년 월 ...</td>\n",
       "      <td>['건설', '유틸리티', '이슈', '브리프', '인터넷', '게임', '핵심',...</td>\n",
       "    </tr>\n",
       "    <tr>\n",
       "      <th>391416</th>\n",
       "      <td>2016-09-12</td>\n",
       "      <td>20560</td>\n",
       "      <td>buy</td>\n",
       "      <td>391416</td>\n",
       "      <td>Microsoft Word  아시아나항공     Research Center    ...</td>\n",
       "      <td>['아시아나', '항공', '아시아나', '항공', '운송', '엔터테인먼트', '...</td>\n",
       "    </tr>\n",
       "    <tr>\n",
       "      <th>...</th>\n",
       "      <td>...</td>\n",
       "      <td>...</td>\n",
       "      <td>...</td>\n",
       "      <td>...</td>\n",
       "      <td>...</td>\n",
       "      <td>...</td>\n",
       "    </tr>\n",
       "    <tr>\n",
       "      <th>272705</th>\n",
       "      <td>2011-11-14</td>\n",
       "      <td>830</td>\n",
       "      <td>strongbuy</td>\n",
       "      <td>272705</td>\n",
       "      <td>Microsoft Word  Type산업건설엔지니어링doc             중...</td>\n",
       "      <td>['산업', '건설', '엔지니어링', '중동', '발주', '지속', '가능성',...</td>\n",
       "    </tr>\n",
       "    <tr>\n",
       "      <th>272587</th>\n",
       "      <td>2011-11-11</td>\n",
       "      <td>97230</td>\n",
       "      <td>strongbuy</td>\n",
       "      <td>272587</td>\n",
       "      <td>DFFFDCDCFCDFBFBEFFBEBEFBAEABAECCFFBCADCABFFBEB...</td>\n",
       "      <td>['한진', '중공업', '이제', '펀더멘털', '집중', '정덕', '목표', ...</td>\n",
       "    </tr>\n",
       "    <tr>\n",
       "      <th>272570</th>\n",
       "      <td>2011-11-10</td>\n",
       "      <td>210</td>\n",
       "      <td>strongbuy</td>\n",
       "      <td>272570</td>\n",
       "      <td>Microsoft Word  IBSPPRdoc wwwwooriwmcom   분기 실...</td>\n",
       "      <td>['분기', '분기', '국내', '해외', '모든', '부문', '마진', '분기...</td>\n",
       "    </tr>\n",
       "    <tr>\n",
       "      <th>272294</th>\n",
       "      <td>2011-11-07</td>\n",
       "      <td>10620</td>\n",
       "      <td>strongbuy</td>\n",
       "      <td>272294</td>\n",
       "      <td>Microsoft Word  현대미포조선doc       현대미포조선     Big...</td>\n",
       "      <td>['대미', '조선', '대미', '조선', '대비', '과도', '할인', '거래...</td>\n",
       "    </tr>\n",
       "    <tr>\n",
       "      <th>272201</th>\n",
       "      <td>2011-11-04</td>\n",
       "      <td>33630</td>\n",
       "      <td>strongbuy</td>\n",
       "      <td>272201</td>\n",
       "      <td>Microsoft Word   SK브로드밴드doc       SK브로드밴드     ...</td>\n",
       "      <td>['브로드밴드', '브로드밴드', '성장', '전략', '통신', '미디어', '분...</td>\n",
       "    </tr>\n",
       "  </tbody>\n",
       "</table>\n",
       "<p>21261 rows × 6 columns</p>\n",
       "</div>"
      ],
      "text/plain": [
       "               작성일   code       투자의견   idx.1  \\\n",
       "idx                                            \n",
       "473108  2018-04-18  88350        buy  473108   \n",
       "380646  2016-05-23  92070        buy  380646   \n",
       "329427  2014-07-29    270        buy  329427   \n",
       "519412  2019-04-03  35720        buy  519412   \n",
       "391416  2016-09-12  20560        buy  391416   \n",
       "...            ...    ...        ...     ...   \n",
       "272705  2011-11-14    830  strongbuy  272705   \n",
       "272587  2011-11-11  97230  strongbuy  272587   \n",
       "272570  2011-11-10    210  strongbuy  272570   \n",
       "272294  2011-11-07  10620  strongbuy  272294   \n",
       "272201  2011-11-04  33630  strongbuy  272201   \n",
       "\n",
       "                                                   report  \\\n",
       "idx                                                         \n",
       "473108       년 월 일 기업분석건설유틸리티 한화생명  기업이슈 브리프보험  년 월 일 ...   \n",
       "380646  Microsoft PowerPoint  반도체산업전망 veditingFFpptxCo...   \n",
       "329427  Microsoft Word  CUNITdoc기아차 Q Review  하반기 해볼만하...   \n",
       "519412       년 월 일 기업분석건설유틸리티 카카오  기업이슈 브리프인터넷게임  년 월 ...   \n",
       "391416  Microsoft Word  아시아나항공     Research Center    ...   \n",
       "...                                                   ...   \n",
       "272705  Microsoft Word  Type산업건설엔지니어링doc             중...   \n",
       "272587  DFFFDCDCFCDFBFBEFFBEBEFBAEABAECCFFBCADCABFFBEB...   \n",
       "272570  Microsoft Word  IBSPPRdoc wwwwooriwmcom   분기 실...   \n",
       "272294  Microsoft Word  현대미포조선doc       현대미포조선     Big...   \n",
       "272201  Microsoft Word   SK브로드밴드doc       SK브로드밴드     ...   \n",
       "\n",
       "                                                   tokens  \n",
       "idx                                                        \n",
       "473108  ['건설', '유틸리티', '생명', '이슈', '브리프', '보험', '조원', ...  \n",
       "380646  ['반도체', '산업', '전망', '반도체', '디스플레이', '산업', '동향'...  \n",
       "329427  ['기아차', '하반기', '만하', '원유', '이윤석', '주가', '상대', ...  \n",
       "519412  ['건설', '유틸리티', '이슈', '브리프', '인터넷', '게임', '핵심',...  \n",
       "391416  ['아시아나', '항공', '아시아나', '항공', '운송', '엔터테인먼트', '...  \n",
       "...                                                   ...  \n",
       "272705  ['산업', '건설', '엔지니어링', '중동', '발주', '지속', '가능성',...  \n",
       "272587  ['한진', '중공업', '이제', '펀더멘털', '집중', '정덕', '목표', ...  \n",
       "272570  ['분기', '분기', '국내', '해외', '모든', '부문', '마진', '분기...  \n",
       "272294  ['대미', '조선', '대미', '조선', '대비', '과도', '할인', '거래...  \n",
       "272201  ['브로드밴드', '브로드밴드', '성장', '전략', '통신', '미디어', '분...  \n",
       "\n",
       "[21261 rows x 6 columns]"
      ]
     },
     "execution_count": 4,
     "metadata": {},
     "output_type": "execute_result"
    }
   ],
   "source": [
    "df = pd.read_csv('sample_report_tokens.csv',index_col=0)\n",
    "df"
   ]
  },
  {
   "cell_type": "code",
   "execution_count": 5,
   "id": "d5fbda37",
   "metadata": {},
   "outputs": [],
   "source": [
    "def join_token(token_list):\n",
    "    string = ' '.join(eval(token_list))\n",
    "    return string"
   ]
  },
  {
   "cell_type": "code",
   "execution_count": 14,
   "id": "5490f215",
   "metadata": {},
   "outputs": [],
   "source": [
    "a = ['건설', '유틸리티', '생명', '이슈', '브리프', '보험', '조원', '신종', '자본', '성공', '컨센서스', '대비', '상회', '부합', '평균', '거래', '대금', '억원', '외국인', '분율', '절대', '수익률', '상대', '수익률', '배당', '수익률', '재무', '데이터', '십억원', '매출', '영업', '이익', '순이익', '생명', '생명', '목표', '주가', '주가', '시가총액', '규모', '해외', '신종', '자본', '성공', '동사', '지난해', '국내', '억원', '전일', '달러', '규모', '해외', '신종', '자본', '언론보도', '기관', '입찰', '경쟁률', '기록', '신종', '자본', '상세', '만기', '연장', '가능', '조기상', '환권', '포함', '일로', '이후', '개월', '마다', '청구', '가능', '이자율', '고정', '이자율', '산정', '근거', '전일', '미국', '국채', '금리', '가산', '금리', '합산', '이후', '년물', '국고', '금리', '가산', '금리', '스텝업', '금리', '추가', '지급', '이자', '누적', '납입', '동사', '분기', '비율', '상승', '예상', '미국', '금리', '상승', '추세', '지속', '전망', '때문', '도입', '대비', '선제', '대응', '긍정', '목표', '주가', '업종', '최선', '호주', '유지', '이슈', '브리프', '생명', '생명', '목표', '주가', '추이', '변동', '일시', '목표', '가격', '괴리율', '일시', '목표', '가격', '괴리율', '최고', '대비', '최저', '대비', '평균', '대비', '최고', '대비', '최저', '대비', '평균', '대비', '변경', '박혜진']"
   ]
  },
  {
   "cell_type": "code",
   "execution_count": 40,
   "id": "2aaf0570",
   "metadata": {},
   "outputs": [
    {
     "data": {
      "text/plain": [
       "\"['건설', '유틸리티', '생명', '이슈', '브리프', '보험', '조원', '신종', '자본', '성공', '컨센서스', '대비', '상회', '부합', '평균', '거래', '대금', '억원', '외국인', '분율', '절대', '수익률', '상대', '수익률', '배당', '수익률', '재무', '데이터', '십억원', '매출', '영업', '이익', '순이익', '생명', '생명', '목표', '주가', '주가', '시가총액', '규모', '해외', '신종', '자본', '성공', '동사', '지난해', '국내', '억원', '전일', '달러', '규모', '해외', '신종', '자본', '언론보도', '기관', '입찰', '경쟁률', '기록', '신종', '자본', '상세', '만기', '연장', '가능', '조기상', '환권', '포함', '일로', '이후', '개월', '마다', '청구', '가능', '이자율', '고정', '이자율', '산정', '근거', '전일', '미국', '국채', '금리', '가산', '금리', '합산', '이후', '년물', '국고', '금리', '가산', '금리', '스텝업', '금리', '추가', '지급', '이자', '누적', '납입', '동사', '분기', '비율', '상승', '예상', '미국', '금리', '상승', '추세', '지속', '전망', '때문', '도입', '대비', '선제', '대응', '긍정', '목표', '주가', '업종', '최선', '호주', '유지', '이슈', '브리프', '생명', '생명', '목표', '주가', '추이', '변동', '일시', '목표', '가격', '괴리율', '일시', '목표', '가격', '괴리율', '최고', '대비', '최저', '대비', '평균', '대비', '최고', '대비', '최저', '대비', '평균', '대비', '변경', '박혜진']\""
      ]
     },
     "execution_count": 40,
     "metadata": {},
     "output_type": "execute_result"
    }
   ],
   "source": [
    "df['tokens'][473108]  # list가 \"\"안에 잇는구조라 eval써줘야함"
   ]
  },
  {
   "cell_type": "code",
   "execution_count": 37,
   "id": "e7fc662f",
   "metadata": {
    "collapsed": true
   },
   "outputs": [
    {
     "data": {
      "text/plain": [
       "['건설',\n",
       " '유틸리티',\n",
       " '생명',\n",
       " '이슈',\n",
       " '브리프',\n",
       " '보험',\n",
       " '조원',\n",
       " '신종',\n",
       " '자본',\n",
       " '성공',\n",
       " '컨센서스',\n",
       " '대비',\n",
       " '상회',\n",
       " '부합',\n",
       " '평균',\n",
       " '거래',\n",
       " '대금',\n",
       " '억원',\n",
       " '외국인',\n",
       " '분율',\n",
       " '절대',\n",
       " '수익률',\n",
       " '상대',\n",
       " '수익률',\n",
       " '배당',\n",
       " '수익률',\n",
       " '재무',\n",
       " '데이터',\n",
       " '십억원',\n",
       " '매출',\n",
       " '영업',\n",
       " '이익',\n",
       " '순이익',\n",
       " '생명',\n",
       " '생명',\n",
       " '목표',\n",
       " '주가',\n",
       " '주가',\n",
       " '시가총액',\n",
       " '규모',\n",
       " '해외',\n",
       " '신종',\n",
       " '자본',\n",
       " '성공',\n",
       " '동사',\n",
       " '지난해',\n",
       " '국내',\n",
       " '억원',\n",
       " '전일',\n",
       " '달러',\n",
       " '규모',\n",
       " '해외',\n",
       " '신종',\n",
       " '자본',\n",
       " '언론보도',\n",
       " '기관',\n",
       " '입찰',\n",
       " '경쟁률',\n",
       " '기록',\n",
       " '신종',\n",
       " '자본',\n",
       " '상세',\n",
       " '만기',\n",
       " '연장',\n",
       " '가능',\n",
       " '조기상',\n",
       " '환권',\n",
       " '포함',\n",
       " '일로',\n",
       " '이후',\n",
       " '개월',\n",
       " '마다',\n",
       " '청구',\n",
       " '가능',\n",
       " '이자율',\n",
       " '고정',\n",
       " '이자율',\n",
       " '산정',\n",
       " '근거',\n",
       " '전일',\n",
       " '미국',\n",
       " '국채',\n",
       " '금리',\n",
       " '가산',\n",
       " '금리',\n",
       " '합산',\n",
       " '이후',\n",
       " '년물',\n",
       " '국고',\n",
       " '금리',\n",
       " '가산',\n",
       " '금리',\n",
       " '스텝업',\n",
       " '금리',\n",
       " '추가',\n",
       " '지급',\n",
       " '이자',\n",
       " '누적',\n",
       " '납입',\n",
       " '동사',\n",
       " '분기',\n",
       " '비율',\n",
       " '상승',\n",
       " '예상',\n",
       " '미국',\n",
       " '금리',\n",
       " '상승',\n",
       " '추세',\n",
       " '지속',\n",
       " '전망',\n",
       " '때문',\n",
       " '도입',\n",
       " '대비',\n",
       " '선제',\n",
       " '대응',\n",
       " '긍정',\n",
       " '목표',\n",
       " '주가',\n",
       " '업종',\n",
       " '최선',\n",
       " '호주',\n",
       " '유지',\n",
       " '이슈',\n",
       " '브리프',\n",
       " '생명',\n",
       " '생명',\n",
       " '목표',\n",
       " '주가',\n",
       " '추이',\n",
       " '변동',\n",
       " '일시',\n",
       " '목표',\n",
       " '가격',\n",
       " '괴리율',\n",
       " '일시',\n",
       " '목표',\n",
       " '가격',\n",
       " '괴리율',\n",
       " '최고',\n",
       " '대비',\n",
       " '최저',\n",
       " '대비',\n",
       " '평균',\n",
       " '대비',\n",
       " '최고',\n",
       " '대비',\n",
       " '최저',\n",
       " '대비',\n",
       " '평균',\n",
       " '대비',\n",
       " '변경',\n",
       " '박혜진']"
      ]
     },
     "execution_count": 37,
     "metadata": {},
     "output_type": "execute_result"
    }
   ],
   "source": [
    "eval(df['tokens'].values[0])"
   ]
  },
  {
   "cell_type": "code",
   "execution_count": 41,
   "id": "4fc2ee67",
   "metadata": {
    "scrolled": true
   },
   "outputs": [
    {
     "data": {
      "text/plain": [
       "'건설 유틸리티 생명 이슈 브리프 보험 조원 신종 자본 성공 컨센서스 대비 상회 부합 평균 거래 대금 억원 외국인 분율 절대 수익률 상대 수익률 배당 수익률 재무 데이터 십억원 매출 영업 이익 순이익 생명 생명 목표 주가 주가 시가총액 규모 해외 신종 자본 성공 동사 지난해 국내 억원 전일 달러 규모 해외 신종 자본 언론보도 기관 입찰 경쟁률 기록 신종 자본 상세 만기 연장 가능 조기상 환권 포함 일로 이후 개월 마다 청구 가능 이자율 고정 이자율 산정 근거 전일 미국 국채 금리 가산 금리 합산 이후 년물 국고 금리 가산 금리 스텝업 금리 추가 지급 이자 누적 납입 동사 분기 비율 상승 예상 미국 금리 상승 추세 지속 전망 때문 도입 대비 선제 대응 긍정 목표 주가 업종 최선 호주 유지 이슈 브리프 생명 생명 목표 주가 추이 변동 일시 목표 가격 괴리율 일시 목표 가격 괴리율 최고 대비 최저 대비 평균 대비 최고 대비 최저 대비 평균 대비 변경 박혜진'"
      ]
     },
     "execution_count": 41,
     "metadata": {},
     "output_type": "execute_result"
    }
   ],
   "source": [
    "join_token(\"['건설', '유틸리티', '생명', '이슈', '브리프', '보험', '조원', '신종', '자본', '성공', '컨센서스', '대비', '상회', '부합', '평균', '거래', '대금', '억원', '외국인', '분율', '절대', '수익률', '상대', '수익률', '배당', '수익률', '재무', '데이터', '십억원', '매출', '영업', '이익', '순이익', '생명', '생명', '목표', '주가', '주가', '시가총액', '규모', '해외', '신종', '자본', '성공', '동사', '지난해', '국내', '억원', '전일', '달러', '규모', '해외', '신종', '자본', '언론보도', '기관', '입찰', '경쟁률', '기록', '신종', '자본', '상세', '만기', '연장', '가능', '조기상', '환권', '포함', '일로', '이후', '개월', '마다', '청구', '가능', '이자율', '고정', '이자율', '산정', '근거', '전일', '미국', '국채', '금리', '가산', '금리', '합산', '이후', '년물', '국고', '금리', '가산', '금리', '스텝업', '금리', '추가', '지급', '이자', '누적', '납입', '동사', '분기', '비율', '상승', '예상', '미국', '금리', '상승', '추세', '지속', '전망', '때문', '도입', '대비', '선제', '대응', '긍정', '목표', '주가', '업종', '최선', '호주', '유지', '이슈', '브리프', '생명', '생명', '목표', '주가', '추이', '변동', '일시', '목표', '가격', '괴리율', '일시', '목표', '가격', '괴리율', '최고', '대비', '최저', '대비', '평균', '대비', '최고', '대비', '최저', '대비', '평균', '대비', '변경', '박혜진']\")"
   ]
  },
  {
   "cell_type": "code",
   "execution_count": null,
   "id": "7235d8bd",
   "metadata": {},
   "outputs": [],
   "source": []
  },
  {
   "cell_type": "code",
   "execution_count": 6,
   "id": "016260a2",
   "metadata": {},
   "outputs": [],
   "source": [
    "import time"
   ]
  },
  {
   "cell_type": "code",
   "execution_count": 7,
   "id": "7540f1d9",
   "metadata": {},
   "outputs": [
    {
     "name": "stdout",
     "output_type": "stream",
     "text": [
      "Wall time: 56.6 s\n"
     ]
    }
   ],
   "source": [
    "%%time\n",
    "df['string'] = df['tokens'].apply(join_token)"
   ]
  },
  {
   "cell_type": "code",
   "execution_count": 8,
   "id": "28a49397",
   "metadata": {},
   "outputs": [
    {
     "data": {
      "text/plain": [
       "'건설 유틸리티 생명 이슈 브리프 보험 조원 신종 자본 성공 컨센서스 대비 상회 부합 평균 거래 대금 억원 외국인 분율 절대 수익률 상대 수익률 배당 수익률 재무 데이터 십억원 매출 영업 이익 순이익 생명 생명 목표 주가 주가 시가총액 규모 해외 신종 자본 성공 동사 지난해 국내 억원 전일 달러 규모 해외 신종 자본 언론보도 기관 입찰 경쟁률 기록 신종 자본 상세 만기 연장 가능 조기상 환권 포함 일로 이후 개월 마다 청구 가능 이자율 고정 이자율 산정 근거 전일 미국 국채 금리 가산 금리 합산 이후 년물 국고 금리 가산 금리 스텝업 금리 추가 지급 이자 누적 납입 동사 분기 비율 상승 예상 미국 금리 상승 추세 지속 전망 때문 도입 대비 선제 대응 긍정 목표 주가 업종 최선 호주 유지 이슈 브리프 생명 생명 목표 주가 추이 변동 일시 목표 가격 괴리율 일시 목표 가격 괴리율 최고 대비 최저 대비 평균 대비 최고 대비 최저 대비 평균 대비 변경 박혜진'"
      ]
     },
     "execution_count": 8,
     "metadata": {},
     "output_type": "execute_result"
    }
   ],
   "source": [
    "df.string[473108 ]"
   ]
  },
  {
   "cell_type": "code",
   "execution_count": 10,
   "id": "f2e4300d",
   "metadata": {
    "scrolled": true
   },
   "outputs": [
    {
     "data": {
      "text/html": [
       "<div>\n",
       "<style scoped>\n",
       "    .dataframe tbody tr th:only-of-type {\n",
       "        vertical-align: middle;\n",
       "    }\n",
       "\n",
       "    .dataframe tbody tr th {\n",
       "        vertical-align: top;\n",
       "    }\n",
       "\n",
       "    .dataframe thead th {\n",
       "        text-align: right;\n",
       "    }\n",
       "</style>\n",
       "<table border=\"1\" class=\"dataframe\">\n",
       "  <thead>\n",
       "    <tr style=\"text-align: right;\">\n",
       "      <th></th>\n",
       "      <th>작성일</th>\n",
       "      <th>code</th>\n",
       "      <th>투자의견</th>\n",
       "      <th>idx.1</th>\n",
       "      <th>report</th>\n",
       "      <th>tokens</th>\n",
       "      <th>string</th>\n",
       "    </tr>\n",
       "    <tr>\n",
       "      <th>idx</th>\n",
       "      <th></th>\n",
       "      <th></th>\n",
       "      <th></th>\n",
       "      <th></th>\n",
       "      <th></th>\n",
       "      <th></th>\n",
       "      <th></th>\n",
       "    </tr>\n",
       "  </thead>\n",
       "  <tbody>\n",
       "    <tr>\n",
       "      <th>473108</th>\n",
       "      <td>2018-04-18</td>\n",
       "      <td>88350</td>\n",
       "      <td>buy</td>\n",
       "      <td>473108</td>\n",
       "      <td>년 월 일 기업분석건설유틸리티 한화생명  기업이슈 브리프보험  년 월 일 ...</td>\n",
       "      <td>['건설', '유틸리티', '생명', '이슈', '브리프', '보험', '조원', ...</td>\n",
       "      <td>건설 유틸리티 생명 이슈 브리프 보험 조원 신종 자본 성공 컨센서스 대비 상회 부합...</td>\n",
       "    </tr>\n",
       "    <tr>\n",
       "      <th>380646</th>\n",
       "      <td>2016-05-23</td>\n",
       "      <td>92070</td>\n",
       "      <td>buy</td>\n",
       "      <td>380646</td>\n",
       "      <td>Microsoft PowerPoint  반도체산업전망 veditingFFpptxCo...</td>\n",
       "      <td>['반도체', '산업', '전망', '반도체', '디스플레이', '산업', '동향'...</td>\n",
       "      <td>반도체 산업 전망 반도체 디스플레이 산업 동향 산업 전망 산업 전망 반도체 디스플레...</td>\n",
       "    </tr>\n",
       "    <tr>\n",
       "      <th>329427</th>\n",
       "      <td>2014-07-29</td>\n",
       "      <td>270</td>\n",
       "      <td>buy</td>\n",
       "      <td>329427</td>\n",
       "      <td>Microsoft Word  CUNITdoc기아차 Q Review  하반기 해볼만하...</td>\n",
       "      <td>['기아차', '하반기', '만하', '원유', '이윤석', '주가', '상대', ...</td>\n",
       "      <td>기아차 하반기 만하 원유 이윤석 주가 상대 수익률 매수 유지 자본금 억원 식수 만주...</td>\n",
       "    </tr>\n",
       "    <tr>\n",
       "      <th>519412</th>\n",
       "      <td>2019-04-03</td>\n",
       "      <td>35720</td>\n",
       "      <td>buy</td>\n",
       "      <td>519412</td>\n",
       "      <td>년 월 일 기업분석건설유틸리티 카카오  기업이슈 브리프인터넷게임  년 월 ...</td>\n",
       "      <td>['건설', '유틸리티', '이슈', '브리프', '인터넷', '게임', '핵심',...</td>\n",
       "      <td>건설 유틸리티 이슈 브리프 인터넷 게임 핵심 이슈 점검 컨센서스 대비 기준 상회 부...</td>\n",
       "    </tr>\n",
       "    <tr>\n",
       "      <th>391416</th>\n",
       "      <td>2016-09-12</td>\n",
       "      <td>20560</td>\n",
       "      <td>buy</td>\n",
       "      <td>391416</td>\n",
       "      <td>Microsoft Word  아시아나항공     Research Center    ...</td>\n",
       "      <td>['아시아나', '항공', '아시아나', '항공', '운송', '엔터테인먼트', '...</td>\n",
       "      <td>아시아나 항공 아시아나 항공 운송 엔터테인먼트 정유석 유상증자 억원 하향 목표 주가...</td>\n",
       "    </tr>\n",
       "    <tr>\n",
       "      <th>...</th>\n",
       "      <td>...</td>\n",
       "      <td>...</td>\n",
       "      <td>...</td>\n",
       "      <td>...</td>\n",
       "      <td>...</td>\n",
       "      <td>...</td>\n",
       "      <td>...</td>\n",
       "    </tr>\n",
       "    <tr>\n",
       "      <th>272705</th>\n",
       "      <td>2011-11-14</td>\n",
       "      <td>830</td>\n",
       "      <td>strongbuy</td>\n",
       "      <td>272705</td>\n",
       "      <td>Microsoft Word  Type산업건설엔지니어링doc             중...</td>\n",
       "      <td>['산업', '건설', '엔지니어링', '중동', '발주', '지속', '가능성',...</td>\n",
       "      <td>산업 건설 엔지니어링 중동 발주 지속 가능성 건설 열매 박판 트위터 중동 국가 발주...</td>\n",
       "    </tr>\n",
       "    <tr>\n",
       "      <th>272587</th>\n",
       "      <td>2011-11-11</td>\n",
       "      <td>97230</td>\n",
       "      <td>strongbuy</td>\n",
       "      <td>272587</td>\n",
       "      <td>DFFFDCDCFCDFBFBEFFBEBEFBAEABAECCFFBCADCABFFBEB...</td>\n",
       "      <td>['한진', '중공업', '이제', '펀더멘털', '집중', '정덕', '목표', ...</td>\n",
       "      <td>한진 중공업 이제 펀더멘털 집중 정덕 목표 주가 주가 소속 업종 운수 창고 시가총액...</td>\n",
       "    </tr>\n",
       "    <tr>\n",
       "      <th>272570</th>\n",
       "      <td>2011-11-10</td>\n",
       "      <td>210</td>\n",
       "      <td>strongbuy</td>\n",
       "      <td>272570</td>\n",
       "      <td>Microsoft Word  IBSPPRdoc wwwwooriwmcom   분기 실...</td>\n",
       "      <td>['분기', '분기', '국내', '해외', '모든', '부문', '마진', '분기...</td>\n",
       "      <td>분기 분기 국내 해외 모든 부문 마진 분기 누적 신규 수주 합계 조원 가이던스 대비...</td>\n",
       "    </tr>\n",
       "    <tr>\n",
       "      <th>272294</th>\n",
       "      <td>2011-11-07</td>\n",
       "      <td>10620</td>\n",
       "      <td>strongbuy</td>\n",
       "      <td>272294</td>\n",
       "      <td>Microsoft Word  현대미포조선doc       현대미포조선     Big...</td>\n",
       "      <td>['대미', '조선', '대미', '조선', '대비', '과도', '할인', '거래...</td>\n",
       "      <td>대미 조선 대미 조선 대비 과도 할인 거래 조선 기계 분기 누적 신규 수주 달러 수...</td>\n",
       "    </tr>\n",
       "    <tr>\n",
       "      <th>272201</th>\n",
       "      <td>2011-11-04</td>\n",
       "      <td>33630</td>\n",
       "      <td>strongbuy</td>\n",
       "      <td>272201</td>\n",
       "      <td>Microsoft Word   SK브로드밴드doc       SK브로드밴드     ...</td>\n",
       "      <td>['브로드밴드', '브로드밴드', '성장', '전략', '통신', '미디어', '분...</td>\n",
       "      <td>브로드밴드 브로드밴드 성장 전략 통신 미디어 분기 연결 기준 흑자 전환 성공 박종수...</td>\n",
       "    </tr>\n",
       "  </tbody>\n",
       "</table>\n",
       "<p>21261 rows × 7 columns</p>\n",
       "</div>"
      ],
      "text/plain": [
       "               작성일   code       투자의견   idx.1  \\\n",
       "idx                                            \n",
       "473108  2018-04-18  88350        buy  473108   \n",
       "380646  2016-05-23  92070        buy  380646   \n",
       "329427  2014-07-29    270        buy  329427   \n",
       "519412  2019-04-03  35720        buy  519412   \n",
       "391416  2016-09-12  20560        buy  391416   \n",
       "...            ...    ...        ...     ...   \n",
       "272705  2011-11-14    830  strongbuy  272705   \n",
       "272587  2011-11-11  97230  strongbuy  272587   \n",
       "272570  2011-11-10    210  strongbuy  272570   \n",
       "272294  2011-11-07  10620  strongbuy  272294   \n",
       "272201  2011-11-04  33630  strongbuy  272201   \n",
       "\n",
       "                                                   report  \\\n",
       "idx                                                         \n",
       "473108       년 월 일 기업분석건설유틸리티 한화생명  기업이슈 브리프보험  년 월 일 ...   \n",
       "380646  Microsoft PowerPoint  반도체산업전망 veditingFFpptxCo...   \n",
       "329427  Microsoft Word  CUNITdoc기아차 Q Review  하반기 해볼만하...   \n",
       "519412       년 월 일 기업분석건설유틸리티 카카오  기업이슈 브리프인터넷게임  년 월 ...   \n",
       "391416  Microsoft Word  아시아나항공     Research Center    ...   \n",
       "...                                                   ...   \n",
       "272705  Microsoft Word  Type산업건설엔지니어링doc             중...   \n",
       "272587  DFFFDCDCFCDFBFBEFFBEBEFBAEABAECCFFBCADCABFFBEB...   \n",
       "272570  Microsoft Word  IBSPPRdoc wwwwooriwmcom   분기 실...   \n",
       "272294  Microsoft Word  현대미포조선doc       현대미포조선     Big...   \n",
       "272201  Microsoft Word   SK브로드밴드doc       SK브로드밴드     ...   \n",
       "\n",
       "                                                   tokens  \\\n",
       "idx                                                         \n",
       "473108  ['건설', '유틸리티', '생명', '이슈', '브리프', '보험', '조원', ...   \n",
       "380646  ['반도체', '산업', '전망', '반도체', '디스플레이', '산업', '동향'...   \n",
       "329427  ['기아차', '하반기', '만하', '원유', '이윤석', '주가', '상대', ...   \n",
       "519412  ['건설', '유틸리티', '이슈', '브리프', '인터넷', '게임', '핵심',...   \n",
       "391416  ['아시아나', '항공', '아시아나', '항공', '운송', '엔터테인먼트', '...   \n",
       "...                                                   ...   \n",
       "272705  ['산업', '건설', '엔지니어링', '중동', '발주', '지속', '가능성',...   \n",
       "272587  ['한진', '중공업', '이제', '펀더멘털', '집중', '정덕', '목표', ...   \n",
       "272570  ['분기', '분기', '국내', '해외', '모든', '부문', '마진', '분기...   \n",
       "272294  ['대미', '조선', '대미', '조선', '대비', '과도', '할인', '거래...   \n",
       "272201  ['브로드밴드', '브로드밴드', '성장', '전략', '통신', '미디어', '분...   \n",
       "\n",
       "                                                   string  \n",
       "idx                                                        \n",
       "473108  건설 유틸리티 생명 이슈 브리프 보험 조원 신종 자본 성공 컨센서스 대비 상회 부합...  \n",
       "380646  반도체 산업 전망 반도체 디스플레이 산업 동향 산업 전망 산업 전망 반도체 디스플레...  \n",
       "329427  기아차 하반기 만하 원유 이윤석 주가 상대 수익률 매수 유지 자본금 억원 식수 만주...  \n",
       "519412  건설 유틸리티 이슈 브리프 인터넷 게임 핵심 이슈 점검 컨센서스 대비 기준 상회 부...  \n",
       "391416  아시아나 항공 아시아나 항공 운송 엔터테인먼트 정유석 유상증자 억원 하향 목표 주가...  \n",
       "...                                                   ...  \n",
       "272705  산업 건설 엔지니어링 중동 발주 지속 가능성 건설 열매 박판 트위터 중동 국가 발주...  \n",
       "272587  한진 중공업 이제 펀더멘털 집중 정덕 목표 주가 주가 소속 업종 운수 창고 시가총액...  \n",
       "272570  분기 분기 국내 해외 모든 부문 마진 분기 누적 신규 수주 합계 조원 가이던스 대비...  \n",
       "272294  대미 조선 대미 조선 대비 과도 할인 거래 조선 기계 분기 누적 신규 수주 달러 수...  \n",
       "272201  브로드밴드 브로드밴드 성장 전략 통신 미디어 분기 연결 기준 흑자 전환 성공 박종수...  \n",
       "\n",
       "[21261 rows x 7 columns]"
      ]
     },
     "execution_count": 10,
     "metadata": {},
     "output_type": "execute_result"
    }
   ],
   "source": [
    "df"
   ]
  },
  {
   "cell_type": "code",
   "execution_count": 9,
   "id": "87d3d581",
   "metadata": {},
   "outputs": [],
   "source": [
    "df.to_csv('full_sample_data.csv')"
   ]
  },
  {
   "cell_type": "code",
   "execution_count": null,
   "id": "b8ed56f4",
   "metadata": {},
   "outputs": [],
   "source": []
  },
  {
   "cell_type": "code",
   "execution_count": 11,
   "id": "d58f030e",
   "metadata": {},
   "outputs": [],
   "source": [
    "x = df.string\n",
    "y = df.투자의견"
   ]
  },
  {
   "cell_type": "code",
   "execution_count": 12,
   "id": "e6c4ce89",
   "metadata": {},
   "outputs": [],
   "source": [
    "from sklearn.preprocessing import LabelEncoder"
   ]
  },
  {
   "cell_type": "code",
   "execution_count": 13,
   "id": "4d559762",
   "metadata": {},
   "outputs": [
    {
     "data": {
      "text/plain": [
       "LabelEncoder()"
      ]
     },
     "execution_count": 13,
     "metadata": {},
     "output_type": "execute_result"
    }
   ],
   "source": [
    "le = LabelEncoder()\n",
    "le.fit(y)"
   ]
  },
  {
   "cell_type": "code",
   "execution_count": 14,
   "id": "d7501755",
   "metadata": {},
   "outputs": [
    {
     "data": {
      "text/plain": [
       "array(['buy', 'neutral', 'sell', 'strongbuy'], dtype=object)"
      ]
     },
     "execution_count": 14,
     "metadata": {},
     "output_type": "execute_result"
    }
   ],
   "source": [
    "le.classes_"
   ]
  },
  {
   "cell_type": "code",
   "execution_count": 15,
   "id": "64853c0f",
   "metadata": {},
   "outputs": [],
   "source": [
    "y = le.transform(y)"
   ]
  },
  {
   "cell_type": "code",
   "execution_count": null,
   "id": "96ecb758",
   "metadata": {},
   "outputs": [],
   "source": []
  },
  {
   "cell_type": "code",
   "execution_count": 16,
   "id": "0e2379bf",
   "metadata": {},
   "outputs": [],
   "source": [
    "from sklearn.feature_extraction.text import CountVectorizer, TfidfVectorizer"
   ]
  },
  {
   "cell_type": "code",
   "execution_count": 17,
   "id": "8689bf2d",
   "metadata": {},
   "outputs": [],
   "source": [
    "import re\n",
    "\n",
    "def han_text_clean(text):\n",
    "    text = re.sub(\"[^가-힣ㄱ-ㅎa-zA-Z ]\", \"\", text)\n",
    "   \n",
    "    return text\n",
    "\n",
    "with open('stopwords-ko.txt', 'r', encoding = 'utf-8') as f:\n",
    "    sw1 = f.read()\n",
    "    sw1 = re.sub('\\\\n', ' ', sw1)\n",
    "    sw1 = sw1.split()\n",
    "\n",
    "stop_report = '리서치센터  Compliance Notice 본 조사분석자료는 제3자에게 사전 제공된 사실이 없습니다. 당사는 자료작성일 현재 본 조사분석자료에 언급된 종목의 지분을 1% 이상 보유하고 있지 않습니다. \\\n",
    "본 자료를 작성한 애널리스트는 자료작성일 현재 해당 종목과 재산적 이해관계가 없습니다. 본 자료에 게재된 내용은 본인의 의견을 정확하게 반영하고 있으며, 외부의 부당한 압력이나 간섭 없이 신의 성실하게 작성되었음을 확인합니다. \\\n",
    "본 자료는 투자자들의 투자판단에 참고가 되는 정보제공을 목적으로 배포되는 자료입니다. 본 자료에 수록된 내용은 당사 리서치센터의 추정치로서 오차가 발생할 수 있으며 정확성이나 완벽성은 보장하지 않습니다. \\\n",
    "본 자료를 이용하시는 분은 본 자료와 관련한 투자의 최종 결정은 자신의 판단으로 하시기 바랍니다. 따라서 어떠한 경우에도 본 자료는 투자 결과와 관련한 법적 책임소재의 증빙자료로 사용될 수 없습니다. \\\n",
    "본 조사분석자료는 당사 고객에 한하여 배포되는 자료로 당사의 허락 없이 복사, 대여, 배포 될 수 없습니다.\\\n",
    "투자등급 이 자료에 게재된 내용들은 본인의 의견을 정확하게 반영하고 있으며, 외부의 부당한 압력이나 간섭없이 작성되었음을 확인합니다.(작성자 : 하준두) 자료 제공일 현재\\\n",
    "당사는 상기 회사가 발행한 주식을 1% 이상 보유하고 있지 않습니다. 자료 제공일 현재 당사는 지난 1년간 상기 회사의 최초 증권시장 상장시 대표 주관사로 참여한 적이 없습니다. \\\n",
    "자료제공일 현재 조사분석 담당자는 상기회사가 발행한 주식 및 주식관련사채에 대하여 규정상 고지하여야 할 재산적 이해관계가 없으며, 추천의견을 제시함에 있어 어떠한 금전적 보상과도 연계되어 있지 않습니다. \\\n",
    "당자료는 상기 회사 및 상기회사의 유가증권에 대한 조사분석담당자의 의견을 정확히 반영하고있으나 이는 자료제공일 현재 시점에서의 의견 및 추정치로서 실적치와 오차가 발생할 수 있으며, \\\n",
    "투자를 유도할 목적이 아니라 투자자의 투자판단에 참고가 되는 정보제공을 목적으로 하고 있습니다. 따라서 종목의 선택이나 투자의 최종결정은 투자자 자신의 판단으로 하시기 바랍니다. \\\n",
    "Analyst, 증권,한화투자증권, 하이투자증권, 대신증권, SK증권, IBK투자증권, 키움증권, 이베스트증권,유안타증권, 메리츠증권, 유진투자증권, 카카오페이증권, 한양증권, 하나금융투자, 교보증권, \\\n",
    "현대차투자증권, 메리츠종금증권, 삼성증권, KTB투자증권, 신한금융투자, 한국투자증권,미래에셋대우, KB증권, 미래에셋증권, 하나대투증권, HMC투자증권, NH농협증권, 현대증권,\\\n",
    "동양증권, KDB대우증권, 이트레이드증권, 우리투자증권, 하이증권, 우리증권, 신한금융,대우증권, NH증권, 유진증권, 한투증권, 한화증권, 한화투자증권, 작성자, 한화리서치, 기업, 코멘트,Microsoft, Word,PowerPoint,IBSPPRdoc,CUNITdoc'\n",
    "\n",
    "stop_report = re.sub(\"[^가-힣ㄱ-ㅎa-zA-Z ]\", \"\", stop_report)\n",
    "  \n",
    "sw2 = okt.nouns(han_text_clean(stop_report))\n",
    "\n",
    "stopwords = sw1 + sw2"
   ]
  },
  {
   "cell_type": "code",
   "execution_count": 18,
   "id": "5d0f6156",
   "metadata": {},
   "outputs": [],
   "source": [
    "from sklearn.model_selection import train_test_split\n",
    "\n",
    "x_train, x_test, y_train, y_test = train_test_split(x,y, random_state = 42)"
   ]
  },
  {
   "cell_type": "code",
   "execution_count": null,
   "id": "adb66228",
   "metadata": {},
   "outputs": [],
   "source": []
  },
  {
   "cell_type": "markdown",
   "id": "2305c12f",
   "metadata": {},
   "source": [
    "## joined_tokens"
   ]
  },
  {
   "cell_type": "code",
   "execution_count": null,
   "id": "60388de5",
   "metadata": {},
   "outputs": [],
   "source": []
  },
  {
   "cell_type": "markdown",
   "id": "6f5868d7",
   "metadata": {},
   "source": [
    "### ver1 \n",
    "### parameter : same as contens"
   ]
  },
  {
   "cell_type": "code",
   "execution_count": 62,
   "id": "6b3c1068",
   "metadata": {
    "collapsed": true
   },
   "outputs": [
    {
     "name": "stdout",
     "output_type": "stream",
     "text": [
      "Wall time: 17.2 s\n"
     ]
    },
    {
     "data": {
      "text/plain": [
       "TfidfVectorizer(max_df=0.7, max_features=10000, min_df=100,\n",
       "                stop_words=['가', '가까스로', '가령', '각', '각각', '각자', '각종', '갖고말하자면',\n",
       "                            '같다', '같이', '개의치않고', '거니와', '거바', '거의', '것', '것과',\n",
       "                            '같이', '것들', '게다가', '게우다', '겨우', '견지에서', '결과에',\n",
       "                            '이르다', '결국', '결론을', '낼', '수', '있다', '겸사겸사', ...])"
      ]
     },
     "execution_count": 62,
     "metadata": {},
     "output_type": "execute_result"
    }
   ],
   "source": [
    "# 360배 빠름\n",
    "\n",
    "%%time\n",
    "\n",
    "tfidf_vect = TfidfVectorizer(stop_words = stopwords,min_df = 100,max_df =0.7, max_features = 10000)\n",
    "tfidf_vect.fit(x_train)"
   ]
  },
  {
   "cell_type": "code",
   "execution_count": 63,
   "id": "fc63f69e",
   "metadata": {},
   "outputs": [],
   "source": [
    "# 360배 빠름\n",
    "x_train_tfidf_vect = tfidf_vect.transform(x_train)\n",
    "x_test_tfidf_vect = tfidf_vect.transform(x_test)"
   ]
  },
  {
   "cell_type": "code",
   "execution_count": 89,
   "id": "287d5c71",
   "metadata": {},
   "outputs": [
    {
     "data": {
      "text/plain": [
       "(5316, 6124)"
      ]
     },
     "execution_count": 89,
     "metadata": {},
     "output_type": "execute_result"
    }
   ],
   "source": [
    "x_test_tfidf_vect.shape"
   ]
  },
  {
   "cell_type": "code",
   "execution_count": 19,
   "id": "2586ed6c",
   "metadata": {},
   "outputs": [],
   "source": [
    "# from sklearn.linear_model import LogisticRegression # multi\n",
    "from sklearn.neighbors import KNeighborsClassifier\n",
    "from sklearn.tree import DecisionTreeClassifier\n",
    "from sklearn.ensemble import RandomForestClassifier,AdaBoostClassifier\n",
    "from lightgbm import LGBMClassifier\n",
    "from sklearn.ensemble import GradientBoostingClassifier\n",
    "from xgboost import XGBClassifier\n",
    "from sklearn.neural_network import MLPClassifier\n",
    "from sklearn.gaussian_process import GaussianProcessClassifier\n",
    "from sklearn.gaussian_process.kernels import RBF"
   ]
  },
  {
   "cell_type": "code",
   "execution_count": 20,
   "id": "05597a5c",
   "metadata": {},
   "outputs": [],
   "source": [
    "knn = KNeighborsClassifier()\n",
    "dtc = DecisionTreeClassifier()\n",
    "rtc = RandomForestClassifier()\n",
    "ada = AdaBoostClassifier()\n",
    "lgb = LGBMClassifier()\n",
    "gdb = GradientBoostingClassifier()\n",
    "xgb = XGBClassifier(eval_metric='logloss')\n",
    "mpl = MLPClassifier()"
   ]
  },
  {
   "cell_type": "code",
   "execution_count": 67,
   "id": "8e0aa45f",
   "metadata": {},
   "outputs": [
    {
     "name": "stdout",
     "output_type": "stream",
     "text": [
      "KNeighborsClassifier\n",
      "0.756475384132957\n",
      "0.6363807373965388\n",
      "\n",
      "DecisionTreeClassifier\n",
      "0.9716525556600816\n",
      "0.6386380737396539\n",
      "\n",
      "RandomForestClassifier\n",
      "0.9716525556600816\n",
      "0.7042889390519187\n",
      "\n",
      "AdaBoostClassifier\n",
      "0.6362496080275949\n",
      "0.6190744920993227\n",
      "\n",
      "LGBMClassifier\n",
      "0.9486986516149263\n",
      "0.7752069224981188\n",
      "\n",
      "GradientBoostingClassifier\n",
      "0.7970523675133271\n",
      "0.7325056433408578\n",
      "\n"
     ]
    },
    {
     "name": "stderr",
     "output_type": "stream",
     "text": [
      "C:\\Users\\ILSOO\\anaconda3\\lib\\site-packages\\xgboost\\sklearn.py:1146: UserWarning: The use of label encoder in XGBClassifier is deprecated and will be removed in a future release. To remove this warning, do the following: 1) Pass option use_label_encoder=False when constructing XGBClassifier object; and 2) Encode your labels (y) as integers starting with 0, i.e. 0, 1, 2, ..., [num_class - 1].\n",
      "  warnings.warn(label_encoder_deprecation_msg, UserWarning)\n"
     ]
    },
    {
     "name": "stdout",
     "output_type": "stream",
     "text": [
      "XGBClassifier\n",
      "0.9544684854186265\n",
      "0.7658013544018059\n",
      "\n",
      "MLPClassifier\n",
      "0.9708999686422076\n",
      "0.718961625282167\n",
      "\n"
     ]
    }
   ],
   "source": [
    "models=[knn,dtc,rtc,ada,lgb,gdb,xgb,mpl]\n",
    "for m in models :\n",
    "    m.fit(x_train_tfidf_vect,y_train)\n",
    "    print(m.__class__.__name__)\n",
    "    print(m.score(x_train_tfidf_vect, y_train))\n",
    "    print(m.score(x_test_tfidf_vect,y_test))\n",
    "    print()\n"
   ]
  },
  {
   "cell_type": "code",
   "execution_count": null,
   "id": "794fa7bc",
   "metadata": {},
   "outputs": [],
   "source": []
  },
  {
   "cell_type": "code",
   "execution_count": null,
   "id": "b0c69e23",
   "metadata": {},
   "outputs": [],
   "source": []
  },
  {
   "cell_type": "markdown",
   "id": "4f42528f",
   "metadata": {},
   "source": [
    "### ver.2\n",
    "### Parameters  : min_df = 50"
   ]
  },
  {
   "cell_type": "code",
   "execution_count": null,
   "id": "16b77acc",
   "metadata": {},
   "outputs": [],
   "source": [
    "from sklearn.preprocessing import LabelEncoder"
   ]
  },
  {
   "cell_type": "code",
   "execution_count": null,
   "id": "371a139e",
   "metadata": {},
   "outputs": [],
   "source": [
    "le = LabelEncoder()\n",
    "le.fit(y)\n",
    "y = le.transform(y)"
   ]
  },
  {
   "cell_type": "code",
   "execution_count": null,
   "id": "e140ebb9",
   "metadata": {},
   "outputs": [],
   "source": [
    "x_train, x_test, y_train, y_test = train_test_split(x,y, random_state = 42)"
   ]
  },
  {
   "cell_type": "code",
   "execution_count": 69,
   "id": "58c157f8",
   "metadata": {},
   "outputs": [
    {
     "name": "stdout",
     "output_type": "stream",
     "text": [
      "Wall time: 17.1 s\n"
     ]
    },
    {
     "data": {
      "text/plain": [
       "TfidfVectorizer(max_df=0.8, max_features=10000, min_df=50,\n",
       "                stop_words=['가', '가까스로', '가령', '각', '각각', '각자', '각종', '갖고말하자면',\n",
       "                            '같다', '같이', '개의치않고', '거니와', '거바', '거의', '것', '것과',\n",
       "                            '같이', '것들', '게다가', '게우다', '겨우', '견지에서', '결과에',\n",
       "                            '이르다', '결국', '결론을', '낼', '수', '있다', '겸사겸사', ...])"
      ]
     },
     "execution_count": 69,
     "metadata": {},
     "output_type": "execute_result"
    }
   ],
   "source": [
    "%%time\n",
    "\n",
    "tfidf_vect_50 = TfidfVectorizer(stop_words = stopwords, min_df = 50,max_df =0.8, max_features = 10000)\n",
    "tfidf_vect_50.fit(x_train)"
   ]
  },
  {
   "cell_type": "code",
   "execution_count": 70,
   "id": "5e3a0871",
   "metadata": {},
   "outputs": [],
   "source": [
    "x_train_tfidf_vect_50 = tfidf_vect_50.transform(x_train)\n",
    "x_test_tfidf_vect_50 = tfidf_vect_50.transform(x_test)"
   ]
  },
  {
   "cell_type": "code",
   "execution_count": 71,
   "id": "5bfaa0d3",
   "metadata": {},
   "outputs": [
    {
     "data": {
      "text/plain": [
       "(5316, 9577)"
      ]
     },
     "execution_count": 71,
     "metadata": {},
     "output_type": "execute_result"
    }
   ],
   "source": [
    "x_test_tfidf_vect_50.shape"
   ]
  },
  {
   "cell_type": "code",
   "execution_count": 72,
   "id": "d64db1ba",
   "metadata": {},
   "outputs": [],
   "source": [
    "knn = KNeighborsClassifier()\n",
    "dtc = DecisionTreeClassifier()\n",
    "rtc = RandomForestClassifier()\n",
    "ada = AdaBoostClassifier()\n",
    "lgb = LGBMClassifier()\n",
    "gdb = GradientBoostingClassifier()\n",
    "xgb = XGBClassifier(eval_metric='logloss',use_label_encoder=False)\n",
    "mpl = MLPClassifier()"
   ]
  },
  {
   "cell_type": "code",
   "execution_count": 90,
   "id": "591df2e2",
   "metadata": {},
   "outputs": [
    {
     "name": "stdout",
     "output_type": "stream",
     "text": [
      "KNeighborsClassifier\n",
      "0.7645029789902791\n",
      "0.6425884123401053\n",
      "\n",
      "DecisionTreeClassifier\n",
      "0.97184070241455\n",
      "0.6378856282919488\n",
      "\n",
      "RandomForestClassifier\n",
      "0.97184070241455\n",
      "0.7005267118133935\n",
      "\n",
      "AdaBoostClassifier\n",
      "0.6444026340545626\n",
      "0.6313017306245298\n",
      "\n",
      "LGBMClassifier\n",
      "0.9510818438381938\n",
      "0.7851768246802107\n",
      "\n",
      "GradientBoostingClassifier\n",
      "0.8029476324866729\n",
      "0.7471783295711061\n",
      "\n",
      "XGBClassifier\n",
      "0.9589212919410474\n",
      "0.7785929270127916\n",
      "\n",
      "MLPClassifier\n",
      "0.9708372530573848\n",
      "0.7167042889390519\n",
      "\n"
     ]
    }
   ],
   "source": [
    "# accuracy\n",
    "\n",
    "models=[knn,dtc,rtc,ada,lgb,gdb,xgb,mpl]\n",
    "for m in models :\n",
    "    m.fit(x_train_tfidf_vect_50,y_train)\n",
    "    print(m.__class__.__name__)\n",
    "    print(m.score(x_train_tfidf_vect_50, y_train))\n",
    "    print(m.score(x_test_tfidf_vect_50,y_test))\n",
    "    print()"
   ]
  },
  {
   "cell_type": "code",
   "execution_count": null,
   "id": "5f101838",
   "metadata": {},
   "outputs": [],
   "source": []
  },
  {
   "cell_type": "code",
   "execution_count": null,
   "id": "59ac7844",
   "metadata": {},
   "outputs": [],
   "source": []
  },
  {
   "cell_type": "markdown",
   "id": "cf63e0e3",
   "metadata": {},
   "source": [
    "### ver.3\n",
    "### Parameters  : min_df = 50, ngram_range = (1, 2), sublinear_tf = True"
   ]
  },
  {
   "cell_type": "code",
   "execution_count": 93,
   "id": "6a0458c4",
   "metadata": {},
   "outputs": [
    {
     "name": "stdout",
     "output_type": "stream",
     "text": [
      "Wall time: 52.3 s\n"
     ]
    },
    {
     "data": {
      "text/plain": [
       "TfidfVectorizer(max_df=0.8, max_features=10000, min_df=50, ngram_range=(1, 2),\n",
       "                stop_words=['가', '가까스로', '가령', '각', '각각', '각자', '각종', '갖고말하자면',\n",
       "                            '같다', '같이', '개의치않고', '거니와', '거바', '거의', '것', '것과',\n",
       "                            '같이', '것들', '게다가', '게우다', '겨우', '견지에서', '결과에',\n",
       "                            '이르다', '결국', '결론을', '낼', '수', '있다', '겸사겸사', ...],\n",
       "                sublinear_tf=True)"
      ]
     },
     "execution_count": 93,
     "metadata": {},
     "output_type": "execute_result"
    }
   ],
   "source": [
    "%%time\n",
    "\n",
    "tfidf_vect_p = TfidfVectorizer(stop_words = stopwords, min_df = 50,max_df =0.8, max_features = 10000,\\\n",
    "                                ngram_range = (1, 2),sublinear_tf = True) # TF의 이상치 제거\n",
    "tfidf_vect_p.fit(x_train)"
   ]
  },
  {
   "cell_type": "code",
   "execution_count": 94,
   "id": "5edbffa2",
   "metadata": {},
   "outputs": [
    {
     "name": "stdout",
     "output_type": "stream",
     "text": [
      "Wall time: 53.7 s\n"
     ]
    }
   ],
   "source": [
    "%%time\n",
    "x_train_tfidf_vect_p = tfidf_vect_p.transform(x_train)\n",
    "x_test_tfidf_vect_p = tfidf_vect_p.transform(x_test)"
   ]
  },
  {
   "cell_type": "code",
   "execution_count": 95,
   "id": "8fabb8fa",
   "metadata": {},
   "outputs": [
    {
     "data": {
      "text/plain": [
       "(5316, 10000)"
      ]
     },
     "execution_count": 95,
     "metadata": {},
     "output_type": "execute_result"
    }
   ],
   "source": [
    "x_test_tfidf_vect_p.shape"
   ]
  },
  {
   "cell_type": "code",
   "execution_count": 96,
   "id": "fafaee82",
   "metadata": {},
   "outputs": [
    {
     "name": "stdout",
     "output_type": "stream",
     "text": [
      "KNeighborsClassifier\n",
      "0.7485732204452806\n",
      "0.6064710308502633\n",
      "\n",
      "DecisionTreeClassifier\n",
      "0.9722797115083098\n",
      "0.6852896914973664\n",
      "\n",
      "RandomForestClassifier\n",
      "0.9722797115083098\n",
      "0.7469902182091799\n",
      "\n",
      "AdaBoostClassifier\n",
      "0.6679209783631233\n",
      "0.6491723100075244\n",
      "\n",
      "LGBMClassifier\n",
      "0.9638131075572279\n",
      "0.8043641835966893\n",
      "\n",
      "GradientBoostingClassifier\n",
      "0.8319222326748197\n",
      "0.7654251316779533\n",
      "\n",
      "XGBClassifier\n",
      "0.9657572906867357\n",
      "0.7964635063957863\n",
      "\n",
      "MLPClassifier\n",
      "0.9701473816243337\n",
      "0.7910082768999247\n",
      "\n"
     ]
    }
   ],
   "source": [
    "# accuracy\n",
    "\n",
    "models=[knn,dtc,rtc,ada,lgb,gdb,xgb,mpl]\n",
    "for m in models :\n",
    "    m.fit(x_train_tfidf_vect_p,y_train)\n",
    "    print(m.__class__.__name__)\n",
    "    print(m.score(x_train_tfidf_vect_p, y_train))\n",
    "    print(m.score(x_test_tfidf_vect_p,y_test))\n",
    "    print()"
   ]
  },
  {
   "cell_type": "code",
   "execution_count": 99,
   "id": "488ef36a",
   "metadata": {},
   "outputs": [],
   "source": [
    "from sklearn.metrics import classification_report, confusion_matrix"
   ]
  },
  {
   "cell_type": "code",
   "execution_count": 100,
   "id": "19ff63da",
   "metadata": {},
   "outputs": [
    {
     "name": "stdout",
     "output_type": "stream",
     "text": [
      "RandomForestClassifier\n",
      "              precision    recall  f1-score   support\n",
      "\n",
      "           0       0.70      0.87      0.78      2509\n",
      "           1       0.74      0.50      0.60      1266\n",
      "           2       0.89      0.83      0.86      1246\n",
      "           3       0.65      0.40      0.50       295\n",
      "\n",
      "    accuracy                           0.75      5316\n",
      "   macro avg       0.75      0.65      0.68      5316\n",
      "weighted avg       0.75      0.75      0.74      5316\n",
      "\n",
      "\n",
      "LGBMClassifier\n",
      "              precision    recall  f1-score   support\n",
      "\n",
      "           0       0.78      0.85      0.82      2509\n",
      "           1       0.77      0.68      0.72      1266\n",
      "           2       0.90      0.88      0.89      1246\n",
      "           3       0.69      0.62      0.65       295\n",
      "\n",
      "    accuracy                           0.80      5316\n",
      "   macro avg       0.79      0.76      0.77      5316\n",
      "weighted avg       0.80      0.80      0.80      5316\n",
      "\n",
      "\n",
      "XGBClassifier\n",
      "              precision    recall  f1-score   support\n",
      "\n",
      "           0       0.78      0.85      0.81      2509\n",
      "           1       0.77      0.66      0.71      1266\n",
      "           2       0.90      0.88      0.89      1246\n",
      "           3       0.67      0.59      0.63       295\n",
      "\n",
      "    accuracy                           0.80      5316\n",
      "   macro avg       0.78      0.74      0.76      5316\n",
      "weighted avg       0.80      0.80      0.79      5316\n",
      "\n",
      "\n",
      "MLPClassifier\n",
      "              precision    recall  f1-score   support\n",
      "\n",
      "           0       0.80      0.80      0.80      2509\n",
      "           1       0.71      0.72      0.71      1266\n",
      "           2       0.88      0.87      0.87      1246\n",
      "           3       0.67      0.68      0.68       295\n",
      "\n",
      "    accuracy                           0.79      5316\n",
      "   macro avg       0.76      0.77      0.77      5316\n",
      "weighted avg       0.79      0.79      0.79      5316\n",
      "\n",
      "\n"
     ]
    }
   ],
   "source": [
    "# classification_report\n",
    "\n",
    "models=[rtc,lgb,xgb,mpl]\n",
    "for m in models :\n",
    "    \n",
    "    m.fit(x_train_tfidf_vect_p, y_train)\n",
    "    preds = m.predict(x_test_tfidf_vect_p)\n",
    "    print(m.__class__.__name__)\n",
    "    print(classification_report(y_test,preds))\n",
    "    print()"
   ]
  },
  {
   "cell_type": "code",
   "execution_count": null,
   "id": "0b5ff62b",
   "metadata": {},
   "outputs": [],
   "source": []
  },
  {
   "cell_type": "code",
   "execution_count": 101,
   "id": "aebc8b9f",
   "metadata": {},
   "outputs": [
    {
     "name": "stdout",
     "output_type": "stream",
     "text": [
      "0.9682659140796488\n",
      "0.7989089541008277\n"
     ]
    }
   ],
   "source": [
    "lgb = LGBMClassifier(max_depth = -1, num_leaves = 80)\n",
    "lgb.fit(x_train_tfidf_vect_p,y_train)\n",
    "print(lgb.score(x_train_tfidf_vect_p, y_train))\n",
    "print(lgb.score(x_test_tfidf_vect_p,y_test))"
   ]
  },
  {
   "cell_type": "code",
   "execution_count": 102,
   "id": "529ffd77",
   "metadata": {},
   "outputs": [
    {
     "name": "stdout",
     "output_type": "stream",
     "text": [
      "0.9722797115083098\n",
      "0.8011662904439428\n"
     ]
    }
   ],
   "source": [
    "lgb = LGBMClassifier(max_depth = -1, num_leaves = 200)\n",
    "lgb.fit(x_train_tfidf_vect_p,y_train)\n",
    "print(lgb.score(x_train_tfidf_vect_p, y_train))\n",
    "print(lgb.score(x_test_tfidf_vect_p,y_test))"
   ]
  },
  {
   "cell_type": "code",
   "execution_count": 103,
   "id": "0b51a327",
   "metadata": {},
   "outputs": [
    {
     "name": "stdout",
     "output_type": "stream",
     "text": [
      "0.9722797115083098\n",
      "0.7974040632054176\n"
     ]
    }
   ],
   "source": [
    "lgb = LGBMClassifier(max_depth = -1, num_leaves = 400)\n",
    "lgb.fit(x_train_tfidf_vect_p,y_train)\n",
    "print(lgb.score(x_train_tfidf_vect_p, y_train))\n",
    "print(lgb.score(x_test_tfidf_vect_p,y_test))"
   ]
  },
  {
   "cell_type": "code",
   "execution_count": null,
   "id": "55f7730f",
   "metadata": {},
   "outputs": [],
   "source": []
  },
  {
   "cell_type": "code",
   "execution_count": 111,
   "id": "907237e4",
   "metadata": {},
   "outputs": [
    {
     "name": "stdout",
     "output_type": "stream",
     "text": [
      "0.9526497334587645\n",
      "0.8030474040632054\n"
     ]
    }
   ],
   "source": [
    "lgb = LGBMClassifier(max_depth = -1,learning_rate =0.08)\n",
    "lgb.fit(x_train_tfidf_vect_p,y_train)\n",
    "print(lgb.score(x_train_tfidf_vect_p, y_train))\n",
    "print(lgb.score(x_test_tfidf_vect_p,y_test))"
   ]
  },
  {
   "cell_type": "code",
   "execution_count": 112,
   "id": "07d3a75e",
   "metadata": {},
   "outputs": [
    {
     "name": "stdout",
     "output_type": "stream",
     "text": [
      "0.9711508309814989\n",
      "0.8058690744920993\n"
     ]
    }
   ],
   "source": [
    "lgb = LGBMClassifier(max_depth = -1,learning_rate =0.15)\n",
    "lgb.fit(x_train_tfidf_vect_p,y_train)\n",
    "print(lgb.score(x_train_tfidf_vect_p, y_train))\n",
    "print(lgb.score(x_test_tfidf_vect_p,y_test))"
   ]
  },
  {
   "cell_type": "code",
   "execution_count": 115,
   "id": "9a0bfe29",
   "metadata": {},
   "outputs": [],
   "source": [
    "from sklearn.model_selection import KFold ,StratifiedKFold"
   ]
  },
  {
   "cell_type": "code",
   "execution_count": null,
   "id": "5871ae31",
   "metadata": {},
   "outputs": [],
   "source": [
    "# %%time\n",
    "# from sklearn.model_selection import GridSearchCV\n",
    "\n",
    "# cv = StratifiedKFold(5, shuffle=True, random_state=42)\n",
    "# params = { \n",
    "#     'learning_rate': [0.05,0.1,0.15,0.2],\n",
    "#     'max_depth' : [7,9,11],\n",
    "#     'num_leaves' :[20,50,80]}\n",
    "\n",
    "# grid=GridSearchCV(LGBMClassifier(),param_grid=params,cv=cv,\\\n",
    "#                   refit=True, verbose=True, n_jobs=-1)\n",
    "# grid.fit(x_train_tfidf_vect_p, y_train)"
   ]
  },
  {
   "cell_type": "code",
   "execution_count": null,
   "id": "34ce2a10",
   "metadata": {},
   "outputs": [],
   "source": []
  },
  {
   "cell_type": "code",
   "execution_count": null,
   "id": "c3bb931b",
   "metadata": {},
   "outputs": [],
   "source": []
  },
  {
   "cell_type": "code",
   "execution_count": null,
   "id": "698e1e14",
   "metadata": {},
   "outputs": [],
   "source": []
  },
  {
   "cell_type": "code",
   "execution_count": null,
   "id": "bb4dcf50",
   "metadata": {},
   "outputs": [],
   "source": []
  },
  {
   "cell_type": "code",
   "execution_count": 25,
   "id": "fe0a44d6",
   "metadata": {},
   "outputs": [
    {
     "name": "stdout",
     "output_type": "stream",
     "text": [
      "Wall time: 2min 3s\n"
     ]
    },
    {
     "data": {
      "text/plain": [
       "TfidfVectorizer(max_df=0.8, max_features=15000, min_df=100, ngram_range=(1, 3),\n",
       "                stop_words=['가', '가까스로', '가령', '각', '각각', '각자', '각종', '갖고말하자면',\n",
       "                            '같다', '같이', '개의치않고', '거니와', '거바', '거의', '것', '것과',\n",
       "                            '같이', '것들', '게다가', '게우다', '겨우', '견지에서', '결과에',\n",
       "                            '이르다', '결국', '결론을', '낼', '수', '있다', '겸사겸사', ...],\n",
       "                sublinear_tf=True)"
      ]
     },
     "execution_count": 25,
     "metadata": {},
     "output_type": "execute_result"
    }
   ],
   "source": [
    "%%time\n",
    "\n",
    "tfidf_vect_p = TfidfVectorizer(stop_words = stopwords, min_df = 100,max_df =0.8, max_features = 15000,\\\n",
    "                                ngram_range = (1, 3),sublinear_tf = True) # TF의 이상치 제거\n",
    "tfidf_vect_p.fit(x_train)"
   ]
  },
  {
   "cell_type": "code",
   "execution_count": 26,
   "id": "218b6fe2",
   "metadata": {},
   "outputs": [
    {
     "name": "stdout",
     "output_type": "stream",
     "text": [
      "Wall time: 1min 17s\n"
     ]
    }
   ],
   "source": [
    "%%time\n",
    "x_train_tfidf_vect_p = tfidf_vect_p.transform(x_train)\n",
    "x_test_tfidf_vect_p = tfidf_vect_p.transform(x_test)"
   ]
  },
  {
   "cell_type": "code",
   "execution_count": null,
   "id": "b00a46f8",
   "metadata": {},
   "outputs": [],
   "source": []
  },
  {
   "cell_type": "code",
   "execution_count": 27,
   "id": "b2381c4b",
   "metadata": {},
   "outputs": [
    {
     "data": {
      "text/plain": [
       "(5316, 15000)"
      ]
     },
     "execution_count": 27,
     "metadata": {},
     "output_type": "execute_result"
    }
   ],
   "source": [
    "x_test_tfidf_vect_p.shape"
   ]
  },
  {
   "cell_type": "code",
   "execution_count": 28,
   "id": "b5e43ed7",
   "metadata": {},
   "outputs": [
    {
     "name": "stdout",
     "output_type": "stream",
     "text": [
      "KNeighborsClassifier\n",
      "0.7559109438695516\n",
      "0.6339352896914974\n",
      "\n",
      "DecisionTreeClassifier\n",
      "0.9722797115083098\n",
      "0.671933784800602\n",
      "\n",
      "RandomForestClassifier\n",
      "0.9722797115083098\n",
      "0.755079006772009\n",
      "\n",
      "AdaBoostClassifier\n",
      "0.6704296017560364\n",
      "0.6536869826937547\n",
      "\n",
      "LGBMClassifier\n",
      "0.9640012543116965\n",
      "0.8039879608728367\n",
      "\n",
      "GradientBoostingClassifier\n",
      "0.8293508936970837\n",
      "0.763732129420617\n",
      "\n",
      "XGBClassifier\n",
      "0.9654437127626215\n",
      "0.8039879608728367\n",
      "\n",
      "MLPClassifier\n",
      "0.9705236751332706\n",
      "0.79477050413845\n",
      "\n",
      "Wall time: 41min 10s\n"
     ]
    }
   ],
   "source": [
    "%%time\n",
    "# accuracy\n",
    "\n",
    "models=[knn,dtc,rtc,ada,lgb,gdb,xgb,mpl]\n",
    "for m in models :\n",
    "    m.fit(x_train_tfidf_vect_p,y_train)\n",
    "    print(m.__class__.__name__)\n",
    "    print(m.score(x_train_tfidf_vect_p, y_train))\n",
    "    print(m.score(x_test_tfidf_vect_p,y_test))\n",
    "    print()"
   ]
  },
  {
   "cell_type": "code",
   "execution_count": null,
   "id": "4dd66b4c",
   "metadata": {},
   "outputs": [],
   "source": []
  },
  {
   "cell_type": "code",
   "execution_count": null,
   "id": "6e719c71",
   "metadata": {},
   "outputs": [],
   "source": []
  },
  {
   "cell_type": "code",
   "execution_count": null,
   "id": "b714c28c",
   "metadata": {},
   "outputs": [],
   "source": []
  },
  {
   "cell_type": "code",
   "execution_count": null,
   "id": "dcd92bfa",
   "metadata": {},
   "outputs": [],
   "source": []
  },
  {
   "cell_type": "code",
   "execution_count": null,
   "id": "1e94a1f7",
   "metadata": {},
   "outputs": [],
   "source": []
  },
  {
   "cell_type": "code",
   "execution_count": null,
   "id": "a520249b",
   "metadata": {},
   "outputs": [],
   "source": []
  },
  {
   "cell_type": "code",
   "execution_count": null,
   "id": "7e427678",
   "metadata": {},
   "outputs": [],
   "source": []
  },
  {
   "cell_type": "code",
   "execution_count": null,
   "id": "1381569c",
   "metadata": {},
   "outputs": [],
   "source": []
  },
  {
   "cell_type": "code",
   "execution_count": null,
   "id": "4c88efcf",
   "metadata": {},
   "outputs": [],
   "source": []
  }
 ],
 "metadata": {
  "kernelspec": {
   "display_name": "Python 3",
   "language": "python",
   "name": "python3"
  },
  "language_info": {
   "codemirror_mode": {
    "name": "ipython",
    "version": 3
   },
   "file_extension": ".py",
   "mimetype": "text/x-python",
   "name": "python",
   "nbconvert_exporter": "python",
   "pygments_lexer": "ipython3",
   "version": "3.8.8"
  }
 },
 "nbformat": 4,
 "nbformat_minor": 5
}
